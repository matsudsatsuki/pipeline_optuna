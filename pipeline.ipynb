{
 "cells": [
  {
   "cell_type": "code",
   "execution_count": 1,
   "source": [
    "import numpy as np\n",
    "import pandas as pd"
   ],
   "outputs": [],
   "metadata": {}
  },
  {
   "cell_type": "code",
   "execution_count": 2,
   "source": [
    "#dataset\n",
    "from sklearn.datasets import load_iris,fetch_openml"
   ],
   "outputs": [],
   "metadata": {}
  },
  {
   "cell_type": "code",
   "execution_count": 3,
   "source": [
    "#transformer\n",
    "from sklearn.impute import SimpleImputer\n",
    "from sklearn.preprocessing import StandardScaler,OneHotEncoder,MinMaxScaler,RobustScaler"
   ],
   "outputs": [],
   "metadata": {}
  },
  {
   "cell_type": "code",
   "execution_count": 4,
   "source": [
    "#estimator\n",
    "from sklearn.ensemble import RandomForestClassifier,GradientBoostingClassifier,AdaBoostClassifier\n",
    "from sklearn.linear_model import LogisticRegression\n",
    "from sklearn.svm import SVC,LinearSVC"
   ],
   "outputs": [],
   "metadata": {}
  },
  {
   "cell_type": "code",
   "execution_count": 5,
   "source": [
    "#pipeline\n",
    "from sklearn.compose import ColumnTransformer\n",
    "from sklearn.pipeline import Pipeline\n",
    "from sklearn import set_config"
   ],
   "outputs": [],
   "metadata": {}
  },
  {
   "cell_type": "code",
   "execution_count": 6,
   "source": [
    "from sklearn.model_selection import train_test_split#データセット分割"
   ],
   "outputs": [],
   "metadata": {}
  },
  {
   "cell_type": "code",
   "execution_count": 7,
   "source": [
    "#パラメータ調整\n",
    "from sklearn.model_selection import GridSearchCV,RandomizedSearchCV,ParameterGrid"
   ],
   "outputs": [],
   "metadata": {}
  },
  {
   "cell_type": "code",
   "execution_count": 8,
   "source": [
    "#評価関数\n",
    "from sklearn.metrics import accuracy_score,f1_score"
   ],
   "outputs": [],
   "metadata": {}
  },
  {
   "cell_type": "code",
   "execution_count": 9,
   "source": [
    "X,y = load_iris(as_frame=True,return_X_y=True)"
   ],
   "outputs": [],
   "metadata": {}
  },
  {
   "cell_type": "code",
   "execution_count": 10,
   "source": [
    "X.info()"
   ],
   "outputs": [
    {
     "output_type": "stream",
     "name": "stdout",
     "text": [
      "<class 'pandas.core.frame.DataFrame'>\n",
      "RangeIndex: 150 entries, 0 to 149\n",
      "Data columns (total 4 columns):\n",
      " #   Column             Non-Null Count  Dtype  \n",
      "---  ------             --------------  -----  \n",
      " 0   sepal length (cm)  150 non-null    float64\n",
      " 1   sepal width (cm)   150 non-null    float64\n",
      " 2   petal length (cm)  150 non-null    float64\n",
      " 3   petal width (cm)   150 non-null    float64\n",
      "dtypes: float64(4)\n",
      "memory usage: 4.8 KB\n"
     ]
    }
   ],
   "metadata": {}
  },
  {
   "cell_type": "code",
   "execution_count": 11,
   "source": [
    "#パイプライン構築\n",
    "##特徴量\n",
    "features = ['sepal length (cm)',\n",
    "            'sepal width (cm)',   \n",
    "            'petal length (cm)', \n",
    "            'petal width (cm)']\n",
    "##変換器パイプライン\n",
    "###パイプライン定義\n",
    "transformer = Pipeline(steps=[\n",
    "    ('scaler',StandardScaler()) #特徴量を標準化\n",
    "])\n",
    "###統合（特徴量を変換器にかける）\n",
    "preprocesser = ColumnTransformer(transformers=[\n",
    "    ('transform',transformer,features)\n",
    "])\n",
    "##パイプライン全体：変換器パイプラインから予測器\n",
    "pipeline = Pipeline(steps=[\n",
    "    ('preprocesser',preprocesser),#変換器パイプライン\n",
    "    ('classifier',LogisticRegression())#予測器（推定器）\n",
    "])"
   ],
   "outputs": [],
   "metadata": {}
  },
  {
   "cell_type": "code",
   "execution_count": 12,
   "source": [
    "#パイプライン表示\n",
    "set_config(display='diagram')\n",
    "pipeline"
   ],
   "outputs": [
    {
     "output_type": "execute_result",
     "data": {
      "text/html": [
       "<style>#sk-18691af2-89bb-47ed-951a-e2bac9d486e4 {color: black;background-color: white;}#sk-18691af2-89bb-47ed-951a-e2bac9d486e4 pre{padding: 0;}#sk-18691af2-89bb-47ed-951a-e2bac9d486e4 div.sk-toggleable {background-color: white;}#sk-18691af2-89bb-47ed-951a-e2bac9d486e4 label.sk-toggleable__label {cursor: pointer;display: block;width: 100%;margin-bottom: 0;padding: 0.2em 0.3em;box-sizing: border-box;text-align: center;}#sk-18691af2-89bb-47ed-951a-e2bac9d486e4 div.sk-toggleable__content {max-height: 0;max-width: 0;overflow: hidden;text-align: left;background-color: #f0f8ff;}#sk-18691af2-89bb-47ed-951a-e2bac9d486e4 div.sk-toggleable__content pre {margin: 0.2em;color: black;border-radius: 0.25em;background-color: #f0f8ff;}#sk-18691af2-89bb-47ed-951a-e2bac9d486e4 input.sk-toggleable__control:checked~div.sk-toggleable__content {max-height: 200px;max-width: 100%;overflow: auto;}#sk-18691af2-89bb-47ed-951a-e2bac9d486e4 div.sk-estimator input.sk-toggleable__control:checked~label.sk-toggleable__label {background-color: #d4ebff;}#sk-18691af2-89bb-47ed-951a-e2bac9d486e4 div.sk-label input.sk-toggleable__control:checked~label.sk-toggleable__label {background-color: #d4ebff;}#sk-18691af2-89bb-47ed-951a-e2bac9d486e4 input.sk-hidden--visually {border: 0;clip: rect(1px 1px 1px 1px);clip: rect(1px, 1px, 1px, 1px);height: 1px;margin: -1px;overflow: hidden;padding: 0;position: absolute;width: 1px;}#sk-18691af2-89bb-47ed-951a-e2bac9d486e4 div.sk-estimator {font-family: monospace;background-color: #f0f8ff;margin: 0.25em 0.25em;border: 1px dotted black;border-radius: 0.25em;box-sizing: border-box;}#sk-18691af2-89bb-47ed-951a-e2bac9d486e4 div.sk-estimator:hover {background-color: #d4ebff;}#sk-18691af2-89bb-47ed-951a-e2bac9d486e4 div.sk-parallel-item::after {content: \"\";width: 100%;border-bottom: 1px solid gray;flex-grow: 1;}#sk-18691af2-89bb-47ed-951a-e2bac9d486e4 div.sk-label:hover label.sk-toggleable__label {background-color: #d4ebff;}#sk-18691af2-89bb-47ed-951a-e2bac9d486e4 div.sk-serial::before {content: \"\";position: absolute;border-left: 1px solid gray;box-sizing: border-box;top: 2em;bottom: 0;left: 50%;}#sk-18691af2-89bb-47ed-951a-e2bac9d486e4 div.sk-serial {display: flex;flex-direction: column;align-items: center;background-color: white;}#sk-18691af2-89bb-47ed-951a-e2bac9d486e4 div.sk-item {z-index: 1;}#sk-18691af2-89bb-47ed-951a-e2bac9d486e4 div.sk-parallel {display: flex;align-items: stretch;justify-content: center;background-color: white;}#sk-18691af2-89bb-47ed-951a-e2bac9d486e4 div.sk-parallel-item {display: flex;flex-direction: column;position: relative;background-color: white;}#sk-18691af2-89bb-47ed-951a-e2bac9d486e4 div.sk-parallel-item:first-child::after {align-self: flex-end;width: 50%;}#sk-18691af2-89bb-47ed-951a-e2bac9d486e4 div.sk-parallel-item:last-child::after {align-self: flex-start;width: 50%;}#sk-18691af2-89bb-47ed-951a-e2bac9d486e4 div.sk-parallel-item:only-child::after {width: 0;}#sk-18691af2-89bb-47ed-951a-e2bac9d486e4 div.sk-dashed-wrapped {border: 1px dashed gray;margin: 0.2em;box-sizing: border-box;padding-bottom: 0.1em;background-color: white;position: relative;}#sk-18691af2-89bb-47ed-951a-e2bac9d486e4 div.sk-label label {font-family: monospace;font-weight: bold;background-color: white;display: inline-block;line-height: 1.2em;}#sk-18691af2-89bb-47ed-951a-e2bac9d486e4 div.sk-label-container {position: relative;z-index: 2;text-align: center;}#sk-18691af2-89bb-47ed-951a-e2bac9d486e4 div.sk-container {display: inline-block;position: relative;}</style><div id=\"sk-18691af2-89bb-47ed-951a-e2bac9d486e4\" class\"sk-top-container\"><div class=\"sk-container\"><div class=\"sk-item sk-dashed-wrapped\"><div class=\"sk-label-container\"><div class=\"sk-label sk-toggleable\"><input class=\"sk-toggleable__control sk-hidden--visually\" id=\"312fc09d-da4f-412c-a86a-189a3c754e3f\" type=\"checkbox\" ><label class=\"sk-toggleable__label\" for=\"312fc09d-da4f-412c-a86a-189a3c754e3f\">Pipeline</label><div class=\"sk-toggleable__content\"><pre>Pipeline(steps=[('preprocesser',\n",
       "                 ColumnTransformer(transformers=[('transform',\n",
       "                                                  Pipeline(steps=[('scaler',\n",
       "                                                                   StandardScaler())]),\n",
       "                                                  ['sepal length (cm)',\n",
       "                                                   'sepal width (cm)',\n",
       "                                                   'petal length (cm)',\n",
       "                                                   'petal width (cm)'])])),\n",
       "                ('classifier', LogisticRegression())])</pre></div></div></div><div class=\"sk-serial\"><div class=\"sk-item sk-dashed-wrapped\"><div class=\"sk-label-container\"><div class=\"sk-label sk-toggleable\"><input class=\"sk-toggleable__control sk-hidden--visually\" id=\"6445f2f9-db0f-4a34-9a3c-f8d294dace75\" type=\"checkbox\" ><label class=\"sk-toggleable__label\" for=\"6445f2f9-db0f-4a34-9a3c-f8d294dace75\">preprocesser: ColumnTransformer</label><div class=\"sk-toggleable__content\"><pre>ColumnTransformer(transformers=[('transform',\n",
       "                                 Pipeline(steps=[('scaler', StandardScaler())]),\n",
       "                                 ['sepal length (cm)', 'sepal width (cm)',\n",
       "                                  'petal length (cm)', 'petal width (cm)'])])</pre></div></div></div><div class=\"sk-parallel\"><div class=\"sk-parallel-item\"><div class=\"sk-item\"><div class=\"sk-label-container\"><div class=\"sk-label sk-toggleable\"><input class=\"sk-toggleable__control sk-hidden--visually\" id=\"13306655-3b40-4c5c-8c97-16359ed24562\" type=\"checkbox\" ><label class=\"sk-toggleable__label\" for=\"13306655-3b40-4c5c-8c97-16359ed24562\">transform</label><div class=\"sk-toggleable__content\"><pre>['sepal length (cm)', 'sepal width (cm)', 'petal length (cm)', 'petal width (cm)']</pre></div></div></div><div class=\"sk-serial\"><div class=\"sk-item\"><div class=\"sk-serial\"><div class=\"sk-item\"><div class=\"sk-estimator sk-toggleable\"><input class=\"sk-toggleable__control sk-hidden--visually\" id=\"80bb7185-afcb-4cda-b03b-0706205eb5f7\" type=\"checkbox\" ><label class=\"sk-toggleable__label\" for=\"80bb7185-afcb-4cda-b03b-0706205eb5f7\">StandardScaler</label><div class=\"sk-toggleable__content\"><pre>StandardScaler()</pre></div></div></div></div></div></div></div></div></div></div><div class=\"sk-item\"><div class=\"sk-estimator sk-toggleable\"><input class=\"sk-toggleable__control sk-hidden--visually\" id=\"336841fc-af6f-4cd5-866c-473dccfd1759\" type=\"checkbox\" ><label class=\"sk-toggleable__label\" for=\"336841fc-af6f-4cd5-866c-473dccfd1759\">LogisticRegression</label><div class=\"sk-toggleable__content\"><pre>LogisticRegression()</pre></div></div></div></div></div></div></div>"
      ],
      "text/plain": [
       "Pipeline(steps=[('preprocesser',\n",
       "                 ColumnTransformer(transformers=[('transform',\n",
       "                                                  Pipeline(steps=[('scaler',\n",
       "                                                                   StandardScaler())]),\n",
       "                                                  ['sepal length (cm)',\n",
       "                                                   'sepal width (cm)',\n",
       "                                                   'petal length (cm)',\n",
       "                                                   'petal width (cm)'])])),\n",
       "                ('classifier', LogisticRegression())])"
      ]
     },
     "metadata": {},
     "execution_count": 12
    }
   ],
   "metadata": {}
  },
  {
   "cell_type": "code",
   "execution_count": 13,
   "source": [
    "set_config(display='None')"
   ],
   "outputs": [],
   "metadata": {}
  },
  {
   "cell_type": "code",
   "execution_count": 14,
   "source": [
    "X_train,X_test,y_train,y_test = train_test_split(X,y,test_size=0.5)"
   ],
   "outputs": [],
   "metadata": {}
  },
  {
   "cell_type": "code",
   "execution_count": 15,
   "source": [
    "pipeline.fit(X_train,y_train)"
   ],
   "outputs": [
    {
     "output_type": "execute_result",
     "data": {
      "text/plain": [
       "Pipeline(steps=[('preprocesser',\n",
       "                 ColumnTransformer(transformers=[('transform',\n",
       "                                                  Pipeline(steps=[('scaler',\n",
       "                                                                   StandardScaler())]),\n",
       "                                                  ['sepal length (cm)',\n",
       "                                                   'sepal width (cm)',\n",
       "                                                   'petal length (cm)',\n",
       "                                                   'petal width (cm)'])])),\n",
       "                ('classifier', LogisticRegression())])"
      ]
     },
     "metadata": {},
     "execution_count": 15
    }
   ],
   "metadata": {}
  },
  {
   "cell_type": "code",
   "execution_count": 16,
   "source": [
    "y_test_pred = pipeline.predict(X_test)\n",
    "accuracy_score(y_test,y_test_pred)"
   ],
   "outputs": [
    {
     "output_type": "execute_result",
     "data": {
      "text/plain": [
       "0.96"
      ]
     },
     "metadata": {},
     "execution_count": 16
    }
   ],
   "metadata": {}
  },
  {
   "cell_type": "code",
   "execution_count": 17,
   "source": [
    "#グリッドサーチの設定　\n",
    "param_grid = [\n",
    "    {\n",
    "        'preprocesser__transform__scaler':[StandardScaler(),MinMaxScaler(),RobustScaler()],\n",
    "        'classifier__C':[0.1,1.0,10.0,100.0],\n",
    "        'classifier':[LogisticRegression()]\n",
    "    }\n",
    "]\n",
    "\n",
    "grid_search = GridSearchCV(pipeline,param_grid,cv=10,verbose=3,n_jobs=-1)"
   ],
   "outputs": [],
   "metadata": {}
  },
  {
   "cell_type": "code",
   "execution_count": 18,
   "source": [
    "grid_search.fit(X_train,y_train)"
   ],
   "outputs": [
    {
     "output_type": "stream",
     "name": "stdout",
     "text": [
      "Fitting 10 folds for each of 12 candidates, totalling 120 fits\n"
     ]
    },
    {
     "output_type": "execute_result",
     "data": {
      "text/plain": [
       "GridSearchCV(cv=10,\n",
       "             estimator=Pipeline(steps=[('preprocesser',\n",
       "                                        ColumnTransformer(transformers=[('transform',\n",
       "                                                                         Pipeline(steps=[('scaler',\n",
       "                                                                                          StandardScaler())]),\n",
       "                                                                         ['sepal '\n",
       "                                                                          'length '\n",
       "                                                                          '(cm)',\n",
       "                                                                          'sepal '\n",
       "                                                                          'width '\n",
       "                                                                          '(cm)',\n",
       "                                                                          'petal '\n",
       "                                                                          'length '\n",
       "                                                                          '(cm)',\n",
       "                                                                          'petal '\n",
       "                                                                          'width '\n",
       "                                                                          '(cm)'])])),\n",
       "                                       ('classifier', LogisticRegression())]),\n",
       "             n_jobs=-1,\n",
       "             param_grid=[{'classifier': [LogisticRegression(C=100.0)],\n",
       "                          'classifier__C': [0.1, 1.0, 10.0, 100.0],\n",
       "                          'preprocesser__transform__scaler': [StandardScaler(),\n",
       "                                                              MinMaxScaler(),\n",
       "                                                              RobustScaler()]}],\n",
       "             verbose=3)"
      ]
     },
     "metadata": {},
     "execution_count": 18
    }
   ],
   "metadata": {}
  },
  {
   "cell_type": "code",
   "execution_count": 19,
   "source": [
    "print(grid_search.best_params_)#最適なパイプライン"
   ],
   "outputs": [
    {
     "output_type": "stream",
     "name": "stdout",
     "text": [
      "{'classifier': LogisticRegression(C=100.0), 'classifier__C': 100.0, 'preprocesser__transform__scaler': RobustScaler()}\n"
     ]
    }
   ],
   "metadata": {}
  },
  {
   "cell_type": "code",
   "execution_count": 20,
   "source": [
    "print(grid_search.best_score_)#正答率"
   ],
   "outputs": [
    {
     "output_type": "stream",
     "name": "stdout",
     "text": [
      "0.9571428571428571\n"
     ]
    }
   ],
   "metadata": {}
  },
  {
   "cell_type": "code",
   "execution_count": 21,
   "source": [
    "#テストデータで精度を検証する\n",
    "y_test_pred = grid_search.predict(X_test)\n",
    "print('accuracy :',accuracy_score(y_test,y_test_pred))\n"
   ],
   "outputs": [
    {
     "output_type": "stream",
     "name": "stdout",
     "text": [
      "accuracy : 0.96\n"
     ]
    }
   ],
   "metadata": {}
  },
  {
   "cell_type": "code",
   "execution_count": 22,
   "source": [
    "#ランダムサーチ\n",
    "param_grid = [\n",
    "    {\n",
    "        \"preprocesser__transform__scaler\": [StandardScaler(), MinMaxScaler(), RobustScaler()],       \n",
    "        \"classifier__C\": [0.1, 1.0, 10.0, 100.0],\n",
    "        \"classifier\": [LogisticRegression()]\n",
    "    },\n",
    "    {\n",
    "        \"preprocesser__transform__scaler\": [StandardScaler(), MinMaxScaler(), RobustScaler()],   \n",
    "        \"classifier__n_estimators\": [10, 100, 1000],\n",
    "        \"classifier\": [RandomForestClassifier(), GradientBoostingClassifier(), AdaBoostClassifier()]\n",
    "    },\n",
    "    {\n",
    "        \"preprocesser__transform__scaler\": [StandardScaler(), MinMaxScaler(), RobustScaler()],   \n",
    "        \"classifier__C\": [1, 10, 100, 1000],\n",
    "        \"classifier\": [SVC(),LinearSVC()]\n",
    "    }\n",
    "]\n",
    "\n",
    "rand_search = RandomizedSearchCV(pipeline, param_grid, cv=10, verbose=3, n_jobs=-1, n_iter=10)"
   ],
   "outputs": [],
   "metadata": {}
  },
  {
   "cell_type": "code",
   "execution_count": 23,
   "source": [
    "# ランダムサーチの実行\n",
    "rand_search.fit(X_train, y_train)"
   ],
   "outputs": [
    {
     "output_type": "stream",
     "name": "stdout",
     "text": [
      "Fitting 10 folds for each of 10 candidates, totalling 100 fits\n"
     ]
    },
    {
     "output_type": "execute_result",
     "data": {
      "text/plain": [
       "RandomizedSearchCV(cv=10,\n",
       "                   estimator=Pipeline(steps=[('preprocesser',\n",
       "                                              ColumnTransformer(transformers=[('transform',\n",
       "                                                                               Pipeline(steps=[('scaler',\n",
       "                                                                                                StandardScaler())]),\n",
       "                                                                               ['sepal '\n",
       "                                                                                'length '\n",
       "                                                                                '(cm)',\n",
       "                                                                                'sepal '\n",
       "                                                                                'width '\n",
       "                                                                                '(cm)',\n",
       "                                                                                'petal '\n",
       "                                                                                'length '\n",
       "                                                                                '(cm)',\n",
       "                                                                                'petal '\n",
       "                                                                                'width '\n",
       "                                                                                '(cm)'])])),\n",
       "                                             ('classifier',\n",
       "                                              LogisticRegression())]),\n",
       "                   n_jobs=-1,\n",
       "                   param_distributions=[{'classifier': [LogisticRegressi...\n",
       "                                        {'classifier': [RandomForestClassifier(),\n",
       "                                                        GradientBoostingClassifier(),\n",
       "                                                        AdaBoostClassifier()],\n",
       "                                         'classifier__n_estimators': [10, 100,\n",
       "                                                                      1000],\n",
       "                                         'preprocesser__transform__scaler': [StandardScaler(),\n",
       "                                                                             MinMaxScaler(),\n",
       "                                                                             RobustScaler()]},\n",
       "                                        {'classifier': [SVC(C=10), LinearSVC()],\n",
       "                                         'classifier__C': [1, 10, 100, 1000],\n",
       "                                         'preprocesser__transform__scaler': [StandardScaler(),\n",
       "                                                                             MinMaxScaler(),\n",
       "                                                                             RobustScaler()]}],\n",
       "                   verbose=3)"
      ]
     },
     "metadata": {},
     "execution_count": 23
    }
   ],
   "metadata": {}
  },
  {
   "cell_type": "code",
   "execution_count": 24,
   "source": [
    "# ランダムサーチの結果\n",
    "print(rand_search.best_params_) #最適なパイプライン\n",
    "print(rand_search.best_score_)  #正答率"
   ],
   "outputs": [
    {
     "output_type": "stream",
     "name": "stdout",
     "text": [
      "{'preprocesser__transform__scaler': MinMaxScaler(), 'classifier__C': 10, 'classifier': SVC(C=10)}\n",
      "0.9571428571428571\n"
     ]
    }
   ],
   "metadata": {}
  },
  {
   "cell_type": "code",
   "execution_count": 25,
   "source": [
    "#taitanic\n",
    "X, y = fetch_openml(\"titanic\", version=1, as_frame=True, return_X_y=True)"
   ],
   "outputs": [],
   "metadata": {}
  },
  {
   "cell_type": "code",
   "execution_count": 26,
   "source": [
    "X"
   ],
   "outputs": [
    {
     "output_type": "execute_result",
     "data": {
      "text/html": [
       "<div>\n",
       "<style scoped>\n",
       "    .dataframe tbody tr th:only-of-type {\n",
       "        vertical-align: middle;\n",
       "    }\n",
       "\n",
       "    .dataframe tbody tr th {\n",
       "        vertical-align: top;\n",
       "    }\n",
       "\n",
       "    .dataframe thead th {\n",
       "        text-align: right;\n",
       "    }\n",
       "</style>\n",
       "<table border=\"1\" class=\"dataframe\">\n",
       "  <thead>\n",
       "    <tr style=\"text-align: right;\">\n",
       "      <th></th>\n",
       "      <th>pclass</th>\n",
       "      <th>name</th>\n",
       "      <th>sex</th>\n",
       "      <th>age</th>\n",
       "      <th>sibsp</th>\n",
       "      <th>parch</th>\n",
       "      <th>ticket</th>\n",
       "      <th>fare</th>\n",
       "      <th>cabin</th>\n",
       "      <th>embarked</th>\n",
       "      <th>boat</th>\n",
       "      <th>body</th>\n",
       "      <th>home.dest</th>\n",
       "    </tr>\n",
       "  </thead>\n",
       "  <tbody>\n",
       "    <tr>\n",
       "      <th>0</th>\n",
       "      <td>1.0</td>\n",
       "      <td>Allen, Miss. Elisabeth Walton</td>\n",
       "      <td>female</td>\n",
       "      <td>29.0000</td>\n",
       "      <td>0.0</td>\n",
       "      <td>0.0</td>\n",
       "      <td>24160</td>\n",
       "      <td>211.3375</td>\n",
       "      <td>B5</td>\n",
       "      <td>S</td>\n",
       "      <td>2</td>\n",
       "      <td>NaN</td>\n",
       "      <td>St Louis, MO</td>\n",
       "    </tr>\n",
       "    <tr>\n",
       "      <th>1</th>\n",
       "      <td>1.0</td>\n",
       "      <td>Allison, Master. Hudson Trevor</td>\n",
       "      <td>male</td>\n",
       "      <td>0.9167</td>\n",
       "      <td>1.0</td>\n",
       "      <td>2.0</td>\n",
       "      <td>113781</td>\n",
       "      <td>151.5500</td>\n",
       "      <td>C22 C26</td>\n",
       "      <td>S</td>\n",
       "      <td>11</td>\n",
       "      <td>NaN</td>\n",
       "      <td>Montreal, PQ / Chesterville, ON</td>\n",
       "    </tr>\n",
       "    <tr>\n",
       "      <th>2</th>\n",
       "      <td>1.0</td>\n",
       "      <td>Allison, Miss. Helen Loraine</td>\n",
       "      <td>female</td>\n",
       "      <td>2.0000</td>\n",
       "      <td>1.0</td>\n",
       "      <td>2.0</td>\n",
       "      <td>113781</td>\n",
       "      <td>151.5500</td>\n",
       "      <td>C22 C26</td>\n",
       "      <td>S</td>\n",
       "      <td>None</td>\n",
       "      <td>NaN</td>\n",
       "      <td>Montreal, PQ / Chesterville, ON</td>\n",
       "    </tr>\n",
       "    <tr>\n",
       "      <th>3</th>\n",
       "      <td>1.0</td>\n",
       "      <td>Allison, Mr. Hudson Joshua Creighton</td>\n",
       "      <td>male</td>\n",
       "      <td>30.0000</td>\n",
       "      <td>1.0</td>\n",
       "      <td>2.0</td>\n",
       "      <td>113781</td>\n",
       "      <td>151.5500</td>\n",
       "      <td>C22 C26</td>\n",
       "      <td>S</td>\n",
       "      <td>None</td>\n",
       "      <td>135.0</td>\n",
       "      <td>Montreal, PQ / Chesterville, ON</td>\n",
       "    </tr>\n",
       "    <tr>\n",
       "      <th>4</th>\n",
       "      <td>1.0</td>\n",
       "      <td>Allison, Mrs. Hudson J C (Bessie Waldo Daniels)</td>\n",
       "      <td>female</td>\n",
       "      <td>25.0000</td>\n",
       "      <td>1.0</td>\n",
       "      <td>2.0</td>\n",
       "      <td>113781</td>\n",
       "      <td>151.5500</td>\n",
       "      <td>C22 C26</td>\n",
       "      <td>S</td>\n",
       "      <td>None</td>\n",
       "      <td>NaN</td>\n",
       "      <td>Montreal, PQ / Chesterville, ON</td>\n",
       "    </tr>\n",
       "    <tr>\n",
       "      <th>...</th>\n",
       "      <td>...</td>\n",
       "      <td>...</td>\n",
       "      <td>...</td>\n",
       "      <td>...</td>\n",
       "      <td>...</td>\n",
       "      <td>...</td>\n",
       "      <td>...</td>\n",
       "      <td>...</td>\n",
       "      <td>...</td>\n",
       "      <td>...</td>\n",
       "      <td>...</td>\n",
       "      <td>...</td>\n",
       "      <td>...</td>\n",
       "    </tr>\n",
       "    <tr>\n",
       "      <th>1304</th>\n",
       "      <td>3.0</td>\n",
       "      <td>Zabour, Miss. Hileni</td>\n",
       "      <td>female</td>\n",
       "      <td>14.5000</td>\n",
       "      <td>1.0</td>\n",
       "      <td>0.0</td>\n",
       "      <td>2665</td>\n",
       "      <td>14.4542</td>\n",
       "      <td>None</td>\n",
       "      <td>C</td>\n",
       "      <td>None</td>\n",
       "      <td>328.0</td>\n",
       "      <td>None</td>\n",
       "    </tr>\n",
       "    <tr>\n",
       "      <th>1305</th>\n",
       "      <td>3.0</td>\n",
       "      <td>Zabour, Miss. Thamine</td>\n",
       "      <td>female</td>\n",
       "      <td>NaN</td>\n",
       "      <td>1.0</td>\n",
       "      <td>0.0</td>\n",
       "      <td>2665</td>\n",
       "      <td>14.4542</td>\n",
       "      <td>None</td>\n",
       "      <td>C</td>\n",
       "      <td>None</td>\n",
       "      <td>NaN</td>\n",
       "      <td>None</td>\n",
       "    </tr>\n",
       "    <tr>\n",
       "      <th>1306</th>\n",
       "      <td>3.0</td>\n",
       "      <td>Zakarian, Mr. Mapriededer</td>\n",
       "      <td>male</td>\n",
       "      <td>26.5000</td>\n",
       "      <td>0.0</td>\n",
       "      <td>0.0</td>\n",
       "      <td>2656</td>\n",
       "      <td>7.2250</td>\n",
       "      <td>None</td>\n",
       "      <td>C</td>\n",
       "      <td>None</td>\n",
       "      <td>304.0</td>\n",
       "      <td>None</td>\n",
       "    </tr>\n",
       "    <tr>\n",
       "      <th>1307</th>\n",
       "      <td>3.0</td>\n",
       "      <td>Zakarian, Mr. Ortin</td>\n",
       "      <td>male</td>\n",
       "      <td>27.0000</td>\n",
       "      <td>0.0</td>\n",
       "      <td>0.0</td>\n",
       "      <td>2670</td>\n",
       "      <td>7.2250</td>\n",
       "      <td>None</td>\n",
       "      <td>C</td>\n",
       "      <td>None</td>\n",
       "      <td>NaN</td>\n",
       "      <td>None</td>\n",
       "    </tr>\n",
       "    <tr>\n",
       "      <th>1308</th>\n",
       "      <td>3.0</td>\n",
       "      <td>Zimmerman, Mr. Leo</td>\n",
       "      <td>male</td>\n",
       "      <td>29.0000</td>\n",
       "      <td>0.0</td>\n",
       "      <td>0.0</td>\n",
       "      <td>315082</td>\n",
       "      <td>7.8750</td>\n",
       "      <td>None</td>\n",
       "      <td>S</td>\n",
       "      <td>None</td>\n",
       "      <td>NaN</td>\n",
       "      <td>None</td>\n",
       "    </tr>\n",
       "  </tbody>\n",
       "</table>\n",
       "<p>1309 rows × 13 columns</p>\n",
       "</div>"
      ],
      "text/plain": [
       "      pclass                                             name     sex  \\\n",
       "0        1.0                    Allen, Miss. Elisabeth Walton  female   \n",
       "1        1.0                   Allison, Master. Hudson Trevor    male   \n",
       "2        1.0                     Allison, Miss. Helen Loraine  female   \n",
       "3        1.0             Allison, Mr. Hudson Joshua Creighton    male   \n",
       "4        1.0  Allison, Mrs. Hudson J C (Bessie Waldo Daniels)  female   \n",
       "...      ...                                              ...     ...   \n",
       "1304     3.0                             Zabour, Miss. Hileni  female   \n",
       "1305     3.0                            Zabour, Miss. Thamine  female   \n",
       "1306     3.0                        Zakarian, Mr. Mapriededer    male   \n",
       "1307     3.0                              Zakarian, Mr. Ortin    male   \n",
       "1308     3.0                               Zimmerman, Mr. Leo    male   \n",
       "\n",
       "          age  sibsp  parch  ticket      fare    cabin embarked  boat   body  \\\n",
       "0     29.0000    0.0    0.0   24160  211.3375       B5        S     2    NaN   \n",
       "1      0.9167    1.0    2.0  113781  151.5500  C22 C26        S    11    NaN   \n",
       "2      2.0000    1.0    2.0  113781  151.5500  C22 C26        S  None    NaN   \n",
       "3     30.0000    1.0    2.0  113781  151.5500  C22 C26        S  None  135.0   \n",
       "4     25.0000    1.0    2.0  113781  151.5500  C22 C26        S  None    NaN   \n",
       "...       ...    ...    ...     ...       ...      ...      ...   ...    ...   \n",
       "1304  14.5000    1.0    0.0    2665   14.4542     None        C  None  328.0   \n",
       "1305      NaN    1.0    0.0    2665   14.4542     None        C  None    NaN   \n",
       "1306  26.5000    0.0    0.0    2656    7.2250     None        C  None  304.0   \n",
       "1307  27.0000    0.0    0.0    2670    7.2250     None        C  None    NaN   \n",
       "1308  29.0000    0.0    0.0  315082    7.8750     None        S  None    NaN   \n",
       "\n",
       "                            home.dest  \n",
       "0                        St Louis, MO  \n",
       "1     Montreal, PQ / Chesterville, ON  \n",
       "2     Montreal, PQ / Chesterville, ON  \n",
       "3     Montreal, PQ / Chesterville, ON  \n",
       "4     Montreal, PQ / Chesterville, ON  \n",
       "...                               ...  \n",
       "1304                             None  \n",
       "1305                             None  \n",
       "1306                             None  \n",
       "1307                             None  \n",
       "1308                             None  \n",
       "\n",
       "[1309 rows x 13 columns]"
      ]
     },
     "metadata": {},
     "execution_count": 26
    }
   ],
   "metadata": {}
  },
  {
   "cell_type": "code",
   "execution_count": 27,
   "source": [
    "y"
   ],
   "outputs": [
    {
     "output_type": "execute_result",
     "data": {
      "text/plain": [
       "0       1\n",
       "1       1\n",
       "2       0\n",
       "3       0\n",
       "4       0\n",
       "       ..\n",
       "1304    0\n",
       "1305    0\n",
       "1306    0\n",
       "1307    0\n",
       "1308    0\n",
       "Name: survived, Length: 1309, dtype: category\n",
       "Categories (2, object): ['0', '1']"
      ]
     },
     "metadata": {},
     "execution_count": 27
    }
   ],
   "metadata": {}
  },
  {
   "cell_type": "code",
   "execution_count": 28,
   "source": [
    "y = y.astype('int')"
   ],
   "outputs": [],
   "metadata": {}
  },
  {
   "cell_type": "code",
   "execution_count": 29,
   "source": [
    "y"
   ],
   "outputs": [
    {
     "output_type": "execute_result",
     "data": {
      "text/plain": [
       "0       1\n",
       "1       1\n",
       "2       0\n",
       "3       0\n",
       "4       0\n",
       "       ..\n",
       "1304    0\n",
       "1305    0\n",
       "1306    0\n",
       "1307    0\n",
       "1308    0\n",
       "Name: survived, Length: 1309, dtype: int64"
      ]
     },
     "metadata": {},
     "execution_count": 29
    }
   ],
   "metadata": {}
  },
  {
   "cell_type": "code",
   "execution_count": 42,
   "source": [
    "#パイプライン構築\n",
    "\n",
    "##特徴量\n",
    "numeric_features = [\"age\", \"sibsp\", \"parch\", \"fare\"] \n",
    "categorical_features = [\"sex\", \"pclass\"]  \n",
    "###数値型\n",
    "numeric_transformer = Pipeline(steps=[\n",
    "    ('imputer',SimpleImputer()),#欠損値補完\n",
    "    ('scaler',StandardScaler())#標準化\n",
    "])\n",
    "\n",
    "###カテゴリ型\n",
    "categorical_transformer = OneHotEncoder(handle_unknown='ignore')\n",
    "\n",
    "###特徴量を変換器にかける\n",
    "preprocesser = ColumnTransformer(transformers=[\n",
    "    ('num_transform',numeric_transformer,numeric_features),\n",
    "    ('cat_transform',categorical_transformer,categorical_features)\n",
    "])\n",
    "\n",
    "pipeline = Pipeline(steps=[#変換器パイプラインから予測器へ\n",
    "    ('preprocesser',preprocesser),\n",
    "    ('classifier',LogisticRegression())\n",
    "])\n",
    "\n",
    "\n"
   ],
   "outputs": [],
   "metadata": {}
  },
  {
   "cell_type": "code",
   "execution_count": 44,
   "source": [
    "X_train,X_test,y_train,y_test = train_test_split(X,y,test_size=0.2)"
   ],
   "outputs": [],
   "metadata": {}
  },
  {
   "cell_type": "code",
   "execution_count": 43,
   "source": [
    "pipeline.fit(X_train,y_train)"
   ],
   "outputs": [
    {
     "output_type": "execute_result",
     "data": {
      "text/plain": [
       "Pipeline(steps=[('preprocesser',\n",
       "                 ColumnTransformer(transformers=[('num_transform',\n",
       "                                                  Pipeline(steps=[('imputer',\n",
       "                                                                   SimpleImputer()),\n",
       "                                                                  ('scaler',\n",
       "                                                                   StandardScaler())]),\n",
       "                                                  ['age', 'sibsp', 'parch',\n",
       "                                                   'fare']),\n",
       "                                                 ('cat_transform',\n",
       "                                                  OneHotEncoder(handle_unknown='ignore'),\n",
       "                                                  ['sex', 'pclass'])])),\n",
       "                ('classifier', LogisticRegression())])"
      ]
     },
     "metadata": {},
     "execution_count": 43
    }
   ],
   "metadata": {}
  },
  {
   "cell_type": "code",
   "execution_count": 45,
   "source": [
    "y_test_pred1 = pipeline.predict(X_test)\n",
    "print('accuracy',accuracy_score(y_test,y_test_pred1))\n",
    "print('f1',f1_score(y_test,y_test_pred1))"
   ],
   "outputs": [
    {
     "output_type": "stream",
     "name": "stdout",
     "text": [
      "accuracy 0.8053435114503816\n",
      "f1 0.7213114754098361\n"
     ]
    }
   ],
   "metadata": {}
  },
  {
   "cell_type": "code",
   "execution_count": 34,
   "source": [
    "#optuna\n",
    "import optuna\n",
    "\n",
    "def objective(trial):\n",
    "    x = trial.suggest_uniform('x', -10, 10)\n",
    "    score = (x - 2) ** 2\n",
    "    print('x: %1.3f, score: %1.3f' % (x, score))\n",
    "    return score\n",
    "\n",
    "study = optuna.create_study()\n",
    "study.optimize(objective, n_trials=100)"
   ],
   "outputs": [
    {
     "output_type": "stream",
     "name": "stderr",
     "text": [
      "\u001b[32m[I 2021-12-26 17:58:43,141]\u001b[0m A new study created in memory with name: no-name-86259136-6b75-4f43-b13a-8f7aae67102f\u001b[0m\n",
      "\u001b[32m[I 2021-12-26 17:58:43,145]\u001b[0m Trial 0 finished with value: 0.9575739923050356 and parameters: {'x': 1.0214429028896497}. Best is trial 0 with value: 0.9575739923050356.\u001b[0m\n",
      "\u001b[32m[I 2021-12-26 17:58:43,147]\u001b[0m Trial 1 finished with value: 125.7020185734259 and parameters: {'x': -9.211691155817034}. Best is trial 0 with value: 0.9575739923050356.\u001b[0m\n",
      "\u001b[32m[I 2021-12-26 17:58:43,149]\u001b[0m Trial 2 finished with value: 4.443017791693236 and parameters: {'x': 4.107846719212105}. Best is trial 0 with value: 0.9575739923050356.\u001b[0m\n",
      "\u001b[32m[I 2021-12-26 17:58:43,153]\u001b[0m Trial 3 finished with value: 14.100256996678311 and parameters: {'x': 5.755030891574437}. Best is trial 0 with value: 0.9575739923050356.\u001b[0m\n",
      "\u001b[32m[I 2021-12-26 17:58:43,161]\u001b[0m Trial 4 finished with value: 7.620184097092344 and parameters: {'x': 4.760468093837048}. Best is trial 0 with value: 0.9575739923050356.\u001b[0m\n",
      "\u001b[32m[I 2021-12-26 17:58:43,165]\u001b[0m Trial 5 finished with value: 4.999671816988566 and parameters: {'x': 4.235994592343319}. Best is trial 0 with value: 0.9575739923050356.\u001b[0m\n",
      "\u001b[32m[I 2021-12-26 17:58:43,170]\u001b[0m Trial 6 finished with value: 142.27968014246125 and parameters: {'x': -9.92810463327939}. Best is trial 0 with value: 0.9575739923050356.\u001b[0m\n",
      "\u001b[32m[I 2021-12-26 17:58:43,172]\u001b[0m Trial 7 finished with value: 44.62062148026822 and parameters: {'x': 8.679866875939087}. Best is trial 0 with value: 0.9575739923050356.\u001b[0m\n",
      "\u001b[32m[I 2021-12-26 17:58:43,174]\u001b[0m Trial 8 finished with value: 108.41685715014067 and parameters: {'x': -8.412341578633534}. Best is trial 0 with value: 0.9575739923050356.\u001b[0m\n",
      "\u001b[32m[I 2021-12-26 17:58:43,176]\u001b[0m Trial 9 finished with value: 52.61697398323432 and parameters: {'x': 9.253755853572294}. Best is trial 0 with value: 0.9575739923050356.\u001b[0m\n",
      "\u001b[32m[I 2021-12-26 17:58:43,185]\u001b[0m Trial 10 finished with value: 23.899957101348733 and parameters: {'x': -2.8887582371547826}. Best is trial 0 with value: 0.9575739923050356.\u001b[0m\n",
      "\u001b[32m[I 2021-12-26 17:58:43,191]\u001b[0m Trial 11 finished with value: 9.280785706544517 and parameters: {'x': -1.0464382000205612}. Best is trial 0 with value: 0.9575739923050356.\u001b[0m\n",
      "\u001b[32m[I 2021-12-26 17:58:43,198]\u001b[0m Trial 12 finished with value: 0.1373459489606382 and parameters: {'x': 1.6293978562384748}. Best is trial 12 with value: 0.1373459489606382.\u001b[0m\n",
      "\u001b[32m[I 2021-12-26 17:58:43,204]\u001b[0m Trial 13 finished with value: 39.24440012357388 and parameters: {'x': -4.264535108335964}. Best is trial 12 with value: 0.1373459489606382.\u001b[0m\n",
      "\u001b[32m[I 2021-12-26 17:58:43,210]\u001b[0m Trial 14 finished with value: 0.5356295659901178 and parameters: {'x': 1.2681328221664003}. Best is trial 12 with value: 0.1373459489606382.\u001b[0m\n",
      "\u001b[32m[I 2021-12-26 17:58:43,219]\u001b[0m Trial 15 finished with value: 0.49962659476362214 and parameters: {'x': 1.2931573055031111}. Best is trial 12 with value: 0.1373459489606382.\u001b[0m\n",
      "\u001b[32m[I 2021-12-26 17:58:43,226]\u001b[0m Trial 16 finished with value: 41.58841154612204 and parameters: {'x': -4.44890777931597}. Best is trial 12 with value: 0.1373459489606382.\u001b[0m\n",
      "\u001b[32m[I 2021-12-26 17:58:43,233]\u001b[0m Trial 17 finished with value: 7.8652610533631355 and parameters: {'x': -0.8045072746140516}. Best is trial 12 with value: 0.1373459489606382.\u001b[0m\n",
      "\u001b[32m[I 2021-12-26 17:58:43,269]\u001b[0m Trial 18 finished with value: 0.0016410879047678837 and parameters: {'x': 2.040510343182549}. Best is trial 18 with value: 0.0016410879047678837.\u001b[0m\n",
      "\u001b[32m[I 2021-12-26 17:58:43,296]\u001b[0m Trial 19 finished with value: 27.204493205676464 and parameters: {'x': 7.215792672804055}. Best is trial 18 with value: 0.0016410879047678837.\u001b[0m\n",
      "\u001b[32m[I 2021-12-26 17:58:43,306]\u001b[0m Trial 20 finished with value: 0.7419692905807859 and parameters: {'x': 2.8613763930946714}. Best is trial 18 with value: 0.0016410879047678837.\u001b[0m\n",
      "\u001b[32m[I 2021-12-26 17:58:43,313]\u001b[0m Trial 21 finished with value: 0.2650924034178566 and parameters: {'x': 2.51487124936032}. Best is trial 18 with value: 0.0016410879047678837.\u001b[0m\n",
      "\u001b[32m[I 2021-12-26 17:58:43,323]\u001b[0m Trial 22 finished with value: 0.46939245364903787 and parameters: {'x': 2.6851222180378023}. Best is trial 18 with value: 0.0016410879047678837.\u001b[0m\n",
      "\u001b[32m[I 2021-12-26 17:58:43,332]\u001b[0m Trial 23 finished with value: 22.14570482168531 and parameters: {'x': -2.705922313604987}. Best is trial 18 with value: 0.0016410879047678837.\u001b[0m\n",
      "\u001b[32m[I 2021-12-26 17:58:43,341]\u001b[0m Trial 24 finished with value: 19.62162862659138 and parameters: {'x': 6.429630755107177}. Best is trial 18 with value: 0.0016410879047678837.\u001b[0m\n"
     ]
    },
    {
     "output_type": "stream",
     "name": "stdout",
     "text": [
      "x: 1.021, score: 0.958\n",
      "x: -9.212, score: 125.702\n",
      "x: 4.108, score: 4.443\n",
      "x: 5.755, score: 14.100\n",
      "x: 4.760, score: 7.620\n",
      "x: 4.236, score: 5.000\n",
      "x: -9.928, score: 142.280\n",
      "x: 8.680, score: 44.621\n",
      "x: -8.412, score: 108.417\n",
      "x: 9.254, score: 52.617\n",
      "x: -2.889, score: 23.900\n",
      "x: -1.046, score: 9.281\n",
      "x: 1.629, score: 0.137\n",
      "x: -4.265, score: 39.244\n",
      "x: 1.268, score: 0.536\n",
      "x: 1.293, score: 0.500\n",
      "x: -4.449, score: 41.588\n",
      "x: -0.805, score: 7.865\n",
      "x: 2.041, score: 0.002\n",
      "x: 7.216, score: 27.204\n",
      "x: 2.861, score: 0.742\n",
      "x: 2.515, score: 0.265\n",
      "x: 2.685, score: 0.469\n",
      "x: -2.706, score: 22.146\n",
      "x: 6.430, score: 19.622\n"
     ]
    },
    {
     "output_type": "stream",
     "name": "stderr",
     "text": [
      "\u001b[32m[I 2021-12-26 17:58:43,350]\u001b[0m Trial 25 finished with value: 0.44126000639613266 and parameters: {'x': 2.664274044650348}. Best is trial 18 with value: 0.0016410879047678837.\u001b[0m\n",
      "\u001b[32m[I 2021-12-26 17:58:43,363]\u001b[0m Trial 26 finished with value: 3.9876749962851132 and parameters: {'x': 0.003083628119316284}. Best is trial 18 with value: 0.0016410879047678837.\u001b[0m\n",
      "\u001b[32m[I 2021-12-26 17:58:43,373]\u001b[0m Trial 27 finished with value: 17.520439514710855 and parameters: {'x': -2.185742409025053}. Best is trial 18 with value: 0.0016410879047678837.\u001b[0m\n",
      "\u001b[32m[I 2021-12-26 17:58:43,382]\u001b[0m Trial 28 finished with value: 77.22140562068174 and parameters: {'x': -6.787571087660216}. Best is trial 18 with value: 0.0016410879047678837.\u001b[0m\n",
      "\u001b[32m[I 2021-12-26 17:58:43,391]\u001b[0m Trial 29 finished with value: 2.1711450880243985 and parameters: {'x': 0.5265193967939725}. Best is trial 18 with value: 0.0016410879047678837.\u001b[0m\n",
      "\u001b[32m[I 2021-12-26 17:58:43,400]\u001b[0m Trial 30 finished with value: 0.0002020792862011061 and parameters: {'x': 1.985784540591275}. Best is trial 30 with value: 0.0002020792862011061.\u001b[0m\n",
      "\u001b[32m[I 2021-12-26 17:58:43,409]\u001b[0m Trial 31 finished with value: 0.1411458869470895 and parameters: {'x': 2.3756938739813167}. Best is trial 30 with value: 0.0002020792862011061.\u001b[0m\n",
      "\u001b[32m[I 2021-12-26 17:58:43,417]\u001b[0m Trial 32 finished with value: 0.17163354116824292 and parameters: {'x': 1.5857132138623742}. Best is trial 30 with value: 0.0002020792862011061.\u001b[0m\n",
      "\u001b[32m[I 2021-12-26 17:58:43,426]\u001b[0m Trial 33 finished with value: 3.0858496013362453 and parameters: {'x': 3.756658646788341}. Best is trial 30 with value: 0.0002020792862011061.\u001b[0m\n",
      "\u001b[32m[I 2021-12-26 17:58:43,436]\u001b[0m Trial 34 finished with value: 12.085691223802955 and parameters: {'x': 5.476448075809986}. Best is trial 30 with value: 0.0002020792862011061.\u001b[0m\n",
      "\u001b[32m[I 2021-12-26 17:58:43,445]\u001b[0m Trial 35 finished with value: 8.954125752129285 and parameters: {'x': -0.9923445243035245}. Best is trial 30 with value: 0.0002020792862011061.\u001b[0m\n",
      "\u001b[32m[I 2021-12-26 17:58:43,453]\u001b[0m Trial 36 finished with value: 2.885022136205682 and parameters: {'x': 3.698535291421901}. Best is trial 30 with value: 0.0002020792862011061.\u001b[0m\n",
      "\u001b[32m[I 2021-12-26 17:58:43,467]\u001b[0m Trial 37 finished with value: 8.82502205108879 and parameters: {'x': 4.970693866942333}. Best is trial 30 with value: 0.0002020792862011061.\u001b[0m\n",
      "\u001b[32m[I 2021-12-26 17:58:43,474]\u001b[0m Trial 38 finished with value: 0.009294241936266616 and parameters: {'x': 1.9035933511822622}. Best is trial 30 with value: 0.0002020792862011061.\u001b[0m\n",
      "\u001b[32m[I 2021-12-26 17:58:43,491]\u001b[0m Trial 39 finished with value: 32.65969265952788 and parameters: {'x': 7.7148659353941}. Best is trial 30 with value: 0.0002020792862011061.\u001b[0m\n",
      "\u001b[32m[I 2021-12-26 17:58:43,542]\u001b[0m Trial 40 finished with value: 3.054820651483507 and parameters: {'x': 0.25219547675276144}. Best is trial 30 with value: 0.0002020792862011061.\u001b[0m\n"
     ]
    },
    {
     "output_type": "stream",
     "name": "stdout",
     "text": [
      "x: 2.664, score: 0.441\n",
      "x: 0.003, score: 3.988\n",
      "x: -2.186, score: 17.520\n",
      "x: -6.788, score: 77.221\n",
      "x: 0.527, score: 2.171\n",
      "x: 1.986, score: 0.000\n",
      "x: 2.376, score: 0.141\n",
      "x: 1.586, score: 0.172\n",
      "x: 3.757, score: 3.086\n",
      "x: 5.476, score: 12.086\n",
      "x: -0.992, score: 8.954\n",
      "x: 3.699, score: 2.885\n",
      "x: 4.971, score: 8.825\n",
      "x: 1.904, score: 0.009\n",
      "x: 7.715, score: 32.660\n",
      "x: 0.252, score: 3.055\n"
     ]
    },
    {
     "output_type": "stream",
     "name": "stderr",
     "text": [
      "\u001b[32m[I 2021-12-26 17:58:43,587]\u001b[0m Trial 41 finished with value: 0.13025270628875055 and parameters: {'x': 1.639094602023258}. Best is trial 30 with value: 0.0002020792862011061.\u001b[0m\n",
      "\u001b[32m[I 2021-12-26 17:58:43,606]\u001b[0m Trial 42 finished with value: 0.2889938755873387 and parameters: {'x': 1.4624184940054776}. Best is trial 30 with value: 0.0002020792862011061.\u001b[0m\n",
      "\u001b[32m[I 2021-12-26 17:58:43,616]\u001b[0m Trial 43 finished with value: 4.936128671787946 and parameters: {'x': 4.221740009944446}. Best is trial 30 with value: 0.0002020792862011061.\u001b[0m\n",
      "\u001b[32m[I 2021-12-26 17:58:43,625]\u001b[0m Trial 44 finished with value: 1.5677759619158738 and parameters: {'x': 3.252108606278175}. Best is trial 30 with value: 0.0002020792862011061.\u001b[0m\n",
      "\u001b[32m[I 2021-12-26 17:58:43,634]\u001b[0m Trial 45 finished with value: 6.310540707031527 and parameters: {'x': -0.5120789611458331}. Best is trial 30 with value: 0.0002020792862011061.\u001b[0m\n",
      "\u001b[32m[I 2021-12-26 17:58:43,643]\u001b[0m Trial 46 finished with value: 14.667607940094003 and parameters: {'x': -1.8298313200575822}. Best is trial 30 with value: 0.0002020792862011061.\u001b[0m\n",
      "\u001b[32m[I 2021-12-26 17:58:43,652]\u001b[0m Trial 47 finished with value: 0.0011089882906676382 and parameters: {'x': 1.9666985241968522}. Best is trial 30 with value: 0.0002020792862011061.\u001b[0m\n",
      "\u001b[32m[I 2021-12-26 17:58:43,661]\u001b[0m Trial 48 finished with value: 1.3546192544088507 and parameters: {'x': 0.8361188830430959}. Best is trial 30 with value: 0.0002020792862011061.\u001b[0m\n",
      "\u001b[32m[I 2021-12-26 17:58:43,676]\u001b[0m Trial 49 finished with value: 6.923569626387181 and parameters: {'x': 4.631267684289681}. Best is trial 30 with value: 0.0002020792862011061.\u001b[0m\n",
      "\u001b[32m[I 2021-12-26 17:58:43,691]\u001b[0m Trial 50 finished with value: 16.23785981342531 and parameters: {'x': 6.029622787982184}. Best is trial 30 with value: 0.0002020792862011061.\u001b[0m\n",
      "\u001b[32m[I 2021-12-26 17:58:43,700]\u001b[0m Trial 51 finished with value: 0.009148211753615678 and parameters: {'x': 1.9043537154217913}. Best is trial 30 with value: 0.0002020792862011061.\u001b[0m\n",
      "\u001b[32m[I 2021-12-26 17:58:43,708]\u001b[0m Trial 52 finished with value: 0.0020371452021759008 and parameters: {'x': 2.045134744955255}. Best is trial 30 with value: 0.0002020792862011061.\u001b[0m\n",
      "\u001b[32m[I 2021-12-26 17:58:43,717]\u001b[0m Trial 53 finished with value: 2.126229537965048 and parameters: {'x': 3.458159640768132}. Best is trial 30 with value: 0.0002020792862011061.\u001b[0m\n",
      "\u001b[32m[I 2021-12-26 17:58:43,724]\u001b[0m Trial 54 finished with value: 2.7600377630875524e-05 and parameters: {'x': 2.005253606154907}. Best is trial 54 with value: 2.7600377630875524e-05.\u001b[0m\n",
      "\u001b[32m[I 2021-12-26 17:58:43,732]\u001b[0m Trial 55 finished with value: 1.4567868340048369 and parameters: {'x': 0.7930257525511006}. Best is trial 54 with value: 2.7600377630875524e-05.\u001b[0m\n",
      "\u001b[32m[I 2021-12-26 17:58:43,740]\u001b[0m Trial 56 finished with value: 4.870850658579075 and parameters: {'x': -0.2070003757541763}. Best is trial 54 with value: 2.7600377630875524e-05.\u001b[0m\n",
      "\u001b[32m[I 2021-12-26 17:58:43,749]\u001b[0m Trial 57 finished with value: 0.03046162767958913 and parameters: {'x': 2.1745325977563765}. Best is trial 54 with value: 2.7600377630875524e-05.\u001b[0m\n",
      "\u001b[32m[I 2021-12-26 17:58:43,757]\u001b[0m Trial 58 finished with value: 1.2744905280593228 and parameters: {'x': 3.1289333585554653}. Best is trial 54 with value: 2.7600377630875524e-05.\u001b[0m\n",
      "\u001b[32m[I 2021-12-26 17:58:43,767]\u001b[0m Trial 59 finished with value: 13.972223440537045 and parameters: {'x': -1.7379437449668829}. Best is trial 54 with value: 2.7600377630875524e-05.\u001b[0m\n",
      "\u001b[32m[I 2021-12-26 17:58:43,781]\u001b[0m Trial 60 finished with value: 9.520751190100984 and parameters: {'x': 5.085571452762192}. Best is trial 54 with value: 2.7600377630875524e-05.\u001b[0m\n"
     ]
    },
    {
     "output_type": "stream",
     "name": "stdout",
     "text": [
      "x: 1.639, score: 0.130\n",
      "x: 1.462, score: 0.289\n",
      "x: 4.222, score: 4.936\n",
      "x: 3.252, score: 1.568\n",
      "x: -0.512, score: 6.311\n",
      "x: -1.830, score: 14.668\n",
      "x: 1.967, score: 0.001\n",
      "x: 0.836, score: 1.355\n",
      "x: 4.631, score: 6.924\n",
      "x: 6.030, score: 16.238\n",
      "x: 1.904, score: 0.009\n",
      "x: 2.045, score: 0.002\n",
      "x: 3.458, score: 2.126\n",
      "x: 2.005, score: 0.000\n",
      "x: 0.793, score: 1.457\n",
      "x: -0.207, score: 4.871\n",
      "x: 2.175, score: 0.030\n",
      "x: 3.129, score: 1.274\n",
      "x: -1.738, score: 13.972\n",
      "x: 5.086, score: 9.521\n"
     ]
    },
    {
     "output_type": "stream",
     "name": "stderr",
     "text": [
      "\u001b[32m[I 2021-12-26 17:58:43,790]\u001b[0m Trial 61 finished with value: 0.0009158742161180719 and parameters: {'x': 2.0302634138212805}. Best is trial 54 with value: 2.7600377630875524e-05.\u001b[0m\n",
      "\u001b[32m[I 2021-12-26 17:58:43,802]\u001b[0m Trial 62 finished with value: 1.7563138976411465 and parameters: {'x': 0.6747400641228354}. Best is trial 54 with value: 2.7600377630875524e-05.\u001b[0m\n",
      "\u001b[32m[I 2021-12-26 17:58:43,810]\u001b[0m Trial 63 finished with value: 0.0750212120877428 and parameters: {'x': 2.2739000038111405}. Best is trial 54 with value: 2.7600377630875524e-05.\u001b[0m\n",
      "\u001b[32m[I 2021-12-26 17:58:43,819]\u001b[0m Trial 64 finished with value: 0.6545023197867101 and parameters: {'x': 1.190986823477695}. Best is trial 54 with value: 2.7600377630875524e-05.\u001b[0m\n",
      "\u001b[32m[I 2021-12-26 17:58:43,827]\u001b[0m Trial 65 finished with value: 4.837321617296304 and parameters: {'x': 4.1993911924203715}. Best is trial 54 with value: 2.7600377630875524e-05.\u001b[0m\n",
      "\u001b[32m[I 2021-12-26 17:58:43,838]\u001b[0m Trial 66 finished with value: 3.659925108763551 and parameters: {'x': 0.08690692626742513}. Best is trial 54 with value: 2.7600377630875524e-05.\u001b[0m\n",
      "\u001b[32m[I 2021-12-26 17:58:43,845]\u001b[0m Trial 67 finished with value: 0.618191044833673 and parameters: {'x': 2.7862512606245367}. Best is trial 54 with value: 2.7600377630875524e-05.\u001b[0m\n",
      "\u001b[32m[I 2021-12-26 17:58:43,855]\u001b[0m Trial 68 finished with value: 0.027220743036668438 and parameters: {'x': 2.164987099606813}. Best is trial 54 with value: 2.7600377630875524e-05.\u001b[0m\n",
      "\u001b[32m[I 2021-12-26 17:58:43,863]\u001b[0m Trial 69 finished with value: 2.7902115876039746 and parameters: {'x': 3.670392644740743}. Best is trial 54 with value: 2.7600377630875524e-05.\u001b[0m\n",
      "\u001b[32m[I 2021-12-26 17:58:43,882]\u001b[0m Trial 70 finished with value: 0.7677557793980574 and parameters: {'x': 1.1237832577506537}. Best is trial 54 with value: 2.7600377630875524e-05.\u001b[0m\n",
      "\u001b[32m[I 2021-12-26 17:58:43,900]\u001b[0m Trial 71 finished with value: 0.003347406682088676 and parameters: {'x': 1.9421432226779898}. Best is trial 54 with value: 2.7600377630875524e-05.\u001b[0m\n",
      "\u001b[32m[I 2021-12-26 17:58:43,909]\u001b[0m Trial 72 finished with value: 0.7608950270469591 and parameters: {'x': 2.8722929708801734}. Best is trial 54 with value: 2.7600377630875524e-05.\u001b[0m\n",
      "\u001b[32m[I 2021-12-26 17:58:43,918]\u001b[0m Trial 73 finished with value: 0.017095771078556223 and parameters: {'x': 1.869249202378891}. Best is trial 54 with value: 2.7600377630875524e-05.\u001b[0m\n",
      "\u001b[32m[I 2021-12-26 17:58:43,926]\u001b[0m Trial 74 finished with value: 2.4779346372998883 and parameters: {'x': 0.42585431509663363}. Best is trial 54 with value: 2.7600377630875524e-05.\u001b[0m\n",
      "\u001b[32m[I 2021-12-26 17:58:43,934]\u001b[0m Trial 75 finished with value: 6.858334436037394 and parameters: {'x': -0.6188421938019468}. Best is trial 54 with value: 2.7600377630875524e-05.\u001b[0m\n",
      "\u001b[32m[I 2021-12-26 17:58:43,943]\u001b[0m Trial 76 finished with value: 0.041889299998158464 and parameters: {'x': 1.7953312432290691}. Best is trial 54 with value: 2.7600377630875524e-05.\u001b[0m\n",
      "\u001b[32m[I 2021-12-26 17:58:43,950]\u001b[0m Trial 77 finished with value: 0.7745456557901211 and parameters: {'x': 2.8800827550805215}. Best is trial 54 with value: 2.7600377630875524e-05.\u001b[0m\n",
      "\u001b[32m[I 2021-12-26 17:58:43,959]\u001b[0m Trial 78 finished with value: 11.451865672588346 and parameters: {'x': -1.3840605302784326}. Best is trial 54 with value: 2.7600377630875524e-05.\u001b[0m\n",
      "\u001b[32m[I 2021-12-26 17:58:43,966]\u001b[0m Trial 79 finished with value: 3.33366344699593 and parameters: {'x': 3.825832261462134}. Best is trial 54 with value: 2.7600377630875524e-05.\u001b[0m\n",
      "\u001b[32m[I 2021-12-26 17:58:43,975]\u001b[0m Trial 80 finished with value: 6.547804173187987 and parameters: {'x': 4.558867752188062}. Best is trial 54 with value: 2.7600377630875524e-05.\u001b[0m\n",
      "\u001b[32m[I 2021-12-26 17:58:43,985]\u001b[0m Trial 81 finished with value: 0.0022530841585603244 and parameters: {'x': 2.0474666636552468}. Best is trial 54 with value: 2.7600377630875524e-05.\u001b[0m\n"
     ]
    },
    {
     "output_type": "stream",
     "name": "stdout",
     "text": [
      "x: 2.030, score: 0.001\n",
      "x: 0.675, score: 1.756\n",
      "x: 2.274, score: 0.075\n",
      "x: 1.191, score: 0.655\n",
      "x: 4.199, score: 4.837\n",
      "x: 0.087, score: 3.660\n",
      "x: 2.786, score: 0.618\n",
      "x: 2.165, score: 0.027\n",
      "x: 3.670, score: 2.790\n",
      "x: 1.124, score: 0.768\n",
      "x: 1.942, score: 0.003\n",
      "x: 2.872, score: 0.761\n",
      "x: 1.869, score: 0.017\n",
      "x: 0.426, score: 2.478\n",
      "x: -0.619, score: 6.858\n",
      "x: 1.795, score: 0.042\n",
      "x: 2.880, score: 0.775\n",
      "x: -1.384, score: 11.452\n",
      "x: 3.826, score: 3.334\n",
      "x: 4.559, score: 6.548\n",
      "x: 2.047, score: 0.002\n",
      "x: 1.345, score: 0.429"
     ]
    },
    {
     "output_type": "stream",
     "name": "stderr",
     "text": [
      "\u001b[32m[I 2021-12-26 17:58:43,994]\u001b[0m Trial 82 finished with value: 0.42857336833301235 and parameters: {'x': 1.345344847776318}. Best is trial 54 with value: 2.7600377630875524e-05.\u001b[0m\n",
      "\u001b[32m[I 2021-12-26 17:58:44,005]\u001b[0m Trial 83 finished with value: 0.14072522628566106 and parameters: {'x': 2.3751336112449284}. Best is trial 54 with value: 2.7600377630875524e-05.\u001b[0m\n",
      "\u001b[32m[I 2021-12-26 17:58:44,015]\u001b[0m Trial 84 finished with value: 1.7270155541657093 and parameters: {'x': 3.314159638006627}. Best is trial 54 with value: 2.7600377630875524e-05.\u001b[0m\n",
      "\u001b[32m[I 2021-12-26 17:58:44,026]\u001b[0m Trial 85 finished with value: 1.1705970940225314 and parameters: {'x': 0.918058645756374}. Best is trial 54 with value: 2.7600377630875524e-05.\u001b[0m\n",
      "\u001b[32m[I 2021-12-26 17:58:44,035]\u001b[0m Trial 86 finished with value: 0.005385362506184472 and parameters: {'x': 1.9266149708306628}. Best is trial 54 with value: 2.7600377630875524e-05.\u001b[0m\n",
      "\u001b[32m[I 2021-12-26 17:58:44,042]\u001b[0m Trial 87 finished with value: 4.652916018543283 and parameters: {'x': -0.15706189492635625}. Best is trial 54 with value: 2.7600377630875524e-05.\u001b[0m\n",
      "\u001b[32m[I 2021-12-26 17:58:44,051]\u001b[0m Trial 88 finished with value: 0.23256955515130429 and parameters: {'x': 2.482254657988188}. Best is trial 54 with value: 2.7600377630875524e-05.\u001b[0m\n",
      "\u001b[32m[I 2021-12-26 17:58:44,059]\u001b[0m Trial 89 finished with value: 0.30516380732199333 and parameters: {'x': 1.4475836648668023}. Best is trial 54 with value: 2.7600377630875524e-05.\u001b[0m\n",
      "\u001b[32m[I 2021-12-26 17:58:44,066]\u001b[0m Trial 90 finished with value: 63.86665133289191 and parameters: {'x': 9.991661362501036}. Best is trial 54 with value: 2.7600377630875524e-05.\u001b[0m\n",
      "\u001b[32m[I 2021-12-26 17:58:44,078]\u001b[0m Trial 91 finished with value: 0.0008524422700844762 and parameters: {'x': 2.029196614017459}. Best is trial 54 with value: 2.7600377630875524e-05.\u001b[0m\n",
      "\u001b[32m[I 2021-12-26 17:58:44,086]\u001b[0m Trial 92 finished with value: 1.2731607633620055 and parameters: {'x': 3.12834425746844}. Best is trial 54 with value: 2.7600377630875524e-05.\u001b[0m\n",
      "\u001b[32m[I 2021-12-26 17:58:44,102]\u001b[0m Trial 93 finished with value: 0.0040631080903383255 and parameters: {'x': 2.0637425139944945}. Best is trial 54 with value: 2.7600377630875524e-05.\u001b[0m\n",
      "\u001b[32m[I 2021-12-26 17:58:44,110]\u001b[0m Trial 94 finished with value: 2.0627208341952894 and parameters: {'x': 0.5637824558252711}. Best is trial 54 with value: 2.7600377630875524e-05.\u001b[0m\n",
      "\u001b[32m[I 2021-12-26 17:58:44,121]\u001b[0m Trial 95 finished with value: 101.70308572400074 and parameters: {'x': -8.084794778477187}. Best is trial 54 with value: 2.7600377630875524e-05.\u001b[0m\n",
      "\u001b[32m[I 2021-12-26 17:58:44,131]\u001b[0m Trial 96 finished with value: 0.6374843984493216 and parameters: {'x': 1.2015737989962243}. Best is trial 54 with value: 2.7600377630875524e-05.\u001b[0m\n",
      "\u001b[32m[I 2021-12-26 17:58:44,143]\u001b[0m Trial 97 finished with value: 0.40096869874575586 and parameters: {'x': 2.6332208925373166}. Best is trial 54 with value: 2.7600377630875524e-05.\u001b[0m\n",
      "\u001b[32m[I 2021-12-26 17:58:44,153]\u001b[0m Trial 98 finished with value: 4.43936142692803 and parameters: {'x': 4.106979218437626}. Best is trial 54 with value: 2.7600377630875524e-05.\u001b[0m\n",
      "\u001b[32m[I 2021-12-26 17:58:44,163]\u001b[0m Trial 99 finished with value: 3.0793951138819238 and parameters: {'x': 0.24517946391036216}. Best is trial 54 with value: 2.7600377630875524e-05.\u001b[0m\n"
     ]
    },
    {
     "output_type": "stream",
     "name": "stdout",
     "text": [
      "\n",
      "x: 2.375, score: 0.141\n",
      "x: 3.314, score: 1.727\n",
      "x: 0.918, score: 1.171\n",
      "x: 1.927, score: 0.005\n",
      "x: -0.157, score: 4.653\n",
      "x: 2.482, score: 0.233\n",
      "x: 1.448, score: 0.305\n",
      "x: 9.992, score: 63.867\n",
      "x: 2.029, score: 0.001\n",
      "x: 3.128, score: 1.273\n",
      "x: 2.064, score: 0.004\n",
      "x: 0.564, score: 2.063\n",
      "x: -8.085, score: 101.703\n",
      "x: 1.202, score: 0.637\n",
      "x: 2.633, score: 0.401\n",
      "x: 4.107, score: 4.439\n",
      "x: 0.245, score: 3.079\n"
     ]
    }
   ],
   "metadata": {}
  },
  {
   "cell_type": "code",
   "execution_count": 35,
   "source": [
    "study.best_params"
   ],
   "outputs": [
    {
     "output_type": "execute_result",
     "data": {
      "text/plain": [
       "{'x': 2.005253606154907}"
      ]
     },
     "metadata": {},
     "execution_count": 35
    }
   ],
   "metadata": {}
  },
  {
   "cell_type": "code",
   "execution_count": 36,
   "source": [
    "# グリッドサーチの設定\n",
    "param_grid = [\n",
    "    {\n",
    "        \"preprocesser__num_transform__imputer__strategy\": [\"mean\", \"median\"],\n",
    "        \"preprocesser__num_transform__scaler\": [StandardScaler(), MinMaxScaler(), RobustScaler()],       \n",
    "        \"classifier__C\": [0.1, 1.0, 10.0, 100.0],\n",
    "        \"classifier\": [LogisticRegression()]\n",
    "    }\n",
    "]\n",
    "grid_search = GridSearchCV(pipeline, param_grid, cv=10, verbose=3,n_jobs=-1)\n"
   ],
   "outputs": [],
   "metadata": {}
  },
  {
   "cell_type": "code",
   "execution_count": 37,
   "source": [
    "grid_search.fit(X_train, y_train)"
   ],
   "outputs": [
    {
     "output_type": "stream",
     "name": "stdout",
     "text": [
      "Fitting 10 folds for each of 24 candidates, totalling 240 fits\n"
     ]
    },
    {
     "output_type": "execute_result",
     "data": {
      "text/plain": [
       "GridSearchCV(cv=10,\n",
       "             estimator=Pipeline(steps=[('preprocesser',\n",
       "                                        ColumnTransformer(transformers=[('num_transform',\n",
       "                                                                         Pipeline(steps=[('imputer',\n",
       "                                                                                          SimpleImputer()),\n",
       "                                                                                         ('scaler',\n",
       "                                                                                          StandardScaler())]),\n",
       "                                                                         ['age',\n",
       "                                                                          'sibsp',\n",
       "                                                                          'parch',\n",
       "                                                                          'fare'])])),\n",
       "                                       ('classifier', LogisticRegression())]),\n",
       "             n_jobs=-1,\n",
       "             param_grid=[{'classifier': [LogisticRegression()],\n",
       "                          'classifier__C': [0.1, 1.0, 10.0, 100.0],\n",
       "                          'preprocesser__num_transform__imputer__strategy': ['mean',\n",
       "                                                                             'median'],\n",
       "                          'preprocesser__num_transform__scaler': [StandardScaler(),\n",
       "                                                                  MinMaxScaler(),\n",
       "                                                                  RobustScaler()]}],\n",
       "             verbose=3)"
      ]
     },
     "metadata": {},
     "execution_count": 37
    }
   ],
   "metadata": {}
  },
  {
   "cell_type": "code",
   "execution_count": 38,
   "source": [
    "print(grid_search.best_params_) #最適なパイプライン\n",
    "print(grid_search.best_score_)  #正答率\n"
   ],
   "outputs": [
    {
     "output_type": "stream",
     "name": "stdout",
     "text": [
      "{'classifier': LogisticRegression(), 'classifier__C': 1.0, 'preprocesser__num_transform__imputer__strategy': 'mean', 'preprocesser__num_transform__scaler': RobustScaler()}\n",
      "0.671419413919414\n"
     ]
    }
   ],
   "metadata": {}
  },
  {
   "cell_type": "code",
   "execution_count": 39,
   "source": [
    "# テストデータで精度検証\n",
    "y_test_pred = grid_search.predict(X_test)\n",
    "print('accuracy:',accuracy_score(y_test, y_test_pred))\n",
    "print('f1:', f1_score(y_test, y_test_pred))"
   ],
   "outputs": [
    {
     "output_type": "stream",
     "name": "stdout",
     "text": [
      "accuracy: 0.6564885496183206\n",
      "f1: 0.30769230769230765\n"
     ]
    }
   ],
   "metadata": {}
  },
  {
   "cell_type": "code",
   "execution_count": 40,
   "source": [
    "# グリッドサーチの設定その２\n",
    "param_grid = [\n",
    "    {\n",
    "        \"preprocesser__num_transform__imputer__strategy\": [\"mean\", \"median\"],\n",
    "        \"preprocesser__num_transform__scaler\": [StandardScaler(), MinMaxScaler(), RobustScaler()],   \n",
    "        \"classifier__C\": [0.1, 1.0, 10.0, 100.0],\n",
    "        \"classifier\": [LogisticRegression()]\n",
    "    },\n",
    "    {\n",
    "        \"preprocesser__num_transform__imputer__strategy\": [\"mean\", \"median\"],\n",
    "        \"preprocesser__num_transform__scaler\": [StandardScaler(), MinMaxScaler(), RobustScaler()],   \n",
    "        \"classifier__n_estimators\": [10, 100, 1000],\n",
    "        \"classifier\": [RandomForestClassifier(), GradientBoostingClassifier(), AdaBoostClassifier()]\n",
    "    },\n",
    "    {\n",
    "        \"preprocesser__num_transform__imputer__strategy\": [\"mean\", \"median\"],\n",
    "        \"preprocesser__num_transform__scaler\": [StandardScaler(), MinMaxScaler(), RobustScaler()],   \n",
    "        \"classifier__C\": [1, 10, 100, 1000],\n",
    "        \"classifier\": [SVC(),LinearSVC()]\n",
    "    }\n",
    "]\n",
    "grid_search = GridSearchCV(pipeline, param_grid, cv=10, verbose=3,n_jobs=-1)\n"
   ],
   "outputs": [],
   "metadata": {}
  },
  {
   "cell_type": "code",
   "execution_count": 41,
   "source": [
    "grid_search.fit(X_train, y_train)"
   ],
   "outputs": [
    {
     "output_type": "stream",
     "name": "stdout",
     "text": [
      "Fitting 10 folds for each of 126 candidates, totalling 1260 fits\n"
     ]
    },
    {
     "output_type": "error",
     "ename": "KeyboardInterrupt",
     "evalue": "",
     "traceback": [
      "\u001b[0;31m---------------------------------------------------------------------------\u001b[0m",
      "\u001b[0;31mKeyboardInterrupt\u001b[0m                         Traceback (most recent call last)",
      "\u001b[0;32m<ipython-input-41-231b374c92ba>\u001b[0m in \u001b[0;36m<module>\u001b[0;34m\u001b[0m\n\u001b[0;32m----> 1\u001b[0;31m \u001b[0mgrid_search\u001b[0m\u001b[0;34m.\u001b[0m\u001b[0mfit\u001b[0m\u001b[0;34m(\u001b[0m\u001b[0mX_train\u001b[0m\u001b[0;34m,\u001b[0m \u001b[0my_train\u001b[0m\u001b[0;34m)\u001b[0m\u001b[0;34m\u001b[0m\u001b[0;34m\u001b[0m\u001b[0m\n\u001b[0m",
      "\u001b[0;32m/opt/anaconda3/lib/python3.8/site-packages/sklearn/utils/validation.py\u001b[0m in \u001b[0;36minner_f\u001b[0;34m(*args, **kwargs)\u001b[0m\n\u001b[1;32m     61\u001b[0m             \u001b[0mextra_args\u001b[0m \u001b[0;34m=\u001b[0m \u001b[0mlen\u001b[0m\u001b[0;34m(\u001b[0m\u001b[0margs\u001b[0m\u001b[0;34m)\u001b[0m \u001b[0;34m-\u001b[0m \u001b[0mlen\u001b[0m\u001b[0;34m(\u001b[0m\u001b[0mall_args\u001b[0m\u001b[0;34m)\u001b[0m\u001b[0;34m\u001b[0m\u001b[0;34m\u001b[0m\u001b[0m\n\u001b[1;32m     62\u001b[0m             \u001b[0;32mif\u001b[0m \u001b[0mextra_args\u001b[0m \u001b[0;34m<=\u001b[0m \u001b[0;36m0\u001b[0m\u001b[0;34m:\u001b[0m\u001b[0;34m\u001b[0m\u001b[0;34m\u001b[0m\u001b[0m\n\u001b[0;32m---> 63\u001b[0;31m                 \u001b[0;32mreturn\u001b[0m \u001b[0mf\u001b[0m\u001b[0;34m(\u001b[0m\u001b[0;34m*\u001b[0m\u001b[0margs\u001b[0m\u001b[0;34m,\u001b[0m \u001b[0;34m**\u001b[0m\u001b[0mkwargs\u001b[0m\u001b[0;34m)\u001b[0m\u001b[0;34m\u001b[0m\u001b[0;34m\u001b[0m\u001b[0m\n\u001b[0m\u001b[1;32m     64\u001b[0m \u001b[0;34m\u001b[0m\u001b[0m\n\u001b[1;32m     65\u001b[0m             \u001b[0;31m# extra_args > 0\u001b[0m\u001b[0;34m\u001b[0m\u001b[0;34m\u001b[0m\u001b[0;34m\u001b[0m\u001b[0m\n",
      "\u001b[0;32m/opt/anaconda3/lib/python3.8/site-packages/sklearn/model_selection/_search.py\u001b[0m in \u001b[0;36mfit\u001b[0;34m(self, X, y, groups, **fit_params)\u001b[0m\n\u001b[1;32m    839\u001b[0m                 \u001b[0;32mreturn\u001b[0m \u001b[0mresults\u001b[0m\u001b[0;34m\u001b[0m\u001b[0;34m\u001b[0m\u001b[0m\n\u001b[1;32m    840\u001b[0m \u001b[0;34m\u001b[0m\u001b[0m\n\u001b[0;32m--> 841\u001b[0;31m             \u001b[0mself\u001b[0m\u001b[0;34m.\u001b[0m\u001b[0m_run_search\u001b[0m\u001b[0;34m(\u001b[0m\u001b[0mevaluate_candidates\u001b[0m\u001b[0;34m)\u001b[0m\u001b[0;34m\u001b[0m\u001b[0;34m\u001b[0m\u001b[0m\n\u001b[0m\u001b[1;32m    842\u001b[0m \u001b[0;34m\u001b[0m\u001b[0m\n\u001b[1;32m    843\u001b[0m             \u001b[0;31m# multimetric is determined here because in the case of a callable\u001b[0m\u001b[0;34m\u001b[0m\u001b[0;34m\u001b[0m\u001b[0;34m\u001b[0m\u001b[0m\n",
      "\u001b[0;32m/opt/anaconda3/lib/python3.8/site-packages/sklearn/model_selection/_search.py\u001b[0m in \u001b[0;36m_run_search\u001b[0;34m(self, evaluate_candidates)\u001b[0m\n\u001b[1;32m   1294\u001b[0m     \u001b[0;32mdef\u001b[0m \u001b[0m_run_search\u001b[0m\u001b[0;34m(\u001b[0m\u001b[0mself\u001b[0m\u001b[0;34m,\u001b[0m \u001b[0mevaluate_candidates\u001b[0m\u001b[0;34m)\u001b[0m\u001b[0;34m:\u001b[0m\u001b[0;34m\u001b[0m\u001b[0;34m\u001b[0m\u001b[0m\n\u001b[1;32m   1295\u001b[0m         \u001b[0;34m\"\"\"Search all candidates in param_grid\"\"\"\u001b[0m\u001b[0;34m\u001b[0m\u001b[0;34m\u001b[0m\u001b[0m\n\u001b[0;32m-> 1296\u001b[0;31m         \u001b[0mevaluate_candidates\u001b[0m\u001b[0;34m(\u001b[0m\u001b[0mParameterGrid\u001b[0m\u001b[0;34m(\u001b[0m\u001b[0mself\u001b[0m\u001b[0;34m.\u001b[0m\u001b[0mparam_grid\u001b[0m\u001b[0;34m)\u001b[0m\u001b[0;34m)\u001b[0m\u001b[0;34m\u001b[0m\u001b[0;34m\u001b[0m\u001b[0m\n\u001b[0m\u001b[1;32m   1297\u001b[0m \u001b[0;34m\u001b[0m\u001b[0m\n\u001b[1;32m   1298\u001b[0m \u001b[0;34m\u001b[0m\u001b[0m\n",
      "\u001b[0;32m/opt/anaconda3/lib/python3.8/site-packages/sklearn/model_selection/_search.py\u001b[0m in \u001b[0;36mevaluate_candidates\u001b[0;34m(candidate_params, cv, more_results)\u001b[0m\n\u001b[1;32m    793\u001b[0m                               n_splits, n_candidates, n_candidates * n_splits))\n\u001b[1;32m    794\u001b[0m \u001b[0;34m\u001b[0m\u001b[0m\n\u001b[0;32m--> 795\u001b[0;31m                 out = parallel(delayed(_fit_and_score)(clone(base_estimator),\n\u001b[0m\u001b[1;32m    796\u001b[0m                                                        \u001b[0mX\u001b[0m\u001b[0;34m,\u001b[0m \u001b[0my\u001b[0m\u001b[0;34m,\u001b[0m\u001b[0;34m\u001b[0m\u001b[0;34m\u001b[0m\u001b[0m\n\u001b[1;32m    797\u001b[0m                                                        \u001b[0mtrain\u001b[0m\u001b[0;34m=\u001b[0m\u001b[0mtrain\u001b[0m\u001b[0;34m,\u001b[0m \u001b[0mtest\u001b[0m\u001b[0;34m=\u001b[0m\u001b[0mtest\u001b[0m\u001b[0;34m,\u001b[0m\u001b[0;34m\u001b[0m\u001b[0;34m\u001b[0m\u001b[0m\n",
      "\u001b[0;32m/opt/anaconda3/lib/python3.8/site-packages/joblib/parallel.py\u001b[0m in \u001b[0;36m__call__\u001b[0;34m(self, iterable)\u001b[0m\n\u001b[1;32m   1052\u001b[0m \u001b[0;34m\u001b[0m\u001b[0m\n\u001b[1;32m   1053\u001b[0m             \u001b[0;32mwith\u001b[0m \u001b[0mself\u001b[0m\u001b[0;34m.\u001b[0m\u001b[0m_backend\u001b[0m\u001b[0;34m.\u001b[0m\u001b[0mretrieval_context\u001b[0m\u001b[0;34m(\u001b[0m\u001b[0;34m)\u001b[0m\u001b[0;34m:\u001b[0m\u001b[0;34m\u001b[0m\u001b[0;34m\u001b[0m\u001b[0m\n\u001b[0;32m-> 1054\u001b[0;31m                 \u001b[0mself\u001b[0m\u001b[0;34m.\u001b[0m\u001b[0mretrieve\u001b[0m\u001b[0;34m(\u001b[0m\u001b[0;34m)\u001b[0m\u001b[0;34m\u001b[0m\u001b[0;34m\u001b[0m\u001b[0m\n\u001b[0m\u001b[1;32m   1055\u001b[0m             \u001b[0;31m# Make sure that we get a last message telling us we are done\u001b[0m\u001b[0;34m\u001b[0m\u001b[0;34m\u001b[0m\u001b[0;34m\u001b[0m\u001b[0m\n\u001b[1;32m   1056\u001b[0m             \u001b[0melapsed_time\u001b[0m \u001b[0;34m=\u001b[0m \u001b[0mtime\u001b[0m\u001b[0;34m.\u001b[0m\u001b[0mtime\u001b[0m\u001b[0;34m(\u001b[0m\u001b[0;34m)\u001b[0m \u001b[0;34m-\u001b[0m \u001b[0mself\u001b[0m\u001b[0;34m.\u001b[0m\u001b[0m_start_time\u001b[0m\u001b[0;34m\u001b[0m\u001b[0;34m\u001b[0m\u001b[0m\n",
      "\u001b[0;32m/opt/anaconda3/lib/python3.8/site-packages/joblib/parallel.py\u001b[0m in \u001b[0;36mretrieve\u001b[0;34m(self)\u001b[0m\n\u001b[1;32m    931\u001b[0m             \u001b[0;32mtry\u001b[0m\u001b[0;34m:\u001b[0m\u001b[0;34m\u001b[0m\u001b[0;34m\u001b[0m\u001b[0m\n\u001b[1;32m    932\u001b[0m                 \u001b[0;32mif\u001b[0m \u001b[0mgetattr\u001b[0m\u001b[0;34m(\u001b[0m\u001b[0mself\u001b[0m\u001b[0;34m.\u001b[0m\u001b[0m_backend\u001b[0m\u001b[0;34m,\u001b[0m \u001b[0;34m'supports_timeout'\u001b[0m\u001b[0;34m,\u001b[0m \u001b[0;32mFalse\u001b[0m\u001b[0;34m)\u001b[0m\u001b[0;34m:\u001b[0m\u001b[0;34m\u001b[0m\u001b[0;34m\u001b[0m\u001b[0m\n\u001b[0;32m--> 933\u001b[0;31m                     \u001b[0mself\u001b[0m\u001b[0;34m.\u001b[0m\u001b[0m_output\u001b[0m\u001b[0;34m.\u001b[0m\u001b[0mextend\u001b[0m\u001b[0;34m(\u001b[0m\u001b[0mjob\u001b[0m\u001b[0;34m.\u001b[0m\u001b[0mget\u001b[0m\u001b[0;34m(\u001b[0m\u001b[0mtimeout\u001b[0m\u001b[0;34m=\u001b[0m\u001b[0mself\u001b[0m\u001b[0;34m.\u001b[0m\u001b[0mtimeout\u001b[0m\u001b[0;34m)\u001b[0m\u001b[0;34m)\u001b[0m\u001b[0;34m\u001b[0m\u001b[0;34m\u001b[0m\u001b[0m\n\u001b[0m\u001b[1;32m    934\u001b[0m                 \u001b[0;32melse\u001b[0m\u001b[0;34m:\u001b[0m\u001b[0;34m\u001b[0m\u001b[0;34m\u001b[0m\u001b[0m\n\u001b[1;32m    935\u001b[0m                     \u001b[0mself\u001b[0m\u001b[0;34m.\u001b[0m\u001b[0m_output\u001b[0m\u001b[0;34m.\u001b[0m\u001b[0mextend\u001b[0m\u001b[0;34m(\u001b[0m\u001b[0mjob\u001b[0m\u001b[0;34m.\u001b[0m\u001b[0mget\u001b[0m\u001b[0;34m(\u001b[0m\u001b[0;34m)\u001b[0m\u001b[0;34m)\u001b[0m\u001b[0;34m\u001b[0m\u001b[0;34m\u001b[0m\u001b[0m\n",
      "\u001b[0;32m/opt/anaconda3/lib/python3.8/site-packages/joblib/_parallel_backends.py\u001b[0m in \u001b[0;36mwrap_future_result\u001b[0;34m(future, timeout)\u001b[0m\n\u001b[1;32m    540\u001b[0m         AsyncResults.get from multiprocessing.\"\"\"\n\u001b[1;32m    541\u001b[0m         \u001b[0;32mtry\u001b[0m\u001b[0;34m:\u001b[0m\u001b[0;34m\u001b[0m\u001b[0;34m\u001b[0m\u001b[0m\n\u001b[0;32m--> 542\u001b[0;31m             \u001b[0;32mreturn\u001b[0m \u001b[0mfuture\u001b[0m\u001b[0;34m.\u001b[0m\u001b[0mresult\u001b[0m\u001b[0;34m(\u001b[0m\u001b[0mtimeout\u001b[0m\u001b[0;34m=\u001b[0m\u001b[0mtimeout\u001b[0m\u001b[0;34m)\u001b[0m\u001b[0;34m\u001b[0m\u001b[0;34m\u001b[0m\u001b[0m\n\u001b[0m\u001b[1;32m    543\u001b[0m         \u001b[0;32mexcept\u001b[0m \u001b[0mCfTimeoutError\u001b[0m \u001b[0;32mas\u001b[0m \u001b[0me\u001b[0m\u001b[0;34m:\u001b[0m\u001b[0;34m\u001b[0m\u001b[0;34m\u001b[0m\u001b[0m\n\u001b[1;32m    544\u001b[0m             \u001b[0;32mraise\u001b[0m \u001b[0mTimeoutError\u001b[0m \u001b[0;32mfrom\u001b[0m \u001b[0me\u001b[0m\u001b[0;34m\u001b[0m\u001b[0;34m\u001b[0m\u001b[0m\n",
      "\u001b[0;32m/opt/anaconda3/lib/python3.8/concurrent/futures/_base.py\u001b[0m in \u001b[0;36mresult\u001b[0;34m(self, timeout)\u001b[0m\n\u001b[1;32m    432\u001b[0m                 \u001b[0;32mreturn\u001b[0m \u001b[0mself\u001b[0m\u001b[0;34m.\u001b[0m\u001b[0m__get_result\u001b[0m\u001b[0;34m(\u001b[0m\u001b[0;34m)\u001b[0m\u001b[0;34m\u001b[0m\u001b[0;34m\u001b[0m\u001b[0m\n\u001b[1;32m    433\u001b[0m \u001b[0;34m\u001b[0m\u001b[0m\n\u001b[0;32m--> 434\u001b[0;31m             \u001b[0mself\u001b[0m\u001b[0;34m.\u001b[0m\u001b[0m_condition\u001b[0m\u001b[0;34m.\u001b[0m\u001b[0mwait\u001b[0m\u001b[0;34m(\u001b[0m\u001b[0mtimeout\u001b[0m\u001b[0;34m)\u001b[0m\u001b[0;34m\u001b[0m\u001b[0;34m\u001b[0m\u001b[0m\n\u001b[0m\u001b[1;32m    435\u001b[0m \u001b[0;34m\u001b[0m\u001b[0m\n\u001b[1;32m    436\u001b[0m             \u001b[0;32mif\u001b[0m \u001b[0mself\u001b[0m\u001b[0;34m.\u001b[0m\u001b[0m_state\u001b[0m \u001b[0;32min\u001b[0m \u001b[0;34m[\u001b[0m\u001b[0mCANCELLED\u001b[0m\u001b[0;34m,\u001b[0m \u001b[0mCANCELLED_AND_NOTIFIED\u001b[0m\u001b[0;34m]\u001b[0m\u001b[0;34m:\u001b[0m\u001b[0;34m\u001b[0m\u001b[0;34m\u001b[0m\u001b[0m\n",
      "\u001b[0;32m/opt/anaconda3/lib/python3.8/threading.py\u001b[0m in \u001b[0;36mwait\u001b[0;34m(self, timeout)\u001b[0m\n\u001b[1;32m    300\u001b[0m         \u001b[0;32mtry\u001b[0m\u001b[0;34m:\u001b[0m    \u001b[0;31m# restore state no matter what (e.g., KeyboardInterrupt)\u001b[0m\u001b[0;34m\u001b[0m\u001b[0;34m\u001b[0m\u001b[0m\n\u001b[1;32m    301\u001b[0m             \u001b[0;32mif\u001b[0m \u001b[0mtimeout\u001b[0m \u001b[0;32mis\u001b[0m \u001b[0;32mNone\u001b[0m\u001b[0;34m:\u001b[0m\u001b[0;34m\u001b[0m\u001b[0;34m\u001b[0m\u001b[0m\n\u001b[0;32m--> 302\u001b[0;31m                 \u001b[0mwaiter\u001b[0m\u001b[0;34m.\u001b[0m\u001b[0macquire\u001b[0m\u001b[0;34m(\u001b[0m\u001b[0;34m)\u001b[0m\u001b[0;34m\u001b[0m\u001b[0;34m\u001b[0m\u001b[0m\n\u001b[0m\u001b[1;32m    303\u001b[0m                 \u001b[0mgotit\u001b[0m \u001b[0;34m=\u001b[0m \u001b[0;32mTrue\u001b[0m\u001b[0;34m\u001b[0m\u001b[0;34m\u001b[0m\u001b[0m\n\u001b[1;32m    304\u001b[0m             \u001b[0;32melse\u001b[0m\u001b[0;34m:\u001b[0m\u001b[0;34m\u001b[0m\u001b[0;34m\u001b[0m\u001b[0m\n",
      "\u001b[0;31mKeyboardInterrupt\u001b[0m: "
     ]
    }
   ],
   "metadata": {}
  },
  {
   "cell_type": "code",
   "execution_count": null,
   "source": [
    "# グリッドサーチの結果\n",
    "print(grid_search.best_params_) #最適なパイプライン\n",
    "print(grid_search.best_score_)  #正答率"
   ],
   "outputs": [
    {
     "output_type": "stream",
     "name": "stdout",
     "text": [
      "{'classifier': SVC(C=100), 'classifier__C': 100, 'preprocesser__num_transform__imputer__strategy': 'mean', 'preprocesser__num_transform__scaler': StandardScaler()}\n",
      "0.723919413919414\n"
     ]
    }
   ],
   "metadata": {}
  },
  {
   "cell_type": "code",
   "execution_count": null,
   "source": [
    "# テストデータで精度検証\n",
    "y_test_pred = grid_search.predict(X_test)\n",
    "print('accuracy:',accuracy_score(y_test, y_test_pred))\n",
    "print('f1:', f1_score(y_test, y_test_pred))\n"
   ],
   "outputs": [
    {
     "output_type": "stream",
     "name": "stdout",
     "text": [
      "accuracy: 0.6984732824427481\n",
      "f1: 0.5269461077844312\n"
     ]
    }
   ],
   "metadata": {}
  },
  {
   "cell_type": "code",
   "execution_count": null,
   "source": [
    "rand_search = RandomizedSearchCV(pipeline, param_grid, cv=10, verbose=3, n_jobs=-1, n_iter=10)"
   ],
   "outputs": [],
   "metadata": {}
  },
  {
   "cell_type": "code",
   "execution_count": null,
   "source": [
    "# ランダムサーチの実行\n",
    "rand_search.fit(X_train, y_train)"
   ],
   "outputs": [
    {
     "output_type": "stream",
     "name": "stdout",
     "text": [
      "Fitting 10 folds for each of 10 candidates, totalling 100 fits\n"
     ]
    },
    {
     "output_type": "execute_result",
     "data": {
      "text/html": [
       "<style>#sk-188f61f9-05b8-48f1-8617-ae12cc26220f {color: black;background-color: white;}#sk-188f61f9-05b8-48f1-8617-ae12cc26220f pre{padding: 0;}#sk-188f61f9-05b8-48f1-8617-ae12cc26220f div.sk-toggleable {background-color: white;}#sk-188f61f9-05b8-48f1-8617-ae12cc26220f label.sk-toggleable__label {cursor: pointer;display: block;width: 100%;margin-bottom: 0;padding: 0.2em 0.3em;box-sizing: border-box;text-align: center;}#sk-188f61f9-05b8-48f1-8617-ae12cc26220f div.sk-toggleable__content {max-height: 0;max-width: 0;overflow: hidden;text-align: left;background-color: #f0f8ff;}#sk-188f61f9-05b8-48f1-8617-ae12cc26220f div.sk-toggleable__content pre {margin: 0.2em;color: black;border-radius: 0.25em;background-color: #f0f8ff;}#sk-188f61f9-05b8-48f1-8617-ae12cc26220f input.sk-toggleable__control:checked~div.sk-toggleable__content {max-height: 200px;max-width: 100%;overflow: auto;}#sk-188f61f9-05b8-48f1-8617-ae12cc26220f div.sk-estimator input.sk-toggleable__control:checked~label.sk-toggleable__label {background-color: #d4ebff;}#sk-188f61f9-05b8-48f1-8617-ae12cc26220f div.sk-label input.sk-toggleable__control:checked~label.sk-toggleable__label {background-color: #d4ebff;}#sk-188f61f9-05b8-48f1-8617-ae12cc26220f input.sk-hidden--visually {border: 0;clip: rect(1px 1px 1px 1px);clip: rect(1px, 1px, 1px, 1px);height: 1px;margin: -1px;overflow: hidden;padding: 0;position: absolute;width: 1px;}#sk-188f61f9-05b8-48f1-8617-ae12cc26220f div.sk-estimator {font-family: monospace;background-color: #f0f8ff;margin: 0.25em 0.25em;border: 1px dotted black;border-radius: 0.25em;box-sizing: border-box;}#sk-188f61f9-05b8-48f1-8617-ae12cc26220f div.sk-estimator:hover {background-color: #d4ebff;}#sk-188f61f9-05b8-48f1-8617-ae12cc26220f div.sk-parallel-item::after {content: \"\";width: 100%;border-bottom: 1px solid gray;flex-grow: 1;}#sk-188f61f9-05b8-48f1-8617-ae12cc26220f div.sk-label:hover label.sk-toggleable__label {background-color: #d4ebff;}#sk-188f61f9-05b8-48f1-8617-ae12cc26220f div.sk-serial::before {content: \"\";position: absolute;border-left: 1px solid gray;box-sizing: border-box;top: 2em;bottom: 0;left: 50%;}#sk-188f61f9-05b8-48f1-8617-ae12cc26220f div.sk-serial {display: flex;flex-direction: column;align-items: center;background-color: white;}#sk-188f61f9-05b8-48f1-8617-ae12cc26220f div.sk-item {z-index: 1;}#sk-188f61f9-05b8-48f1-8617-ae12cc26220f div.sk-parallel {display: flex;align-items: stretch;justify-content: center;background-color: white;}#sk-188f61f9-05b8-48f1-8617-ae12cc26220f div.sk-parallel-item {display: flex;flex-direction: column;position: relative;background-color: white;}#sk-188f61f9-05b8-48f1-8617-ae12cc26220f div.sk-parallel-item:first-child::after {align-self: flex-end;width: 50%;}#sk-188f61f9-05b8-48f1-8617-ae12cc26220f div.sk-parallel-item:last-child::after {align-self: flex-start;width: 50%;}#sk-188f61f9-05b8-48f1-8617-ae12cc26220f div.sk-parallel-item:only-child::after {width: 0;}#sk-188f61f9-05b8-48f1-8617-ae12cc26220f div.sk-dashed-wrapped {border: 1px dashed gray;margin: 0.2em;box-sizing: border-box;padding-bottom: 0.1em;background-color: white;position: relative;}#sk-188f61f9-05b8-48f1-8617-ae12cc26220f div.sk-label label {font-family: monospace;font-weight: bold;background-color: white;display: inline-block;line-height: 1.2em;}#sk-188f61f9-05b8-48f1-8617-ae12cc26220f div.sk-label-container {position: relative;z-index: 2;text-align: center;}#sk-188f61f9-05b8-48f1-8617-ae12cc26220f div.sk-container {display: inline-block;position: relative;}</style><div id=\"sk-188f61f9-05b8-48f1-8617-ae12cc26220f\" class\"sk-top-container\"><div class=\"sk-container\"><div class=\"sk-item sk-dashed-wrapped\"><div class=\"sk-label-container\"><div class=\"sk-label sk-toggleable\"><input class=\"sk-toggleable__control sk-hidden--visually\" id=\"e06ac18e-6ec9-4bda-a78b-2524d64e01f4\" type=\"checkbox\" ><label class=\"sk-toggleable__label\" for=\"e06ac18e-6ec9-4bda-a78b-2524d64e01f4\">RandomizedSearchCV</label><div class=\"sk-toggleable__content\"><pre>RandomizedSearchCV(cv=10,\n",
       "                   estimator=Pipeline(steps=[('preprocesser',\n",
       "                                              ColumnTransformer(transformers=[('num_transform',\n",
       "                                                                               Pipeline(steps=[('imputer',\n",
       "                                                                                                SimpleImputer()),\n",
       "                                                                                               ('scaler',\n",
       "                                                                                                StandardScaler())]),\n",
       "                                                                               ['age',\n",
       "                                                                                'sibsp',\n",
       "                                                                                'parch',\n",
       "                                                                                'fare'])])),\n",
       "                                             ('classifier',\n",
       "                                              LogisticRegression())]),\n",
       "                   n_jobs=-1,\n",
       "                   param_distributions=[{'classifier': [LogisticRegression()],\n",
       "                                         'classifier__C': [0....\n",
       "                                         'preprocesser__num_transform__imputer__strategy': ['mean',\n",
       "                                                                                            'median'],\n",
       "                                         'preprocesser__num_transform__scaler': [StandardScaler(),\n",
       "                                                                                 MinMaxScaler(),\n",
       "                                                                                 RobustScaler()]},\n",
       "                                        {'classifier': [SVC(C=100),\n",
       "                                                        LinearSVC()],\n",
       "                                         'classifier__C': [1, 10, 100, 1000],\n",
       "                                         'preprocesser__num_transform__imputer__strategy': ['mean',\n",
       "                                                                                            'median'],\n",
       "                                         'preprocesser__num_transform__scaler': [StandardScaler(),\n",
       "                                                                                 MinMaxScaler(),\n",
       "                                                                                 RobustScaler()]}],\n",
       "                   verbose=3)</pre></div></div></div><div class=\"sk-parallel\"><div class=\"sk-parallel-item\"><div class=\"sk-item\"><div class=\"sk-serial\"><div class=\"sk-item\"><div class=\"sk-serial\"><div class=\"sk-item sk-dashed-wrapped\"><div class=\"sk-label-container\"><div class=\"sk-label sk-toggleable\"><input class=\"sk-toggleable__control sk-hidden--visually\" id=\"6f0530e3-2c2c-48ec-96a0-377d64eee554\" type=\"checkbox\" ><label class=\"sk-toggleable__label\" for=\"6f0530e3-2c2c-48ec-96a0-377d64eee554\">preprocesser: ColumnTransformer</label><div class=\"sk-toggleable__content\"><pre>ColumnTransformer(transformers=[('num_transform',\n",
       "                                 Pipeline(steps=[('imputer', SimpleImputer()),\n",
       "                                                 ('scaler', StandardScaler())]),\n",
       "                                 ['age', 'sibsp', 'parch', 'fare'])])</pre></div></div></div><div class=\"sk-parallel\"><div class=\"sk-parallel-item\"><div class=\"sk-item\"><div class=\"sk-label-container\"><div class=\"sk-label sk-toggleable\"><input class=\"sk-toggleable__control sk-hidden--visually\" id=\"f5f85e04-de37-4e65-86c2-fd5e872aa815\" type=\"checkbox\" ><label class=\"sk-toggleable__label\" for=\"f5f85e04-de37-4e65-86c2-fd5e872aa815\">num_transform</label><div class=\"sk-toggleable__content\"><pre>['age', 'sibsp', 'parch', 'fare']</pre></div></div></div><div class=\"sk-serial\"><div class=\"sk-item\"><div class=\"sk-serial\"><div class=\"sk-item\"><div class=\"sk-estimator sk-toggleable\"><input class=\"sk-toggleable__control sk-hidden--visually\" id=\"d8012988-d100-41c8-8e15-0e89ad98595e\" type=\"checkbox\" ><label class=\"sk-toggleable__label\" for=\"d8012988-d100-41c8-8e15-0e89ad98595e\">SimpleImputer</label><div class=\"sk-toggleable__content\"><pre>SimpleImputer()</pre></div></div></div><div class=\"sk-item\"><div class=\"sk-estimator sk-toggleable\"><input class=\"sk-toggleable__control sk-hidden--visually\" id=\"abc89f47-af22-42d5-8c48-c8a0a0415c85\" type=\"checkbox\" ><label class=\"sk-toggleable__label\" for=\"abc89f47-af22-42d5-8c48-c8a0a0415c85\">StandardScaler</label><div class=\"sk-toggleable__content\"><pre>StandardScaler()</pre></div></div></div></div></div></div></div></div></div></div><div class=\"sk-item\"><div class=\"sk-estimator sk-toggleable\"><input class=\"sk-toggleable__control sk-hidden--visually\" id=\"fa9702da-757d-4265-95c0-02fb46460500\" type=\"checkbox\" ><label class=\"sk-toggleable__label\" for=\"fa9702da-757d-4265-95c0-02fb46460500\">LogisticRegression</label><div class=\"sk-toggleable__content\"><pre>LogisticRegression()</pre></div></div></div></div></div></div></div></div></div></div></div></div>"
      ],
      "text/plain": [
       "RandomizedSearchCV(cv=10,\n",
       "                   estimator=Pipeline(steps=[('preprocesser',\n",
       "                                              ColumnTransformer(transformers=[('num_transform',\n",
       "                                                                               Pipeline(steps=[('imputer',\n",
       "                                                                                                SimpleImputer()),\n",
       "                                                                                               ('scaler',\n",
       "                                                                                                StandardScaler())]),\n",
       "                                                                               ['age',\n",
       "                                                                                'sibsp',\n",
       "                                                                                'parch',\n",
       "                                                                                'fare'])])),\n",
       "                                             ('classifier',\n",
       "                                              LogisticRegression())]),\n",
       "                   n_jobs=-1,\n",
       "                   param_distributions=[{'classifier': [LogisticRegression()],\n",
       "                                         'classifier__C': [0....\n",
       "                                         'preprocesser__num_transform__imputer__strategy': ['mean',\n",
       "                                                                                            'median'],\n",
       "                                         'preprocesser__num_transform__scaler': [StandardScaler(),\n",
       "                                                                                 MinMaxScaler(),\n",
       "                                                                                 RobustScaler()]},\n",
       "                                        {'classifier': [SVC(C=100),\n",
       "                                                        LinearSVC()],\n",
       "                                         'classifier__C': [1, 10, 100, 1000],\n",
       "                                         'preprocesser__num_transform__imputer__strategy': ['mean',\n",
       "                                                                                            'median'],\n",
       "                                         'preprocesser__num_transform__scaler': [StandardScaler(),\n",
       "                                                                                 MinMaxScaler(),\n",
       "                                                                                 RobustScaler()]}],\n",
       "                   verbose=3)"
      ]
     },
     "metadata": {},
     "execution_count": 111
    }
   ],
   "metadata": {}
  },
  {
   "cell_type": "code",
   "execution_count": null,
   "source": [
    "# ランダムサーチの結果\n",
    "print(rand_search.best_params_) #最適なパイプライン\n",
    "print(rand_search.best_score_)  #正答率"
   ],
   "outputs": [
    {
     "output_type": "stream",
     "name": "stdout",
     "text": [
      "{'preprocesser__num_transform__scaler': StandardScaler(), 'preprocesser__num_transform__imputer__strategy': 'median', 'classifier__n_estimators': 100, 'classifier': AdaBoostClassifier(n_estimators=100)}\n",
      "0.7172802197802198\n"
     ]
    }
   ],
   "metadata": {}
  },
  {
   "cell_type": "code",
   "execution_count": null,
   "source": [
    "# テストデータで精度検証\n",
    "y_test_pred = rand_search.predict(X_test)\n",
    "print('accuracy:',accuracy_score(y_test, y_test_pred))\n",
    "print('f1:', f1_score(y_test, y_test_pred))"
   ],
   "outputs": [
    {
     "output_type": "stream",
     "name": "stdout",
     "text": [
      "accuracy: 0.6755725190839694\n",
      "f1: 0.5251396648044693\n"
     ]
    }
   ],
   "metadata": {}
  },
  {
   "cell_type": "code",
   "execution_count": null,
   "source": [
    "# https://scikit-learn.org/stable/modules/generated/sklearn.datasets.load_breast_cancer.html\n",
    "from sklearn.datasets import load_breast_cancer\n",
    "breast_cancer = load_breast_cancer()\n",
    "X = breast_cancer.data\n",
    "y = breast_cancer.target.ravel()"
   ],
   "outputs": [],
   "metadata": {}
  },
  {
   "cell_type": "code",
   "execution_count": null,
   "source": [
    "from sklearn.model_selection import train_test_split \n",
    "# 訓練データ・テストデータへ6:4の比でランダムに分割\n",
    "X_train, X_test, y_train, y_test = train_test_split(X, y, test_size=.4) "
   ],
   "outputs": [],
   "metadata": {}
  },
  {
   "cell_type": "code",
   "execution_count": null,
   "source": [
    "%%time#grifsearchの場合\n",
    "from sklearn.model_selection import GridSearchCV\n",
    "\n",
    "# LightGBM\n",
    "import lightgbm as lgb\n",
    "\n",
    "# グリッドサーチを行うためのパラメーター\n",
    "parameters = [{\n",
    "    'learning_rate':[0.1,0.2],\n",
    "    'n_estimators':[20,100,200],\n",
    "    'max_depth':[3,5,7,9],\n",
    "    'min_child_weight':[0.5,1,2],\n",
    "    'min_child_samples':[5,10,20],\n",
    "    'subsample':[0.8],\n",
    "    'colsample_bytree':[0.8],\n",
    "    'verbose':[-1],\n",
    "    'num_leaves':[80]\n",
    "}]\n",
    "\n",
    "#グリッドサーチ実行\n",
    "classifier = GridSearchCV(lgb.LGBMClassifier(), parameters, cv=3, n_jobs=-1)\n",
    "classifier.fit(X_train, y_train)\n",
    "print(\"Accuracy score (train): \", classifier.score(X_train, y_train))\n",
    "print(\"Accuracy score (test): \", classifier.score(X_test, y_test))\n",
    "print(classifier.best_estimator_) # ベストのパラメーター"
   ],
   "outputs": [
    {
     "output_type": "stream",
     "name": "stdout",
     "text": [
      "Accuracy score (train):  1.0\n",
      "Accuracy score (test):  0.9736842105263158\n",
      "LGBMClassifier(colsample_bytree=0.8, max_depth=3, min_child_weight=2,\n",
      "               n_estimators=200, num_leaves=80, subsample=0.8, verbose=-1)\n",
      "CPU times: user 1.15 s, sys: 144 ms, total: 1.3 s\n",
      "Wall time: 16.7 s\n"
     ]
    }
   ],
   "metadata": {}
  },
  {
   "cell_type": "code",
   "execution_count": null,
   "source": [
    "import numpy as np\n",
    "import lightgbm as lgb\n",
    "# 目的関数\n",
    "def objective(trial):\n",
    "    learning_rate = trial.suggest_loguniform('learning_rate', 0.1,0.2),\n",
    "    n_estimators, = trial.suggest_int('n_estimators', 20, 200),\n",
    "    max_depth, = trial.suggest_int('max_depth', 3, 9),\n",
    "    min_child_weight = trial.suggest_loguniform('min_child_weight', 0.5, 2),\n",
    "    min_child_samples, = trial.suggest_int('min_child_samples', 5, 20),\n",
    "    classifier = lgb.LGBMClassifier(learning_rate=learning_rate, \n",
    "                                    n_estimators=n_estimators,\n",
    "                                    max_depth=max_depth, \n",
    "                                    min_child_weight=min_child_weight,\n",
    "                                    min_child_samples=min_child_samples,\n",
    "                                    subsample=0.8, colsample_bytree=0.8,\n",
    "                                    verbose=-1, num_leaves=80)\n",
    "    classifier.fit(X_train, y_train)\n",
    "    #return classifier.score(X_train, y_train) # 正答率（train） の最適化\n",
    "    return np.linalg.norm(y_train - classifier.predict_proba(X_train)[:, 1], ord=1) # 尤度の最適化"
   ],
   "outputs": [],
   "metadata": {}
  },
  {
   "cell_type": "code",
   "execution_count": null,
   "source": [
    "#study = optuna.create_study(direction='maximize') # 最大化\n",
    "study = optuna.create_study(direction='minimize') # 最小化"
   ],
   "outputs": [
    {
     "output_type": "stream",
     "name": "stderr",
     "text": [
      "\u001b[32m[I 2021-12-25 21:44:24,562]\u001b[0m A new study created in memory with name: no-name-149e0114-fe25-4332-97ad-db8790652fb2\u001b[0m\n"
     ]
    }
   ],
   "metadata": {}
  },
  {
   "cell_type": "code",
   "execution_count": null,
   "source": [
    "study.optimize(objective, n_trials=100)"
   ],
   "outputs": [
    {
     "output_type": "stream",
     "name": "stderr",
     "text": [
      "\u001b[32m[I 2021-12-25 21:45:04,737]\u001b[0m Trial 1 finished with value: 3.363022286438531 and parameters: {'learning_rate': 0.16873617172493194, 'n_estimators': 52, 'max_depth': 5, 'min_child_weight': 1.0662962128087536, 'min_child_samples': 20}. Best is trial 1 with value: 3.363022286438531.\u001b[0m\n",
      "\u001b[32m[I 2021-12-25 21:45:04,810]\u001b[0m Trial 2 finished with value: 3.5124274362137418 and parameters: {'learning_rate': 0.16041622088571988, 'n_estimators': 80, 'max_depth': 6, 'min_child_weight': 1.4243835796874045, 'min_child_samples': 10}. Best is trial 1 with value: 3.363022286438531.\u001b[0m\n",
      "\u001b[32m[I 2021-12-25 21:45:04,964]\u001b[0m Trial 3 finished with value: 4.249353868424041 and parameters: {'learning_rate': 0.12394358346446024, 'n_estimators': 176, 'max_depth': 5, 'min_child_weight': 1.952840078125491, 'min_child_samples': 9}. Best is trial 1 with value: 3.363022286438531.\u001b[0m\n",
      "\u001b[32m[I 2021-12-25 21:45:05,027]\u001b[0m Trial 4 finished with value: 5.310181510582019 and parameters: {'learning_rate': 0.16449568649228047, 'n_estimators': 44, 'max_depth': 6, 'min_child_weight': 1.6326978724392167, 'min_child_samples': 13}. Best is trial 1 with value: 3.363022286438531.\u001b[0m\n",
      "\u001b[32m[I 2021-12-25 21:45:05,160]\u001b[0m Trial 5 finished with value: 3.084999136472934 and parameters: {'learning_rate': 0.10032963505485762, 'n_estimators': 65, 'max_depth': 9, 'min_child_weight': 0.7574567284338554, 'min_child_samples': 13}. Best is trial 5 with value: 3.084999136472934.\u001b[0m\n",
      "\u001b[32m[I 2021-12-25 21:45:05,229]\u001b[0m Trial 6 finished with value: 3.6355749850087236 and parameters: {'learning_rate': 0.1705560176121, 'n_estimators': 147, 'max_depth': 5, 'min_child_weight': 1.6822729942246877, 'min_child_samples': 19}. Best is trial 5 with value: 3.084999136472934.\u001b[0m\n",
      "\u001b[32m[I 2021-12-25 21:45:05,296]\u001b[0m Trial 7 finished with value: 2.744827855466321 and parameters: {'learning_rate': 0.12322583468811098, 'n_estimators': 111, 'max_depth': 3, 'min_child_weight': 1.0565058649664023, 'min_child_samples': 12}. Best is trial 7 with value: 2.744827855466321.\u001b[0m\n",
      "\u001b[32m[I 2021-12-25 21:45:05,375]\u001b[0m Trial 8 finished with value: 1.6456225622768454 and parameters: {'learning_rate': 0.18799612805297578, 'n_estimators': 128, 'max_depth': 6, 'min_child_weight': 0.7946131226164979, 'min_child_samples': 19}. Best is trial 8 with value: 1.6456225622768454.\u001b[0m\n",
      "\u001b[32m[I 2021-12-25 21:45:05,452]\u001b[0m Trial 9 finished with value: 2.989457433094882 and parameters: {'learning_rate': 0.19604463086928617, 'n_estimators': 120, 'max_depth': 9, 'min_child_weight': 1.404374098571488, 'min_child_samples': 10}. Best is trial 8 with value: 1.6456225622768454.\u001b[0m\n",
      "\u001b[32m[I 2021-12-25 21:45:05,520]\u001b[0m Trial 10 finished with value: 5.602404850097394 and parameters: {'learning_rate': 0.13383622278111862, 'n_estimators': 51, 'max_depth': 9, 'min_child_weight': 1.5676878012804678, 'min_child_samples': 16}. Best is trial 8 with value: 1.6456225622768454.\u001b[0m\n",
      "\u001b[32m[I 2021-12-25 21:45:05,624]\u001b[0m Trial 11 finished with value: 1.1327985695117597 and parameters: {'learning_rate': 0.19898831983804785, 'n_estimators': 176, 'max_depth': 3, 'min_child_weight': 0.5536163037950921, 'min_child_samples': 17}. Best is trial 11 with value: 1.1327985695117597.\u001b[0m\n",
      "\u001b[32m[I 2021-12-25 21:45:05,732]\u001b[0m Trial 12 finished with value: 1.0258297621021477 and parameters: {'learning_rate': 0.19958637103357885, 'n_estimators': 198, 'max_depth': 3, 'min_child_weight': 0.5030290424826855, 'min_child_samples': 5}. Best is trial 12 with value: 1.0258297621021477.\u001b[0m\n",
      "\u001b[32m[I 2021-12-25 21:45:05,863]\u001b[0m Trial 13 finished with value: 1.0611257186181435 and parameters: {'learning_rate': 0.19790531466125508, 'n_estimators': 200, 'max_depth': 3, 'min_child_weight': 0.5191117462952743, 'min_child_samples': 5}. Best is trial 12 with value: 1.0258297621021477.\u001b[0m\n",
      "\u001b[32m[I 2021-12-25 21:45:05,981]\u001b[0m Trial 14 finished with value: 1.022036510185265 and parameters: {'learning_rate': 0.1475981916636801, 'n_estimators': 194, 'max_depth': 3, 'min_child_weight': 0.5009187482789503, 'min_child_samples': 5}. Best is trial 14 with value: 1.022036510185265.\u001b[0m\n",
      "\u001b[32m[I 2021-12-25 21:45:06,086]\u001b[0m Trial 15 finished with value: 1.3299412677868385 and parameters: {'learning_rate': 0.14494461129559458, 'n_estimators': 200, 'max_depth': 4, 'min_child_weight': 0.6480775359722645, 'min_child_samples': 5}. Best is trial 14 with value: 1.022036510185265.\u001b[0m\n",
      "\u001b[32m[I 2021-12-25 21:45:06,209]\u001b[0m Trial 16 finished with value: 1.4548380821933873 and parameters: {'learning_rate': 0.1041437747936691, 'n_estimators': 159, 'max_depth': 4, 'min_child_weight': 0.6341338021878562, 'min_child_samples': 7}. Best is trial 14 with value: 1.022036510185265.\u001b[0m\n",
      "\u001b[32m[I 2021-12-25 21:45:06,283]\u001b[0m Trial 17 finished with value: 10.023762183161757 and parameters: {'learning_rate': 0.14700539078220476, 'n_estimators': 24, 'max_depth': 4, 'min_child_weight': 0.8650033209872603, 'min_child_samples': 8}. Best is trial 14 with value: 1.022036510185265.\u001b[0m\n",
      "\u001b[32m[I 2021-12-25 21:45:06,979]\u001b[0m Trial 18 finished with value: 1.1087848932321434 and parameters: {'learning_rate': 0.17996188342329708, 'n_estimators': 90, 'max_depth': 8, 'min_child_weight': 0.5030602961957354, 'min_child_samples': 6}. Best is trial 14 with value: 1.022036510185265.\u001b[0m\n",
      "\u001b[32m[I 2021-12-25 21:45:07,082]\u001b[0m Trial 19 finished with value: 1.4564437801513763 and parameters: {'learning_rate': 0.11034833662291797, 'n_estimators': 173, 'max_depth': 3, 'min_child_weight': 0.6345138342052928, 'min_child_samples': 7}. Best is trial 14 with value: 1.022036510185265.\u001b[0m\n",
      "\u001b[32m[I 2021-12-25 21:45:07,197]\u001b[0m Trial 20 finished with value: 1.197938007321651 and parameters: {'learning_rate': 0.1554867033573704, 'n_estimators': 141, 'max_depth': 7, 'min_child_weight': 0.5844842050576009, 'min_child_samples': 11}. Best is trial 14 with value: 1.022036510185265.\u001b[0m\n",
      "\u001b[32m[I 2021-12-25 21:45:07,514]\u001b[0m Trial 21 finished with value: 1.8982811275967295 and parameters: {'learning_rate': 0.13575700926921258, 'n_estimators': 187, 'max_depth': 4, 'min_child_weight': 0.9130769678533267, 'min_child_samples': 5}. Best is trial 14 with value: 1.022036510185265.\u001b[0m\n",
      "\u001b[32m[I 2021-12-25 21:45:07,968]\u001b[0m Trial 22 finished with value: 1.0599418990431868 and parameters: {'learning_rate': 0.1798987497185624, 'n_estimators': 198, 'max_depth': 3, 'min_child_weight': 0.5187539680341177, 'min_child_samples': 5}. Best is trial 14 with value: 1.022036510185265.\u001b[0m\n",
      "\u001b[32m[I 2021-12-25 21:45:08,068]\u001b[0m Trial 23 finished with value: 1.4714784398859304 and parameters: {'learning_rate': 0.18030287688983881, 'n_estimators': 159, 'max_depth': 3, 'min_child_weight': 0.7139486652912322, 'min_child_samples': 7}. Best is trial 14 with value: 1.022036510185265.\u001b[0m\n",
      "\u001b[32m[I 2021-12-25 21:45:08,176]\u001b[0m Trial 24 finished with value: 1.0338443239433124 and parameters: {'learning_rate': 0.1788418009780454, 'n_estimators': 189, 'max_depth': 4, 'min_child_weight': 0.5053672894663016, 'min_child_samples': 8}. Best is trial 14 with value: 1.022036510185265.\u001b[0m\n",
      "\u001b[32m[I 2021-12-25 21:45:08,536]\u001b[0m Trial 25 finished with value: 1.183599363072044 and parameters: {'learning_rate': 0.1524826330756766, 'n_estimators': 164, 'max_depth': 4, 'min_child_weight': 0.5776867484123005, 'min_child_samples': 8}. Best is trial 14 with value: 1.022036510185265.\u001b[0m\n",
      "\u001b[32m[I 2021-12-25 21:45:08,754]\u001b[0m Trial 26 finished with value: 1.4159003485646995 and parameters: {'learning_rate': 0.18437036711542343, 'n_estimators': 190, 'max_depth': 5, 'min_child_weight': 0.6883901300901946, 'min_child_samples': 6}. Best is trial 14 with value: 1.022036510185265.\u001b[0m\n",
      "\u001b[32m[I 2021-12-25 21:45:08,847]\u001b[0m Trial 27 finished with value: 1.1946970553494372 and parameters: {'learning_rate': 0.17255007005016285, 'n_estimators': 142, 'max_depth': 4, 'min_child_weight': 0.5832652047800443, 'min_child_samples': 9}. Best is trial 14 with value: 1.022036510185265.\u001b[0m\n",
      "\u001b[32m[I 2021-12-25 21:45:08,949]\u001b[0m Trial 28 finished with value: 2.6141696223126103 and parameters: {'learning_rate': 0.12762738724617534, 'n_estimators': 183, 'max_depth': 3, 'min_child_weight': 1.2344882391329244, 'min_child_samples': 15}. Best is trial 14 with value: 1.022036510185265.\u001b[0m\n",
      "\u001b[32m[I 2021-12-25 21:45:09,625]\u001b[0m Trial 29 finished with value: 1.0344485775266934 and parameters: {'learning_rate': 0.1538716409012271, 'n_estimators': 163, 'max_depth': 7, 'min_child_weight': 0.5068146356348388, 'min_child_samples': 6}. Best is trial 14 with value: 1.022036510185265.\u001b[0m\n",
      "\u001b[32m[I 2021-12-25 21:45:09,809]\u001b[0m Trial 30 finished with value: 2.2040737100731005 and parameters: {'learning_rate': 0.17180039598741584, 'n_estimators': 96, 'max_depth': 5, 'min_child_weight': 0.9430078336632389, 'min_child_samples': 8}. Best is trial 14 with value: 1.022036510185265.\u001b[0m\n",
      "\u001b[32m[I 2021-12-25 21:45:09,885]\u001b[0m Trial 31 finished with value: 1.6806874483932133 and parameters: {'learning_rate': 0.1915596840394274, 'n_estimators': 188, 'max_depth': 4, 'min_child_weight': 0.8126092044283514, 'min_child_samples': 7}. Best is trial 14 with value: 1.022036510185265.\u001b[0m\n",
      "\u001b[32m[I 2021-12-25 21:45:09,973]\u001b[0m Trial 32 finished with value: 1.128532211117573 and parameters: {'learning_rate': 0.15255777876087037, 'n_estimators': 171, 'max_depth': 7, 'min_child_weight': 0.5521506740508082, 'min_child_samples': 6}. Best is trial 14 with value: 1.022036510185265.\u001b[0m\n",
      "\u001b[32m[I 2021-12-25 21:45:10,070]\u001b[0m Trial 33 finished with value: 1.0390039902362402 and parameters: {'learning_rate': 0.16326949797564658, 'n_estimators': 153, 'max_depth': 7, 'min_child_weight': 0.5091449507435689, 'min_child_samples': 6}. Best is trial 14 with value: 1.022036510185265.\u001b[0m\n",
      "\u001b[32m[I 2021-12-25 21:45:10,160]\u001b[0m Trial 34 finished with value: 1.2693411123489184 and parameters: {'learning_rate': 0.1384302164473124, 'n_estimators': 180, 'max_depth': 8, 'min_child_weight': 0.618497861949477, 'min_child_samples': 9}. Best is trial 14 with value: 1.022036510185265.\u001b[0m\n",
      "\u001b[32m[I 2021-12-25 21:45:10,243]\u001b[0m Trial 35 finished with value: 1.1041264575211434 and parameters: {'learning_rate': 0.15656089577713042, 'n_estimators': 190, 'max_depth': 8, 'min_child_weight': 0.5407710370826757, 'min_child_samples': 5}. Best is trial 14 with value: 1.022036510185265.\u001b[0m\n",
      "\u001b[32m[I 2021-12-25 21:45:10,324]\u001b[0m Trial 36 finished with value: 1.4370983066088 and parameters: {'learning_rate': 0.14569535885287174, 'n_estimators': 166, 'max_depth': 7, 'min_child_weight': 0.698297557632337, 'min_child_samples': 10}. Best is trial 14 with value: 1.022036510185265.\u001b[0m\n",
      "\u001b[32m[I 2021-12-25 21:45:10,398]\u001b[0m Trial 37 finished with value: 1.2393611318453561 and parameters: {'learning_rate': 0.16588917627851765, 'n_estimators': 132, 'max_depth': 6, 'min_child_weight': 0.60431996646795, 'min_child_samples': 6}. Best is trial 14 with value: 1.022036510185265.\u001b[0m\n",
      "\u001b[32m[I 2021-12-25 21:45:10,472]\u001b[0m Trial 38 finished with value: 4.352940466585306 and parameters: {'learning_rate': 0.12881367147170775, 'n_estimators': 177, 'max_depth': 5, 'min_child_weight': 1.9892303973693464, 'min_child_samples': 8}. Best is trial 14 with value: 1.022036510185265.\u001b[0m\n",
      "\u001b[32m[I 2021-12-25 21:45:10,558]\u001b[0m Trial 39 finished with value: 1.0249332017266939 and parameters: {'learning_rate': 0.1585749257490104, 'n_estimators': 193, 'max_depth': 6, 'min_child_weight': 0.5013561025629181, 'min_child_samples': 14}. Best is trial 14 with value: 1.022036510185265.\u001b[0m\n",
      "\u001b[32m[I 2021-12-25 21:45:10,948]\u001b[0m Trial 40 finished with value: 1.1333761230407031 and parameters: {'learning_rate': 0.17601744874111547, 'n_estimators': 193, 'max_depth': 3, 'min_child_weight': 0.5536117486798325, 'min_child_samples': 15}. Best is trial 14 with value: 1.022036510185265.\u001b[0m\n",
      "\u001b[32m[I 2021-12-25 21:45:11,431]\u001b[0m Trial 41 finished with value: 1.380449024383318 and parameters: {'learning_rate': 0.18636920502844062, 'n_estimators': 182, 'max_depth': 5, 'min_child_weight': 0.6690470444524849, 'min_child_samples': 12}. Best is trial 14 with value: 1.022036510185265.\u001b[0m\n",
      "\u001b[32m[I 2021-12-25 21:45:12,004]\u001b[0m Trial 42 finished with value: 1.0305688617372528 and parameters: {'learning_rate': 0.15955119423208314, 'n_estimators': 199, 'max_depth': 6, 'min_child_weight': 0.5054822148367994, 'min_child_samples': 14}. Best is trial 14 with value: 1.022036510185265.\u001b[0m\n",
      "\u001b[32m[I 2021-12-25 21:45:12,887]\u001b[0m Trial 43 finished with value: 1.117163283044191 and parameters: {'learning_rate': 0.16060434573705118, 'n_estimators': 194, 'max_depth': 6, 'min_child_weight': 0.5459550084259577, 'min_child_samples': 14}. Best is trial 14 with value: 1.022036510185265.\u001b[0m\n",
      "\u001b[32m[I 2021-12-25 21:45:13,322]\u001b[0m Trial 44 finished with value: 1.221420648557531 and parameters: {'learning_rate': 0.16918286701247004, 'n_estimators': 183, 'max_depth': 6, 'min_child_weight': 0.5966509617407396, 'min_child_samples': 13}. Best is trial 14 with value: 1.022036510185265.\u001b[0m\n",
      "\u001b[32m[I 2021-12-25 21:45:13,410]\u001b[0m Trial 45 finished with value: 1.5103652656567503 and parameters: {'learning_rate': 0.19096297518418756, 'n_estimators': 172, 'max_depth': 3, 'min_child_weight': 0.7318917708460849, 'min_child_samples': 17}. Best is trial 14 with value: 1.022036510185265.\u001b[0m\n",
      "\u001b[32m[I 2021-12-25 21:45:13,493]\u001b[0m Trial 46 finished with value: 1.5590134771565705 and parameters: {'learning_rate': 0.1605544429041715, 'n_estimators': 68, 'max_depth': 4, 'min_child_weight': 0.5325459927718835, 'min_child_samples': 14}. Best is trial 14 with value: 1.022036510185265.\u001b[0m\n",
      "\u001b[32m[I 2021-12-25 21:45:13,594]\u001b[0m Trial 47 finished with value: 2.5491537569837286 and parameters: {'learning_rate': 0.14113496907162487, 'n_estimators': 197, 'max_depth': 5, 'min_child_weight': 1.2083505494077262, 'min_child_samples': 11}. Best is trial 14 with value: 1.022036510185265.\u001b[0m\n",
      "\u001b[32m[I 2021-12-25 21:45:13,709]\u001b[0m Trial 48 finished with value: 1.0352989807448254 and parameters: {'learning_rate': 0.14901764937263778, 'n_estimators': 154, 'max_depth': 6, 'min_child_weight': 0.5064929763874491, 'min_child_samples': 14}. Best is trial 14 with value: 1.022036510185265.\u001b[0m\n",
      "\u001b[32m[I 2021-12-25 21:45:13,793]\u001b[0m Trial 49 finished with value: 1.358946207747533 and parameters: {'learning_rate': 0.16594393267435606, 'n_estimators': 110, 'max_depth': 3, 'min_child_weight': 0.5679736648533984, 'min_child_samples': 17}. Best is trial 14 with value: 1.022036510185265.\u001b[0m\n",
      "\u001b[32m[I 2021-12-25 21:45:13,879]\u001b[0m Trial 50 finished with value: 1.3402277160434242 and parameters: {'learning_rate': 0.1957269308998792, 'n_estimators': 170, 'max_depth': 4, 'min_child_weight': 0.6524726790395939, 'min_child_samples': 15}. Best is trial 14 with value: 1.022036510185265.\u001b[0m\n",
      "\u001b[32m[I 2021-12-25 21:45:13,981]\u001b[0m Trial 51 finished with value: 1.2524722360443576 and parameters: {'learning_rate': 0.17548065894530193, 'n_estimators': 200, 'max_depth': 6, 'min_child_weight': 0.6109154961346962, 'min_child_samples': 12}. Best is trial 14 with value: 1.022036510185265.\u001b[0m\n",
      "\u001b[32m[I 2021-12-25 21:45:14,089]\u001b[0m Trial 52 finished with value: 1.0387654248045188 and parameters: {'learning_rate': 0.1502863131895826, 'n_estimators': 187, 'max_depth': 7, 'min_child_weight': 0.5080004097489889, 'min_child_samples': 16}. Best is trial 14 with value: 1.022036510185265.\u001b[0m\n",
      "\u001b[32m[I 2021-12-25 21:45:14,191]\u001b[0m Trial 53 finished with value: 3.920965057956617 and parameters: {'learning_rate': 0.14309293191460934, 'n_estimators': 178, 'max_depth': 8, 'min_child_weight': 1.8083453781176997, 'min_child_samples': 20}. Best is trial 14 with value: 1.022036510185265.\u001b[0m\n",
      "\u001b[32m[I 2021-12-25 21:45:14,294]\u001b[0m Trial 54 finished with value: 1.0254979368443657 and parameters: {'learning_rate': 0.15717749022187416, 'n_estimators': 191, 'max_depth': 7, 'min_child_weight': 0.5020963636882775, 'min_child_samples': 5}. Best is trial 14 with value: 1.022036510185265.\u001b[0m\n",
      "\u001b[32m[I 2021-12-25 21:45:14,398]\u001b[0m Trial 55 finished with value: 1.1076873644127168 and parameters: {'learning_rate': 0.15697160035673122, 'n_estimators': 194, 'max_depth': 6, 'min_child_weight': 0.5410282605876855, 'min_child_samples': 5}. Best is trial 14 with value: 1.022036510185265.\u001b[0m\n",
      "\u001b[32m[I 2021-12-25 21:45:14,500]\u001b[0m Trial 56 finished with value: 1.182306300969509 and parameters: {'learning_rate': 0.16144799549222816, 'n_estimators': 185, 'max_depth': 5, 'min_child_weight': 0.5775247511119376, 'min_child_samples': 13}. Best is trial 14 with value: 1.022036510185265.\u001b[0m\n",
      "\u001b[32m[I 2021-12-25 21:45:14,594]\u001b[0m Trial 57 finished with value: 1.0787081809754184 and parameters: {'learning_rate': 0.1827005175264956, 'n_estimators': 200, 'max_depth': 3, 'min_child_weight': 0.5281837294846455, 'min_child_samples': 7}. Best is trial 14 with value: 1.022036510185265.\u001b[0m\n",
      "\u001b[32m[I 2021-12-25 21:45:14,727]\u001b[0m Trial 58 finished with value: 1.160587466154987 and parameters: {'learning_rate': 0.11510229208382536, 'n_estimators': 192, 'max_depth': 9, 'min_child_weight': 0.5679112714999084, 'min_child_samples': 5}. Best is trial 14 with value: 1.022036510185265.\u001b[0m\n",
      "\u001b[32m[I 2021-12-25 21:45:14,793]\u001b[0m Trial 59 finished with value: 8.196006953542373 and parameters: {'learning_rate': 0.1653420995715621, 'n_estimators': 28, 'max_depth': 3, 'min_child_weight': 0.5203377314976685, 'min_child_samples': 11}. Best is trial 14 with value: 1.022036510185265.\u001b[0m\n",
      "\u001b[32m[I 2021-12-25 21:45:14,894]\u001b[0m Trial 60 finished with value: 1.0226819441131203 and parameters: {'learning_rate': 0.15680479514066425, 'n_estimators': 176, 'max_depth': 7, 'min_child_weight': 0.500728063065306, 'min_child_samples': 9}. Best is trial 14 with value: 1.022036510185265.\u001b[0m\n",
      "\u001b[32m[I 2021-12-25 21:45:15,018]\u001b[0m Trial 61 finished with value: 1.274852193694994 and parameters: {'learning_rate': 0.1335100278638495, 'n_estimators': 175, 'max_depth': 7, 'min_child_weight': 0.6211100772020567, 'min_child_samples': 9}. Best is trial 14 with value: 1.022036510185265.\u001b[0m\n",
      "\u001b[32m[I 2021-12-25 21:45:15,127]\u001b[0m Trial 62 finished with value: 1.0230186685168898 and parameters: {'learning_rate': 0.15818933290307843, 'n_estimators': 188, 'max_depth': 7, 'min_child_weight': 0.5008323949870496, 'min_child_samples': 10}. Best is trial 14 with value: 1.022036510185265.\u001b[0m\n",
      "\u001b[32m[I 2021-12-25 21:45:15,304]\u001b[0m Trial 63 finished with value: 1.0918575457337327 and parameters: {'learning_rate': 0.1484742659507875, 'n_estimators': 180, 'max_depth': 7, 'min_child_weight': 0.5343008307966371, 'min_child_samples': 10}. Best is trial 14 with value: 1.022036510185265.\u001b[0m\n",
      "\u001b[32m[I 2021-12-25 21:45:15,416]\u001b[0m Trial 64 finished with value: 1.0214161432517925 and parameters: {'learning_rate': 0.1568426842009746, 'n_estimators': 194, 'max_depth': 8, 'min_child_weight': 0.5002691250485406, 'min_child_samples': 13}. Best is trial 64 with value: 1.0214161432517925.\u001b[0m\n",
      "\u001b[32m[I 2021-12-25 21:45:15,527]\u001b[0m Trial 65 finished with value: 1.1729820092069139 and parameters: {'learning_rate': 0.14203766355298258, 'n_estimators': 166, 'max_depth': 8, 'min_child_weight': 0.5727856698939596, 'min_child_samples': 13}. Best is trial 64 with value: 1.0214161432517925.\u001b[0m\n",
      "\u001b[32m[I 2021-12-25 21:45:15,644]\u001b[0m Trial 66 finished with value: 1.0235823082617332 and parameters: {'learning_rate': 0.15117824703785515, 'n_estimators': 188, 'max_depth': 8, 'min_child_weight': 0.5008356899770617, 'min_child_samples': 11}. Best is trial 64 with value: 1.0214161432517925.\u001b[0m\n",
      "\u001b[32m[I 2021-12-25 21:45:15,755]\u001b[0m Trial 67 finished with value: 2.215552473885351 and parameters: {'learning_rate': 0.15121605364731716, 'n_estimators': 187, 'max_depth': 9, 'min_child_weight': 1.0588087632713423, 'min_child_samples': 12}. Best is trial 64 with value: 1.0214161432517925.\u001b[0m\n",
      "\u001b[32m[I 2021-12-25 21:45:15,860]\u001b[0m Trial 68 finished with value: 1.1381896214000726 and parameters: {'learning_rate': 0.15693556207551254, 'n_estimators': 156, 'max_depth': 8, 'min_child_weight': 0.5549028884694297, 'min_child_samples': 11}. Best is trial 64 with value: 1.0214161432517925.\u001b[0m\n",
      "\u001b[32m[I 2021-12-25 21:45:15,962]\u001b[0m Trial 69 finished with value: 1.081431646322453 and parameters: {'learning_rate': 0.14675258374689856, 'n_estimators': 193, 'max_depth': 8, 'min_child_weight': 0.5287423983806601, 'min_child_samples': 10}. Best is trial 64 with value: 1.0214161432517925.\u001b[0m\n",
      "\u001b[32m[I 2021-12-25 21:45:16,074]\u001b[0m Trial 70 finished with value: 1.2175047952691451 and parameters: {'learning_rate': 0.1553051750445197, 'n_estimators': 170, 'max_depth': 8, 'min_child_weight': 0.5931745581215224, 'min_child_samples': 11}. Best is trial 64 with value: 1.0214161432517925.\u001b[0m\n",
      "\u001b[32m[I 2021-12-25 21:45:16,184]\u001b[0m Trial 71 finished with value: 1.0228492989130284 and parameters: {'learning_rate': 0.1526682493174064, 'n_estimators': 148, 'max_depth': 9, 'min_child_weight': 0.5006778480118713, 'min_child_samples': 9}. Best is trial 64 with value: 1.0214161432517925.\u001b[0m\n",
      "\u001b[32m[I 2021-12-25 21:45:16,293]\u001b[0m Trial 72 finished with value: 1.0647276194565345 and parameters: {'learning_rate': 0.15355921221580443, 'n_estimators': 142, 'max_depth': 9, 'min_child_weight': 0.5213556514216195, 'min_child_samples': 9}. Best is trial 64 with value: 1.0214161432517925.\u001b[0m\n",
      "\u001b[32m[I 2021-12-25 21:45:16,396]\u001b[0m Trial 73 finished with value: 1.1114961608762362 and parameters: {'learning_rate': 0.13909540664622821, 'n_estimators': 128, 'max_depth': 9, 'min_child_weight': 0.5028767757158034, 'min_child_samples': 10}. Best is trial 64 with value: 1.0214161432517925.\u001b[0m\n",
      "\u001b[32m[I 2021-12-25 21:45:16,498]\u001b[0m Trial 74 finished with value: 1.149803818744433 and parameters: {'learning_rate': 0.15914921731956316, 'n_estimators': 149, 'max_depth': 7, 'min_child_weight': 0.5613190513321725, 'min_child_samples': 9}. Best is trial 64 with value: 1.0214161432517925.\u001b[0m\n",
      "\u001b[32m[I 2021-12-25 21:45:16,596]\u001b[0m Trial 75 finished with value: 1.1276447041252284 and parameters: {'learning_rate': 0.16843492905436597, 'n_estimators': 177, 'max_depth': 8, 'min_child_weight': 0.5509943085182203, 'min_child_samples': 12}. Best is trial 64 with value: 1.0214161432517925.\u001b[0m\n",
      "\u001b[32m[I 2021-12-25 21:45:16,706]\u001b[0m Trial 76 finished with value: 1.021463765148215 and parameters: {'learning_rate': 0.14563998026848118, 'n_estimators': 162, 'max_depth': 9, 'min_child_weight': 0.5002402339866014, 'min_child_samples': 10}. Best is trial 64 with value: 1.0214161432517925.\u001b[0m\n",
      "\u001b[32m[I 2021-12-25 21:45:16,819]\u001b[0m Trial 77 finished with value: 1.084353645856241 and parameters: {'learning_rate': 0.14517697281987377, 'n_estimators': 161, 'max_depth': 9, 'min_child_weight': 0.5299124857708931, 'min_child_samples': 10}. Best is trial 64 with value: 1.0214161432517925.\u001b[0m\n",
      "\u001b[32m[I 2021-12-25 21:45:16,926]\u001b[0m Trial 78 finished with value: 3.1118190704979583 and parameters: {'learning_rate': 0.15164903054854667, 'n_estimators': 183, 'max_depth': 9, 'min_child_weight': 1.466059046555463, 'min_child_samples': 8}. Best is trial 64 with value: 1.0214161432517925.\u001b[0m\n",
      "\u001b[32m[I 2021-12-25 21:45:17,043]\u001b[0m Trial 79 finished with value: 2.41963371490578 and parameters: {'learning_rate': 0.13503639664646744, 'n_estimators': 166, 'max_depth': 9, 'min_child_weight': 1.1507859146224255, 'min_child_samples': 11}. Best is trial 64 with value: 1.0214161432517925.\u001b[0m\n",
      "\u001b[32m[I 2021-12-25 21:45:17,149]\u001b[0m Trial 80 finished with value: 1.3142936981562992 and parameters: {'learning_rate': 0.1486843852515672, 'n_estimators': 148, 'max_depth': 8, 'min_child_weight': 0.6400659380678656, 'min_child_samples': 10}. Best is trial 64 with value: 1.0214161432517925.\u001b[0m\n",
      "\u001b[32m[I 2021-12-25 21:45:17,265]\u001b[0m Trial 81 finished with value: 1.109803082197641 and parameters: {'learning_rate': 0.1629387718363162, 'n_estimators': 176, 'max_depth': 9, 'min_child_weight': 0.5427203595780888, 'min_child_samples': 9}. Best is trial 64 with value: 1.0214161432517925.\u001b[0m\n",
      "\u001b[32m[I 2021-12-25 21:45:17,375]\u001b[0m Trial 82 finished with value: 1.0501859228638153 and parameters: {'learning_rate': 0.15825660652983098, 'n_estimators': 187, 'max_depth': 7, 'min_child_weight': 0.51441281050915, 'min_child_samples': 13}. Best is trial 64 with value: 1.0214161432517925.\u001b[0m\n",
      "\u001b[32m[I 2021-12-25 21:45:17,482]\u001b[0m Trial 83 finished with value: 1.0279628087090675 and parameters: {'learning_rate': 0.15430606918450196, 'n_estimators': 195, 'max_depth': 7, 'min_child_weight': 0.5031013177887455, 'min_child_samples': 12}. Best is trial 64 with value: 1.0214161432517925.\u001b[0m\n",
      "\u001b[32m[I 2021-12-25 21:45:17,596]\u001b[0m Trial 84 finished with value: 1.2009864609702936 and parameters: {'learning_rate': 0.14696253912399806, 'n_estimators': 190, 'max_depth': 8, 'min_child_weight': 0.5858918594525844, 'min_child_samples': 8}. Best is trial 64 with value: 1.0214161432517925.\u001b[0m\n",
      "\u001b[32m[I 2021-12-25 21:45:17,716]\u001b[0m Trial 85 finished with value: 1.0662973489462635 and parameters: {'learning_rate': 0.1506209315168123, 'n_estimators': 181, 'max_depth': 7, 'min_child_weight': 0.5219913113947017, 'min_child_samples': 7}. Best is trial 64 with value: 1.0214161432517925.\u001b[0m\n",
      "\u001b[32m[I 2021-12-25 21:45:17,832]\u001b[0m Trial 86 finished with value: 1.1155120071473066 and parameters: {'learning_rate': 0.13898507023459875, 'n_estimators': 171, 'max_depth': 8, 'min_child_weight': 0.5448944169324632, 'min_child_samples': 9}. Best is trial 64 with value: 1.0214161432517925.\u001b[0m\n",
      "\u001b[32m[I 2021-12-25 21:45:17,946]\u001b[0m Trial 87 finished with value: 1.069777339229544 and parameters: {'learning_rate': 0.15472686340940572, 'n_estimators': 184, 'max_depth': 9, 'min_child_weight': 0.5240632020895175, 'min_child_samples': 6}. Best is trial 64 with value: 1.0214161432517925.\u001b[0m\n",
      "\u001b[32m[I 2021-12-25 21:45:18,050]\u001b[0m Trial 88 finished with value: 2.2543017771984117 and parameters: {'learning_rate': 0.14342319129900036, 'n_estimators': 112, 'max_depth': 7, 'min_child_weight': 1.000390478396784, 'min_child_samples': 10}. Best is trial 64 with value: 1.0214161432517925.\u001b[0m\n",
      "\u001b[32m[I 2021-12-25 21:45:18,158]\u001b[0m Trial 89 finished with value: 1.026049569994567 and parameters: {'learning_rate': 0.16275803899782001, 'n_estimators': 136, 'max_depth': 9, 'min_child_weight': 0.5019142516930388, 'min_child_samples': 14}. Best is trial 64 with value: 1.0214161432517925.\u001b[0m\n",
      "\u001b[32m[I 2021-12-25 21:45:18,280]\u001b[0m Trial 90 finished with value: 1.6258795635288639 and parameters: {'learning_rate': 0.15281267697407747, 'n_estimators': 190, 'max_depth': 8, 'min_child_weight': 0.7871884662394295, 'min_child_samples': 11}. Best is trial 64 with value: 1.0214161432517925.\u001b[0m\n",
      "\u001b[32m[I 2021-12-25 21:45:18,387]\u001b[0m Trial 91 finished with value: 1.1544839806651135 and parameters: {'learning_rate': 0.167582919235383, 'n_estimators': 196, 'max_depth': 7, 'min_child_weight': 0.5641925120924929, 'min_child_samples': 15}. Best is trial 64 with value: 1.0214161432517925.\u001b[0m\n",
      "\u001b[32m[I 2021-12-25 21:45:18,551]\u001b[0m Trial 92 finished with value: 1.0610959842978593 and parameters: {'learning_rate': 0.12044505190188283, 'n_estimators': 197, 'max_depth': 8, 'min_child_weight': 0.5197262635679214, 'min_child_samples': 6}. Best is trial 64 with value: 1.0214161432517925.\u001b[0m\n",
      "\u001b[32m[I 2021-12-25 21:45:18,681]\u001b[0m Trial 93 finished with value: 1.0954876802172016 and parameters: {'learning_rate': 0.15723237200906498, 'n_estimators': 180, 'max_depth': 7, 'min_child_weight': 0.535278445658885, 'min_child_samples': 5}. Best is trial 64 with value: 1.0214161432517925.\u001b[0m\n",
      "\u001b[32m[I 2021-12-25 21:45:18,815]\u001b[0m Trial 94 finished with value: 1.135063941618872 and parameters: {'learning_rate': 0.17286285525767234, 'n_estimators': 191, 'max_depth': 9, 'min_child_weight': 0.5543823398937728, 'min_child_samples': 6}. Best is trial 64 with value: 1.0214161432517925.\u001b[0m\n",
      "\u001b[32m[I 2021-12-25 21:45:18,932]\u001b[0m Trial 95 finished with value: 1.0236431132054764 and parameters: {'learning_rate': 0.14445001472603106, 'n_estimators': 200, 'max_depth': 6, 'min_child_weight': 0.5010694546422089, 'min_child_samples': 8}. Best is trial 64 with value: 1.0214161432517925.\u001b[0m\n",
      "\u001b[32m[I 2021-12-25 21:45:19,051]\u001b[0m Trial 96 finished with value: 1.0212243098271432 and parameters: {'learning_rate': 0.1441726374320864, 'n_estimators': 186, 'max_depth': 6, 'min_child_weight': 0.5009924546634468, 'min_child_samples': 8}. Best is trial 96 with value: 1.0212243098271432.\u001b[0m\n",
      "\u001b[32m[I 2021-12-25 21:45:19,160]\u001b[0m Trial 97 finished with value: 1.2236316768395485 and parameters: {'learning_rate': 0.14433171459686525, 'n_estimators': 185, 'max_depth': 6, 'min_child_weight': 0.5983287679255599, 'min_child_samples': 8}. Best is trial 96 with value: 1.0212243098271432.\u001b[0m\n",
      "\u001b[32m[I 2021-12-25 21:45:19,276]\u001b[0m Trial 98 finished with value: 1.1117446409935883 and parameters: {'learning_rate': 0.14071440527145063, 'n_estimators': 174, 'max_depth': 6, 'min_child_weight': 0.5435682499579623, 'min_child_samples': 8}. Best is trial 96 with value: 1.0212243098271432.\u001b[0m\n",
      "\u001b[32m[I 2021-12-25 21:45:19,382]\u001b[0m Trial 99 finished with value: 1.056664516548906 and parameters: {'learning_rate': 0.13709330840251666, 'n_estimators': 200, 'max_depth': 6, 'min_child_weight': 0.51721636162752, 'min_child_samples': 9}. Best is trial 96 with value: 1.0212243098271432.\u001b[0m\n",
      "\u001b[32m[I 2021-12-25 21:45:19,494]\u001b[0m Trial 100 finished with value: 1.189354885879848 and parameters: {'learning_rate': 0.13290347711269848, 'n_estimators': 167, 'max_depth': 6, 'min_child_weight': 0.5794765547575657, 'min_child_samples': 7}. Best is trial 96 with value: 1.0212243098271432.\u001b[0m\n"
     ]
    }
   ],
   "metadata": {}
  },
  {
   "cell_type": "code",
   "execution_count": null,
   "source": [
    "best_params = study.best_params"
   ],
   "outputs": [],
   "metadata": {}
  },
  {
   "cell_type": "code",
   "execution_count": null,
   "source": [
    "study.best_value"
   ],
   "outputs": [
    {
     "output_type": "execute_result",
     "data": {
      "text/plain": [
       "1.0212243098271432"
      ]
     },
     "metadata": {},
     "execution_count": 136
    }
   ],
   "metadata": {}
  },
  {
   "cell_type": "code",
   "execution_count": null,
   "source": [
    "classifier = lgb.LGBMClassifier(**study.best_params,subsample=0.8,colsample_bytree=0.8,verbose=-1,num_leaves=80)"
   ],
   "outputs": [],
   "metadata": {}
  },
  {
   "cell_type": "code",
   "execution_count": null,
   "source": [
    "classifier"
   ],
   "outputs": [
    {
     "output_type": "execute_result",
     "data": {
      "text/html": [
       "<style>#sk-4111d2a5-1636-4559-a5fd-b638b157045e {color: black;background-color: white;}#sk-4111d2a5-1636-4559-a5fd-b638b157045e pre{padding: 0;}#sk-4111d2a5-1636-4559-a5fd-b638b157045e div.sk-toggleable {background-color: white;}#sk-4111d2a5-1636-4559-a5fd-b638b157045e label.sk-toggleable__label {cursor: pointer;display: block;width: 100%;margin-bottom: 0;padding: 0.2em 0.3em;box-sizing: border-box;text-align: center;}#sk-4111d2a5-1636-4559-a5fd-b638b157045e div.sk-toggleable__content {max-height: 0;max-width: 0;overflow: hidden;text-align: left;background-color: #f0f8ff;}#sk-4111d2a5-1636-4559-a5fd-b638b157045e div.sk-toggleable__content pre {margin: 0.2em;color: black;border-radius: 0.25em;background-color: #f0f8ff;}#sk-4111d2a5-1636-4559-a5fd-b638b157045e input.sk-toggleable__control:checked~div.sk-toggleable__content {max-height: 200px;max-width: 100%;overflow: auto;}#sk-4111d2a5-1636-4559-a5fd-b638b157045e div.sk-estimator input.sk-toggleable__control:checked~label.sk-toggleable__label {background-color: #d4ebff;}#sk-4111d2a5-1636-4559-a5fd-b638b157045e div.sk-label input.sk-toggleable__control:checked~label.sk-toggleable__label {background-color: #d4ebff;}#sk-4111d2a5-1636-4559-a5fd-b638b157045e input.sk-hidden--visually {border: 0;clip: rect(1px 1px 1px 1px);clip: rect(1px, 1px, 1px, 1px);height: 1px;margin: -1px;overflow: hidden;padding: 0;position: absolute;width: 1px;}#sk-4111d2a5-1636-4559-a5fd-b638b157045e div.sk-estimator {font-family: monospace;background-color: #f0f8ff;margin: 0.25em 0.25em;border: 1px dotted black;border-radius: 0.25em;box-sizing: border-box;}#sk-4111d2a5-1636-4559-a5fd-b638b157045e div.sk-estimator:hover {background-color: #d4ebff;}#sk-4111d2a5-1636-4559-a5fd-b638b157045e div.sk-parallel-item::after {content: \"\";width: 100%;border-bottom: 1px solid gray;flex-grow: 1;}#sk-4111d2a5-1636-4559-a5fd-b638b157045e div.sk-label:hover label.sk-toggleable__label {background-color: #d4ebff;}#sk-4111d2a5-1636-4559-a5fd-b638b157045e div.sk-serial::before {content: \"\";position: absolute;border-left: 1px solid gray;box-sizing: border-box;top: 2em;bottom: 0;left: 50%;}#sk-4111d2a5-1636-4559-a5fd-b638b157045e div.sk-serial {display: flex;flex-direction: column;align-items: center;background-color: white;}#sk-4111d2a5-1636-4559-a5fd-b638b157045e div.sk-item {z-index: 1;}#sk-4111d2a5-1636-4559-a5fd-b638b157045e div.sk-parallel {display: flex;align-items: stretch;justify-content: center;background-color: white;}#sk-4111d2a5-1636-4559-a5fd-b638b157045e div.sk-parallel-item {display: flex;flex-direction: column;position: relative;background-color: white;}#sk-4111d2a5-1636-4559-a5fd-b638b157045e div.sk-parallel-item:first-child::after {align-self: flex-end;width: 50%;}#sk-4111d2a5-1636-4559-a5fd-b638b157045e div.sk-parallel-item:last-child::after {align-self: flex-start;width: 50%;}#sk-4111d2a5-1636-4559-a5fd-b638b157045e div.sk-parallel-item:only-child::after {width: 0;}#sk-4111d2a5-1636-4559-a5fd-b638b157045e div.sk-dashed-wrapped {border: 1px dashed gray;margin: 0.2em;box-sizing: border-box;padding-bottom: 0.1em;background-color: white;position: relative;}#sk-4111d2a5-1636-4559-a5fd-b638b157045e div.sk-label label {font-family: monospace;font-weight: bold;background-color: white;display: inline-block;line-height: 1.2em;}#sk-4111d2a5-1636-4559-a5fd-b638b157045e div.sk-label-container {position: relative;z-index: 2;text-align: center;}#sk-4111d2a5-1636-4559-a5fd-b638b157045e div.sk-container {display: inline-block;position: relative;}</style><div id=\"sk-4111d2a5-1636-4559-a5fd-b638b157045e\" class\"sk-top-container\"><div class=\"sk-container\"><div class=\"sk-item\"><div class=\"sk-estimator sk-toggleable\"><input class=\"sk-toggleable__control sk-hidden--visually\" id=\"d9d77689-fd13-4e23-8a82-e5e07b5420f6\" type=\"checkbox\" checked><label class=\"sk-toggleable__label\" for=\"d9d77689-fd13-4e23-8a82-e5e07b5420f6\">LGBMClassifier</label><div class=\"sk-toggleable__content\"><pre>LGBMClassifier(boosting_type={'learning_rate': 0.1441726374320864,\n",
       "                              'max_depth': 6, 'min_child_samples': 8,\n",
       "                              'min_child_weight': 0.5009924546634468,\n",
       "                              'n_estimators': 186},\n",
       "               colsample_bytree=0.8, num_leaves=80, subsample=0, vebose=-1)</pre></div></div></div></div></div>"
      ],
      "text/plain": [
       "LGBMClassifier(boosting_type={'learning_rate': 0.1441726374320864,\n",
       "                              'max_depth': 6, 'min_child_samples': 8,\n",
       "                              'min_child_weight': 0.5009924546634468,\n",
       "                              'n_estimators': 186},\n",
       "               colsample_bytree=0.8, num_leaves=80, subsample=0, vebose=-1)"
      ]
     },
     "metadata": {},
     "execution_count": 141
    }
   ],
   "metadata": {}
  },
  {
   "cell_type": "code",
   "execution_count": null,
   "source": [
    "classifier.fit(X_train, y_train)"
   ],
   "outputs": [
    {
     "output_type": "execute_result",
     "data": {
      "text/html": [
       "<style>#sk-f127b260-55c1-41db-95fb-68ee933e6347 {color: black;background-color: white;}#sk-f127b260-55c1-41db-95fb-68ee933e6347 pre{padding: 0;}#sk-f127b260-55c1-41db-95fb-68ee933e6347 div.sk-toggleable {background-color: white;}#sk-f127b260-55c1-41db-95fb-68ee933e6347 label.sk-toggleable__label {cursor: pointer;display: block;width: 100%;margin-bottom: 0;padding: 0.2em 0.3em;box-sizing: border-box;text-align: center;}#sk-f127b260-55c1-41db-95fb-68ee933e6347 div.sk-toggleable__content {max-height: 0;max-width: 0;overflow: hidden;text-align: left;background-color: #f0f8ff;}#sk-f127b260-55c1-41db-95fb-68ee933e6347 div.sk-toggleable__content pre {margin: 0.2em;color: black;border-radius: 0.25em;background-color: #f0f8ff;}#sk-f127b260-55c1-41db-95fb-68ee933e6347 input.sk-toggleable__control:checked~div.sk-toggleable__content {max-height: 200px;max-width: 100%;overflow: auto;}#sk-f127b260-55c1-41db-95fb-68ee933e6347 div.sk-estimator input.sk-toggleable__control:checked~label.sk-toggleable__label {background-color: #d4ebff;}#sk-f127b260-55c1-41db-95fb-68ee933e6347 div.sk-label input.sk-toggleable__control:checked~label.sk-toggleable__label {background-color: #d4ebff;}#sk-f127b260-55c1-41db-95fb-68ee933e6347 input.sk-hidden--visually {border: 0;clip: rect(1px 1px 1px 1px);clip: rect(1px, 1px, 1px, 1px);height: 1px;margin: -1px;overflow: hidden;padding: 0;position: absolute;width: 1px;}#sk-f127b260-55c1-41db-95fb-68ee933e6347 div.sk-estimator {font-family: monospace;background-color: #f0f8ff;margin: 0.25em 0.25em;border: 1px dotted black;border-radius: 0.25em;box-sizing: border-box;}#sk-f127b260-55c1-41db-95fb-68ee933e6347 div.sk-estimator:hover {background-color: #d4ebff;}#sk-f127b260-55c1-41db-95fb-68ee933e6347 div.sk-parallel-item::after {content: \"\";width: 100%;border-bottom: 1px solid gray;flex-grow: 1;}#sk-f127b260-55c1-41db-95fb-68ee933e6347 div.sk-label:hover label.sk-toggleable__label {background-color: #d4ebff;}#sk-f127b260-55c1-41db-95fb-68ee933e6347 div.sk-serial::before {content: \"\";position: absolute;border-left: 1px solid gray;box-sizing: border-box;top: 2em;bottom: 0;left: 50%;}#sk-f127b260-55c1-41db-95fb-68ee933e6347 div.sk-serial {display: flex;flex-direction: column;align-items: center;background-color: white;}#sk-f127b260-55c1-41db-95fb-68ee933e6347 div.sk-item {z-index: 1;}#sk-f127b260-55c1-41db-95fb-68ee933e6347 div.sk-parallel {display: flex;align-items: stretch;justify-content: center;background-color: white;}#sk-f127b260-55c1-41db-95fb-68ee933e6347 div.sk-parallel-item {display: flex;flex-direction: column;position: relative;background-color: white;}#sk-f127b260-55c1-41db-95fb-68ee933e6347 div.sk-parallel-item:first-child::after {align-self: flex-end;width: 50%;}#sk-f127b260-55c1-41db-95fb-68ee933e6347 div.sk-parallel-item:last-child::after {align-self: flex-start;width: 50%;}#sk-f127b260-55c1-41db-95fb-68ee933e6347 div.sk-parallel-item:only-child::after {width: 0;}#sk-f127b260-55c1-41db-95fb-68ee933e6347 div.sk-dashed-wrapped {border: 1px dashed gray;margin: 0.2em;box-sizing: border-box;padding-bottom: 0.1em;background-color: white;position: relative;}#sk-f127b260-55c1-41db-95fb-68ee933e6347 div.sk-label label {font-family: monospace;font-weight: bold;background-color: white;display: inline-block;line-height: 1.2em;}#sk-f127b260-55c1-41db-95fb-68ee933e6347 div.sk-label-container {position: relative;z-index: 2;text-align: center;}#sk-f127b260-55c1-41db-95fb-68ee933e6347 div.sk-container {display: inline-block;position: relative;}</style><div id=\"sk-f127b260-55c1-41db-95fb-68ee933e6347\" class\"sk-top-container\"><div class=\"sk-container\"><div class=\"sk-item\"><div class=\"sk-estimator sk-toggleable\"><input class=\"sk-toggleable__control sk-hidden--visually\" id=\"f8237f62-12cd-476d-b862-a2c4e2639ed0\" type=\"checkbox\" checked><label class=\"sk-toggleable__label\" for=\"f8237f62-12cd-476d-b862-a2c4e2639ed0\">LGBMClassifier</label><div class=\"sk-toggleable__content\"><pre>LGBMClassifier(colsample_bytree=0.8, learning_rate=0.1441726374320864,\n",
       "               max_depth=6, min_child_samples=8,\n",
       "               min_child_weight=0.5009924546634468, n_estimators=186,\n",
       "               num_leaves=80, subsample=0.8, verbose=-1)</pre></div></div></div></div></div>"
      ],
      "text/plain": [
       "LGBMClassifier(colsample_bytree=0.8, learning_rate=0.1441726374320864,\n",
       "               max_depth=6, min_child_samples=8,\n",
       "               min_child_weight=0.5009924546634468, n_estimators=186,\n",
       "               num_leaves=80, subsample=0.8, verbose=-1)"
      ]
     },
     "metadata": {},
     "execution_count": 152
    }
   ],
   "metadata": {}
  },
  {
   "cell_type": "code",
   "execution_count": null,
   "source": [
    "classifier.score(X_train, y_train)\n"
   ],
   "outputs": [
    {
     "output_type": "execute_result",
     "data": {
      "text/plain": [
       "1.0"
      ]
     },
     "metadata": {},
     "execution_count": 153
    }
   ],
   "metadata": {}
  },
  {
   "cell_type": "code",
   "execution_count": null,
   "source": [
    "classifier.score(X_test, y_test)\n"
   ],
   "outputs": [
    {
     "output_type": "execute_result",
     "data": {
      "text/plain": [
       "0.9736842105263158"
      ]
     },
     "metadata": {},
     "execution_count": 154
    }
   ],
   "metadata": {}
  },
  {
   "cell_type": "code",
   "execution_count": null,
   "source": [],
   "outputs": [],
   "metadata": {}
  }
 ],
 "metadata": {
  "orig_nbformat": 4,
  "language_info": {
   "name": "python",
   "version": "3.8.8",
   "mimetype": "text/x-python",
   "codemirror_mode": {
    "name": "ipython",
    "version": 3
   },
   "pygments_lexer": "ipython3",
   "nbconvert_exporter": "python",
   "file_extension": ".py"
  },
  "kernelspec": {
   "name": "python3",
   "display_name": "Python 3.8.8 64-bit ('base': conda)"
  },
  "interpreter": {
   "hash": "dca0ade3e726a953b501b15e8e990130d2b7799f14cfd9f4271676035ebe5511"
  }
 },
 "nbformat": 4,
 "nbformat_minor": 2
}