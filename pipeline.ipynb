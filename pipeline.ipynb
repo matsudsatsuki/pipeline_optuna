{
 "cells": [
  {
   "cell_type": "code",
   "execution_count": 39,
   "source": [
    "import numpy as np\n",
    "import pandas as pd"
   ],
   "outputs": [],
   "metadata": {}
  },
  {
   "cell_type": "code",
   "execution_count": 40,
   "source": [
    "#dataset\n",
    "from sklearn.datasets import load_iris,fetch_openml"
   ],
   "outputs": [],
   "metadata": {}
  },
  {
   "cell_type": "code",
   "execution_count": 41,
   "source": [
    "#transformer\n",
    "from sklearn.impute import SimpleImputer\n",
    "from sklearn.preprocessing import StandardScaler,OneHotEncoder,MinMaxScaler,RobustScaler"
   ],
   "outputs": [],
   "metadata": {}
  },
  {
   "cell_type": "code",
   "execution_count": 42,
   "source": [
    "#estimator\n",
    "from sklearn.ensemble import RandomForestClassifier,GradientBoostingClassifier,AdaBoostClassifier\n",
    "from sklearn.linear_model import LogisticRegression\n",
    "from sklearn.svm import SVC,LinearSVC"
   ],
   "outputs": [],
   "metadata": {}
  },
  {
   "cell_type": "code",
   "execution_count": 43,
   "source": [
    "#pipeline\n",
    "from sklearn.compose import ColumnTransformer\n",
    "from sklearn.pipeline import Pipeline\n",
    "from sklearn import set_config"
   ],
   "outputs": [],
   "metadata": {}
  },
  {
   "cell_type": "code",
   "execution_count": 44,
   "source": [
    "from sklearn.model_selection import train_test_split#データセット分割"
   ],
   "outputs": [],
   "metadata": {}
  },
  {
   "cell_type": "code",
   "execution_count": 45,
   "source": [
    "#パラメータ調整\n",
    "from sklearn.model_selection import GridSearchCV,RandomizedSearchCV,ParameterGrid"
   ],
   "outputs": [],
   "metadata": {}
  },
  {
   "cell_type": "code",
   "execution_count": 46,
   "source": [
    "#評価関数\n",
    "from sklearn.metrics import accuracy_score,f1_score"
   ],
   "outputs": [],
   "metadata": {}
  },
  {
   "cell_type": "code",
   "execution_count": 47,
   "source": [
    "X,y = load_iris(as_frame=True,return_X_y=True)"
   ],
   "outputs": [],
   "metadata": {}
  },
  {
   "cell_type": "code",
   "execution_count": 48,
   "source": [
    "X.info()"
   ],
   "outputs": [
    {
     "output_type": "stream",
     "name": "stdout",
     "text": [
      "<class 'pandas.core.frame.DataFrame'>\n",
      "RangeIndex: 150 entries, 0 to 149\n",
      "Data columns (total 4 columns):\n",
      " #   Column             Non-Null Count  Dtype  \n",
      "---  ------             --------------  -----  \n",
      " 0   sepal length (cm)  150 non-null    float64\n",
      " 1   sepal width (cm)   150 non-null    float64\n",
      " 2   petal length (cm)  150 non-null    float64\n",
      " 3   petal width (cm)   150 non-null    float64\n",
      "dtypes: float64(4)\n",
      "memory usage: 4.8 KB\n"
     ]
    }
   ],
   "metadata": {}
  },
  {
   "cell_type": "code",
   "execution_count": 62,
   "source": [
    "#パイプライン構築\n",
    "##特徴量\n",
    "features = ['sepal length (cm)',\n",
    "            'sepal width (cm)',   \n",
    "            'petal length (cm)', \n",
    "            'petal width (cm)']\n",
    "##変換器パイプライン\n",
    "###パイプライン定義\n",
    "transformer = Pipeline(steps=[\n",
    "    ('scaler',StandardScaler()) #特徴量を標準化\n",
    "])\n",
    "###統合（特徴量を変換器にかける）\n",
    "preprocesser = ColumnTransformer(transformers=[\n",
    "    ('transform',transformer,features)\n",
    "])\n",
    "##パイプライン全体：変換器パイプラインから予測器\n",
    "pipeline = Pipeline(steps=[\n",
    "    ('preprocesser',preprocesser),#変換器パイプライン\n",
    "    ('classifier',LogisticRegression())#予測器（推定器）\n",
    "])"
   ],
   "outputs": [],
   "metadata": {}
  },
  {
   "cell_type": "code",
   "execution_count": 50,
   "source": [
    "#パイプライン表示\n",
    "set_config(display='diagram')\n",
    "pipeline"
   ],
   "outputs": [
    {
     "output_type": "execute_result",
     "data": {
      "text/html": [
       "<style>#sk-1c9110ec-972b-424e-8e96-b3ea4e8d87b6 {color: black;background-color: white;}#sk-1c9110ec-972b-424e-8e96-b3ea4e8d87b6 pre{padding: 0;}#sk-1c9110ec-972b-424e-8e96-b3ea4e8d87b6 div.sk-toggleable {background-color: white;}#sk-1c9110ec-972b-424e-8e96-b3ea4e8d87b6 label.sk-toggleable__label {cursor: pointer;display: block;width: 100%;margin-bottom: 0;padding: 0.2em 0.3em;box-sizing: border-box;text-align: center;}#sk-1c9110ec-972b-424e-8e96-b3ea4e8d87b6 div.sk-toggleable__content {max-height: 0;max-width: 0;overflow: hidden;text-align: left;background-color: #f0f8ff;}#sk-1c9110ec-972b-424e-8e96-b3ea4e8d87b6 div.sk-toggleable__content pre {margin: 0.2em;color: black;border-radius: 0.25em;background-color: #f0f8ff;}#sk-1c9110ec-972b-424e-8e96-b3ea4e8d87b6 input.sk-toggleable__control:checked~div.sk-toggleable__content {max-height: 200px;max-width: 100%;overflow: auto;}#sk-1c9110ec-972b-424e-8e96-b3ea4e8d87b6 div.sk-estimator input.sk-toggleable__control:checked~label.sk-toggleable__label {background-color: #d4ebff;}#sk-1c9110ec-972b-424e-8e96-b3ea4e8d87b6 div.sk-label input.sk-toggleable__control:checked~label.sk-toggleable__label {background-color: #d4ebff;}#sk-1c9110ec-972b-424e-8e96-b3ea4e8d87b6 input.sk-hidden--visually {border: 0;clip: rect(1px 1px 1px 1px);clip: rect(1px, 1px, 1px, 1px);height: 1px;margin: -1px;overflow: hidden;padding: 0;position: absolute;width: 1px;}#sk-1c9110ec-972b-424e-8e96-b3ea4e8d87b6 div.sk-estimator {font-family: monospace;background-color: #f0f8ff;margin: 0.25em 0.25em;border: 1px dotted black;border-radius: 0.25em;box-sizing: border-box;}#sk-1c9110ec-972b-424e-8e96-b3ea4e8d87b6 div.sk-estimator:hover {background-color: #d4ebff;}#sk-1c9110ec-972b-424e-8e96-b3ea4e8d87b6 div.sk-parallel-item::after {content: \"\";width: 100%;border-bottom: 1px solid gray;flex-grow: 1;}#sk-1c9110ec-972b-424e-8e96-b3ea4e8d87b6 div.sk-label:hover label.sk-toggleable__label {background-color: #d4ebff;}#sk-1c9110ec-972b-424e-8e96-b3ea4e8d87b6 div.sk-serial::before {content: \"\";position: absolute;border-left: 1px solid gray;box-sizing: border-box;top: 2em;bottom: 0;left: 50%;}#sk-1c9110ec-972b-424e-8e96-b3ea4e8d87b6 div.sk-serial {display: flex;flex-direction: column;align-items: center;background-color: white;}#sk-1c9110ec-972b-424e-8e96-b3ea4e8d87b6 div.sk-item {z-index: 1;}#sk-1c9110ec-972b-424e-8e96-b3ea4e8d87b6 div.sk-parallel {display: flex;align-items: stretch;justify-content: center;background-color: white;}#sk-1c9110ec-972b-424e-8e96-b3ea4e8d87b6 div.sk-parallel-item {display: flex;flex-direction: column;position: relative;background-color: white;}#sk-1c9110ec-972b-424e-8e96-b3ea4e8d87b6 div.sk-parallel-item:first-child::after {align-self: flex-end;width: 50%;}#sk-1c9110ec-972b-424e-8e96-b3ea4e8d87b6 div.sk-parallel-item:last-child::after {align-self: flex-start;width: 50%;}#sk-1c9110ec-972b-424e-8e96-b3ea4e8d87b6 div.sk-parallel-item:only-child::after {width: 0;}#sk-1c9110ec-972b-424e-8e96-b3ea4e8d87b6 div.sk-dashed-wrapped {border: 1px dashed gray;margin: 0.2em;box-sizing: border-box;padding-bottom: 0.1em;background-color: white;position: relative;}#sk-1c9110ec-972b-424e-8e96-b3ea4e8d87b6 div.sk-label label {font-family: monospace;font-weight: bold;background-color: white;display: inline-block;line-height: 1.2em;}#sk-1c9110ec-972b-424e-8e96-b3ea4e8d87b6 div.sk-label-container {position: relative;z-index: 2;text-align: center;}#sk-1c9110ec-972b-424e-8e96-b3ea4e8d87b6 div.sk-container {display: inline-block;position: relative;}</style><div id=\"sk-1c9110ec-972b-424e-8e96-b3ea4e8d87b6\" class\"sk-top-container\"><div class=\"sk-container\"><div class=\"sk-item sk-dashed-wrapped\"><div class=\"sk-label-container\"><div class=\"sk-label sk-toggleable\"><input class=\"sk-toggleable__control sk-hidden--visually\" id=\"24b758a1-bcea-4d75-a48f-c7d593c299ab\" type=\"checkbox\" ><label class=\"sk-toggleable__label\" for=\"24b758a1-bcea-4d75-a48f-c7d593c299ab\">Pipeline</label><div class=\"sk-toggleable__content\"><pre>Pipeline(steps=[('preprocessor',\n",
       "                 ColumnTransformer(transformers=[('transform',\n",
       "                                                  Pipeline(steps=[('scaler',\n",
       "                                                                   StandardScaler())]),\n",
       "                                                  ['sepal length (cm)',\n",
       "                                                   'sepal width (cm)',\n",
       "                                                   'petal length (cm)',\n",
       "                                                   'petal width (cm)'])])),\n",
       "                ('classifier', LogisticRegression())])</pre></div></div></div><div class=\"sk-serial\"><div class=\"sk-item sk-dashed-wrapped\"><div class=\"sk-label-container\"><div class=\"sk-label sk-toggleable\"><input class=\"sk-toggleable__control sk-hidden--visually\" id=\"7f049606-67a9-47b8-8a3d-543e04f68606\" type=\"checkbox\" ><label class=\"sk-toggleable__label\" for=\"7f049606-67a9-47b8-8a3d-543e04f68606\">preprocessor: ColumnTransformer</label><div class=\"sk-toggleable__content\"><pre>ColumnTransformer(transformers=[('transform',\n",
       "                                 Pipeline(steps=[('scaler', StandardScaler())]),\n",
       "                                 ['sepal length (cm)', 'sepal width (cm)',\n",
       "                                  'petal length (cm)', 'petal width (cm)'])])</pre></div></div></div><div class=\"sk-parallel\"><div class=\"sk-parallel-item\"><div class=\"sk-item\"><div class=\"sk-label-container\"><div class=\"sk-label sk-toggleable\"><input class=\"sk-toggleable__control sk-hidden--visually\" id=\"c9d5156f-c734-4528-adfa-a76fda1c3454\" type=\"checkbox\" ><label class=\"sk-toggleable__label\" for=\"c9d5156f-c734-4528-adfa-a76fda1c3454\">transform</label><div class=\"sk-toggleable__content\"><pre>['sepal length (cm)', 'sepal width (cm)', 'petal length (cm)', 'petal width (cm)']</pre></div></div></div><div class=\"sk-serial\"><div class=\"sk-item\"><div class=\"sk-serial\"><div class=\"sk-item\"><div class=\"sk-estimator sk-toggleable\"><input class=\"sk-toggleable__control sk-hidden--visually\" id=\"9ae4be78-a9d1-42be-961f-74ca9c816806\" type=\"checkbox\" ><label class=\"sk-toggleable__label\" for=\"9ae4be78-a9d1-42be-961f-74ca9c816806\">StandardScaler</label><div class=\"sk-toggleable__content\"><pre>StandardScaler()</pre></div></div></div></div></div></div></div></div></div></div><div class=\"sk-item\"><div class=\"sk-estimator sk-toggleable\"><input class=\"sk-toggleable__control sk-hidden--visually\" id=\"3fc21b40-b0d3-455f-89f2-8f3c8eba79b8\" type=\"checkbox\" ><label class=\"sk-toggleable__label\" for=\"3fc21b40-b0d3-455f-89f2-8f3c8eba79b8\">LogisticRegression</label><div class=\"sk-toggleable__content\"><pre>LogisticRegression()</pre></div></div></div></div></div></div></div>"
      ],
      "text/plain": [
       "Pipeline(steps=[('preprocessor',\n",
       "                 ColumnTransformer(transformers=[('transform',\n",
       "                                                  Pipeline(steps=[('scaler',\n",
       "                                                                   StandardScaler())]),\n",
       "                                                  ['sepal length (cm)',\n",
       "                                                   'sepal width (cm)',\n",
       "                                                   'petal length (cm)',\n",
       "                                                   'petal width (cm)'])])),\n",
       "                ('classifier', LogisticRegression())])"
      ]
     },
     "metadata": {},
     "execution_count": 50
    }
   ],
   "metadata": {}
  },
  {
   "cell_type": "code",
   "execution_count": 51,
   "source": [
    "set_config(display='None')"
   ],
   "outputs": [],
   "metadata": {}
  },
  {
   "cell_type": "code",
   "execution_count": 52,
   "source": [
    "X_train,X_test,y_train,y_test = train_test_split(X,y,test_size=0.5)"
   ],
   "outputs": [],
   "metadata": {}
  },
  {
   "cell_type": "code",
   "execution_count": 53,
   "source": [
    "pipeline.fit(X_train,y_train)"
   ],
   "outputs": [
    {
     "output_type": "execute_result",
     "data": {
      "text/plain": [
       "Pipeline(steps=[('preprocessor',\n",
       "                 ColumnTransformer(transformers=[('transform',\n",
       "                                                  Pipeline(steps=[('scaler',\n",
       "                                                                   StandardScaler())]),\n",
       "                                                  ['sepal length (cm)',\n",
       "                                                   'sepal width (cm)',\n",
       "                                                   'petal length (cm)',\n",
       "                                                   'petal width (cm)'])])),\n",
       "                ('classifier', LogisticRegression())])"
      ]
     },
     "metadata": {},
     "execution_count": 53
    }
   ],
   "metadata": {}
  },
  {
   "cell_type": "code",
   "execution_count": 54,
   "source": [
    "y_test_pred = pipeline.predict(X_test)\n",
    "accuracy_score(y_test,y_test_pred)"
   ],
   "outputs": [
    {
     "output_type": "execute_result",
     "data": {
      "text/plain": [
       "0.9333333333333333"
      ]
     },
     "metadata": {},
     "execution_count": 54
    }
   ],
   "metadata": {}
  },
  {
   "cell_type": "code",
   "execution_count": 55,
   "source": [
    "#グリッドサーチの設定　\n",
    "param_grid = [\n",
    "    {\n",
    "        'preprocesser__transform__scaler':[StandardScaler(),MinMaxScaler(),RobustScaler()],\n",
    "        'classifier__C':[0.1,1.0,10.0,100.0],\n",
    "        'classifier':[LogisticRegression()]\n",
    "    }\n",
    "]\n",
    "\n",
    "grid_search = GridSearchCV(pipeline,param_grid,cv=10,verbose=3,n_jobs=-1)"
   ],
   "outputs": [],
   "metadata": {}
  },
  {
   "cell_type": "code",
   "execution_count": 56,
   "source": [
    "grid_search.fit(X_train,y_train)"
   ],
   "outputs": [
    {
     "output_type": "stream",
     "name": "stdout",
     "text": [
      "Fitting 10 folds for each of 12 candidates, totalling 120 fits\n"
     ]
    },
    {
     "output_type": "execute_result",
     "data": {
      "text/plain": [
       "GridSearchCV(cv=10,\n",
       "             estimator=Pipeline(steps=[('preprocessor',\n",
       "                                        ColumnTransformer(transformers=[('transform',\n",
       "                                                                         Pipeline(steps=[('scaler',\n",
       "                                                                                          StandardScaler())]),\n",
       "                                                                         ['sepal '\n",
       "                                                                          'length '\n",
       "                                                                          '(cm)',\n",
       "                                                                          'sepal '\n",
       "                                                                          'width '\n",
       "                                                                          '(cm)',\n",
       "                                                                          'petal '\n",
       "                                                                          'length '\n",
       "                                                                          '(cm)',\n",
       "                                                                          'petal '\n",
       "                                                                          'width '\n",
       "                                                                          '(cm)'])])),\n",
       "                                       ('classifier', LogisticRegression())]),\n",
       "             n_jobs=-1,\n",
       "             param_grid=[{'classifier': [LogisticRegression(C=100.0)],\n",
       "                          'classifier__C': [0.1, 1.0, 10.0, 100.0],\n",
       "                          'preprocessor__transform__scaler': [StandardScaler(),\n",
       "                                                              MinMaxScaler(),\n",
       "                                                              RobustScaler()]}],\n",
       "             verbose=3)"
      ]
     },
     "metadata": {},
     "execution_count": 56
    }
   ],
   "metadata": {}
  },
  {
   "cell_type": "code",
   "execution_count": 57,
   "source": [
    "print(grid_search.best_params_)#最適なパイプライン"
   ],
   "outputs": [
    {
     "output_type": "stream",
     "name": "stdout",
     "text": [
      "{'classifier': LogisticRegression(C=100.0), 'classifier__C': 100.0, 'preprocessor__transform__scaler': MinMaxScaler()}\n"
     ]
    }
   ],
   "metadata": {}
  },
  {
   "cell_type": "code",
   "execution_count": 58,
   "source": [
    "print(grid_search.best_score_)#正答率"
   ],
   "outputs": [
    {
     "output_type": "stream",
     "name": "stdout",
     "text": [
      "0.9857142857142858\n"
     ]
    }
   ],
   "metadata": {}
  },
  {
   "cell_type": "code",
   "execution_count": 59,
   "source": [
    "#テストデータで精度を検証する\n",
    "y_test_pred = grid_search.predict(X_test)\n",
    "print('accuracy :',accuracy_score(y_test,y_test_pred))\n"
   ],
   "outputs": [
    {
     "output_type": "stream",
     "name": "stdout",
     "text": [
      "accuracy : 0.96\n"
     ]
    }
   ],
   "metadata": {}
  },
  {
   "cell_type": "code",
   "execution_count": 60,
   "source": [
    "#ランダムサーチ\n",
    "param_grid = [\n",
    "    {\n",
    "        \"preprocesser__transform__scaler\": [StandardScaler(), MinMaxScaler(), RobustScaler()],       \n",
    "        \"classifier__C\": [0.1, 1.0, 10.0, 100.0],\n",
    "        \"classifier\": [LogisticRegression()]\n",
    "    },\n",
    "    {\n",
    "        \"preprocesser__transform__scaler\": [StandardScaler(), MinMaxScaler(), RobustScaler()],   \n",
    "        \"classifier__n_estimators\": [10, 100, 1000],\n",
    "        \"classifier\": [RandomForestClassifier(), GradientBoostingClassifier(), AdaBoostClassifier()]\n",
    "    },\n",
    "    {\n",
    "        \"preprocesser__transform__scaler\": [StandardScaler(), MinMaxScaler(), RobustScaler()],   \n",
    "        \"classifier__C\": [1, 10, 100, 1000],\n",
    "        \"classifier\": [SVC(),LinearSVC()]\n",
    "    }\n",
    "]\n",
    "\n",
    "rand_search = RandomizedSearchCV(pipeline, param_grid, cv=10, verbose=3, n_jobs=-1, n_iter=10)"
   ],
   "outputs": [],
   "metadata": {}
  },
  {
   "cell_type": "code",
   "execution_count": null,
   "source": [
    "# ランダムサーチの実行\n",
    "rand_search.fit(X_train, y_train)"
   ],
   "outputs": [],
   "metadata": {}
  },
  {
   "cell_type": "code",
   "execution_count": null,
   "source": [
    "# ランダムサーチの結果\n",
    "print(rand_search.best_params_) #最適なパイプライン\n",
    "print(rand_search.best_score_)  #正答率"
   ],
   "outputs": [],
   "metadata": {}
  },
  {
   "cell_type": "code",
   "execution_count": 64,
   "source": [
    "#taitanic\n",
    "X, y = fetch_openml(\"titanic\", version=1, as_frame=True, return_X_y=True)"
   ],
   "outputs": [],
   "metadata": {}
  },
  {
   "cell_type": "code",
   "execution_count": 65,
   "source": [
    "X"
   ],
   "outputs": [
    {
     "output_type": "execute_result",
     "data": {
      "text/html": [
       "<div>\n",
       "<style scoped>\n",
       "    .dataframe tbody tr th:only-of-type {\n",
       "        vertical-align: middle;\n",
       "    }\n",
       "\n",
       "    .dataframe tbody tr th {\n",
       "        vertical-align: top;\n",
       "    }\n",
       "\n",
       "    .dataframe thead th {\n",
       "        text-align: right;\n",
       "    }\n",
       "</style>\n",
       "<table border=\"1\" class=\"dataframe\">\n",
       "  <thead>\n",
       "    <tr style=\"text-align: right;\">\n",
       "      <th></th>\n",
       "      <th>pclass</th>\n",
       "      <th>name</th>\n",
       "      <th>sex</th>\n",
       "      <th>age</th>\n",
       "      <th>sibsp</th>\n",
       "      <th>parch</th>\n",
       "      <th>ticket</th>\n",
       "      <th>fare</th>\n",
       "      <th>cabin</th>\n",
       "      <th>embarked</th>\n",
       "      <th>boat</th>\n",
       "      <th>body</th>\n",
       "      <th>home.dest</th>\n",
       "    </tr>\n",
       "  </thead>\n",
       "  <tbody>\n",
       "    <tr>\n",
       "      <th>0</th>\n",
       "      <td>1.0</td>\n",
       "      <td>Allen, Miss. Elisabeth Walton</td>\n",
       "      <td>female</td>\n",
       "      <td>29.0000</td>\n",
       "      <td>0.0</td>\n",
       "      <td>0.0</td>\n",
       "      <td>24160</td>\n",
       "      <td>211.3375</td>\n",
       "      <td>B5</td>\n",
       "      <td>S</td>\n",
       "      <td>2</td>\n",
       "      <td>NaN</td>\n",
       "      <td>St Louis, MO</td>\n",
       "    </tr>\n",
       "    <tr>\n",
       "      <th>1</th>\n",
       "      <td>1.0</td>\n",
       "      <td>Allison, Master. Hudson Trevor</td>\n",
       "      <td>male</td>\n",
       "      <td>0.9167</td>\n",
       "      <td>1.0</td>\n",
       "      <td>2.0</td>\n",
       "      <td>113781</td>\n",
       "      <td>151.5500</td>\n",
       "      <td>C22 C26</td>\n",
       "      <td>S</td>\n",
       "      <td>11</td>\n",
       "      <td>NaN</td>\n",
       "      <td>Montreal, PQ / Chesterville, ON</td>\n",
       "    </tr>\n",
       "    <tr>\n",
       "      <th>2</th>\n",
       "      <td>1.0</td>\n",
       "      <td>Allison, Miss. Helen Loraine</td>\n",
       "      <td>female</td>\n",
       "      <td>2.0000</td>\n",
       "      <td>1.0</td>\n",
       "      <td>2.0</td>\n",
       "      <td>113781</td>\n",
       "      <td>151.5500</td>\n",
       "      <td>C22 C26</td>\n",
       "      <td>S</td>\n",
       "      <td>None</td>\n",
       "      <td>NaN</td>\n",
       "      <td>Montreal, PQ / Chesterville, ON</td>\n",
       "    </tr>\n",
       "    <tr>\n",
       "      <th>3</th>\n",
       "      <td>1.0</td>\n",
       "      <td>Allison, Mr. Hudson Joshua Creighton</td>\n",
       "      <td>male</td>\n",
       "      <td>30.0000</td>\n",
       "      <td>1.0</td>\n",
       "      <td>2.0</td>\n",
       "      <td>113781</td>\n",
       "      <td>151.5500</td>\n",
       "      <td>C22 C26</td>\n",
       "      <td>S</td>\n",
       "      <td>None</td>\n",
       "      <td>135.0</td>\n",
       "      <td>Montreal, PQ / Chesterville, ON</td>\n",
       "    </tr>\n",
       "    <tr>\n",
       "      <th>4</th>\n",
       "      <td>1.0</td>\n",
       "      <td>Allison, Mrs. Hudson J C (Bessie Waldo Daniels)</td>\n",
       "      <td>female</td>\n",
       "      <td>25.0000</td>\n",
       "      <td>1.0</td>\n",
       "      <td>2.0</td>\n",
       "      <td>113781</td>\n",
       "      <td>151.5500</td>\n",
       "      <td>C22 C26</td>\n",
       "      <td>S</td>\n",
       "      <td>None</td>\n",
       "      <td>NaN</td>\n",
       "      <td>Montreal, PQ / Chesterville, ON</td>\n",
       "    </tr>\n",
       "    <tr>\n",
       "      <th>...</th>\n",
       "      <td>...</td>\n",
       "      <td>...</td>\n",
       "      <td>...</td>\n",
       "      <td>...</td>\n",
       "      <td>...</td>\n",
       "      <td>...</td>\n",
       "      <td>...</td>\n",
       "      <td>...</td>\n",
       "      <td>...</td>\n",
       "      <td>...</td>\n",
       "      <td>...</td>\n",
       "      <td>...</td>\n",
       "      <td>...</td>\n",
       "    </tr>\n",
       "    <tr>\n",
       "      <th>1304</th>\n",
       "      <td>3.0</td>\n",
       "      <td>Zabour, Miss. Hileni</td>\n",
       "      <td>female</td>\n",
       "      <td>14.5000</td>\n",
       "      <td>1.0</td>\n",
       "      <td>0.0</td>\n",
       "      <td>2665</td>\n",
       "      <td>14.4542</td>\n",
       "      <td>None</td>\n",
       "      <td>C</td>\n",
       "      <td>None</td>\n",
       "      <td>328.0</td>\n",
       "      <td>None</td>\n",
       "    </tr>\n",
       "    <tr>\n",
       "      <th>1305</th>\n",
       "      <td>3.0</td>\n",
       "      <td>Zabour, Miss. Thamine</td>\n",
       "      <td>female</td>\n",
       "      <td>NaN</td>\n",
       "      <td>1.0</td>\n",
       "      <td>0.0</td>\n",
       "      <td>2665</td>\n",
       "      <td>14.4542</td>\n",
       "      <td>None</td>\n",
       "      <td>C</td>\n",
       "      <td>None</td>\n",
       "      <td>NaN</td>\n",
       "      <td>None</td>\n",
       "    </tr>\n",
       "    <tr>\n",
       "      <th>1306</th>\n",
       "      <td>3.0</td>\n",
       "      <td>Zakarian, Mr. Mapriededer</td>\n",
       "      <td>male</td>\n",
       "      <td>26.5000</td>\n",
       "      <td>0.0</td>\n",
       "      <td>0.0</td>\n",
       "      <td>2656</td>\n",
       "      <td>7.2250</td>\n",
       "      <td>None</td>\n",
       "      <td>C</td>\n",
       "      <td>None</td>\n",
       "      <td>304.0</td>\n",
       "      <td>None</td>\n",
       "    </tr>\n",
       "    <tr>\n",
       "      <th>1307</th>\n",
       "      <td>3.0</td>\n",
       "      <td>Zakarian, Mr. Ortin</td>\n",
       "      <td>male</td>\n",
       "      <td>27.0000</td>\n",
       "      <td>0.0</td>\n",
       "      <td>0.0</td>\n",
       "      <td>2670</td>\n",
       "      <td>7.2250</td>\n",
       "      <td>None</td>\n",
       "      <td>C</td>\n",
       "      <td>None</td>\n",
       "      <td>NaN</td>\n",
       "      <td>None</td>\n",
       "    </tr>\n",
       "    <tr>\n",
       "      <th>1308</th>\n",
       "      <td>3.0</td>\n",
       "      <td>Zimmerman, Mr. Leo</td>\n",
       "      <td>male</td>\n",
       "      <td>29.0000</td>\n",
       "      <td>0.0</td>\n",
       "      <td>0.0</td>\n",
       "      <td>315082</td>\n",
       "      <td>7.8750</td>\n",
       "      <td>None</td>\n",
       "      <td>S</td>\n",
       "      <td>None</td>\n",
       "      <td>NaN</td>\n",
       "      <td>None</td>\n",
       "    </tr>\n",
       "  </tbody>\n",
       "</table>\n",
       "<p>1309 rows × 13 columns</p>\n",
       "</div>"
      ],
      "text/plain": [
       "      pclass                                             name     sex  \\\n",
       "0        1.0                    Allen, Miss. Elisabeth Walton  female   \n",
       "1        1.0                   Allison, Master. Hudson Trevor    male   \n",
       "2        1.0                     Allison, Miss. Helen Loraine  female   \n",
       "3        1.0             Allison, Mr. Hudson Joshua Creighton    male   \n",
       "4        1.0  Allison, Mrs. Hudson J C (Bessie Waldo Daniels)  female   \n",
       "...      ...                                              ...     ...   \n",
       "1304     3.0                             Zabour, Miss. Hileni  female   \n",
       "1305     3.0                            Zabour, Miss. Thamine  female   \n",
       "1306     3.0                        Zakarian, Mr. Mapriededer    male   \n",
       "1307     3.0                              Zakarian, Mr. Ortin    male   \n",
       "1308     3.0                               Zimmerman, Mr. Leo    male   \n",
       "\n",
       "          age  sibsp  parch  ticket      fare    cabin embarked  boat   body  \\\n",
       "0     29.0000    0.0    0.0   24160  211.3375       B5        S     2    NaN   \n",
       "1      0.9167    1.0    2.0  113781  151.5500  C22 C26        S    11    NaN   \n",
       "2      2.0000    1.0    2.0  113781  151.5500  C22 C26        S  None    NaN   \n",
       "3     30.0000    1.0    2.0  113781  151.5500  C22 C26        S  None  135.0   \n",
       "4     25.0000    1.0    2.0  113781  151.5500  C22 C26        S  None    NaN   \n",
       "...       ...    ...    ...     ...       ...      ...      ...   ...    ...   \n",
       "1304  14.5000    1.0    0.0    2665   14.4542     None        C  None  328.0   \n",
       "1305      NaN    1.0    0.0    2665   14.4542     None        C  None    NaN   \n",
       "1306  26.5000    0.0    0.0    2656    7.2250     None        C  None  304.0   \n",
       "1307  27.0000    0.0    0.0    2670    7.2250     None        C  None    NaN   \n",
       "1308  29.0000    0.0    0.0  315082    7.8750     None        S  None    NaN   \n",
       "\n",
       "                            home.dest  \n",
       "0                        St Louis, MO  \n",
       "1     Montreal, PQ / Chesterville, ON  \n",
       "2     Montreal, PQ / Chesterville, ON  \n",
       "3     Montreal, PQ / Chesterville, ON  \n",
       "4     Montreal, PQ / Chesterville, ON  \n",
       "...                               ...  \n",
       "1304                             None  \n",
       "1305                             None  \n",
       "1306                             None  \n",
       "1307                             None  \n",
       "1308                             None  \n",
       "\n",
       "[1309 rows x 13 columns]"
      ]
     },
     "metadata": {},
     "execution_count": 65
    }
   ],
   "metadata": {}
  },
  {
   "cell_type": "code",
   "execution_count": 66,
   "source": [
    "y"
   ],
   "outputs": [
    {
     "output_type": "execute_result",
     "data": {
      "text/plain": [
       "0       1\n",
       "1       1\n",
       "2       0\n",
       "3       0\n",
       "4       0\n",
       "       ..\n",
       "1304    0\n",
       "1305    0\n",
       "1306    0\n",
       "1307    0\n",
       "1308    0\n",
       "Name: survived, Length: 1309, dtype: category\n",
       "Categories (2, object): ['0', '1']"
      ]
     },
     "metadata": {},
     "execution_count": 66
    }
   ],
   "metadata": {}
  },
  {
   "cell_type": "code",
   "execution_count": 67,
   "source": [
    "y = y.astype('int')"
   ],
   "outputs": [],
   "metadata": {}
  },
  {
   "cell_type": "code",
   "execution_count": 68,
   "source": [
    "y"
   ],
   "outputs": [
    {
     "output_type": "execute_result",
     "data": {
      "text/plain": [
       "0       1\n",
       "1       1\n",
       "2       0\n",
       "3       0\n",
       "4       0\n",
       "       ..\n",
       "1304    0\n",
       "1305    0\n",
       "1306    0\n",
       "1307    0\n",
       "1308    0\n",
       "Name: survived, Length: 1309, dtype: int64"
      ]
     },
     "metadata": {},
     "execution_count": 68
    }
   ],
   "metadata": {}
  },
  {
   "cell_type": "code",
   "execution_count": 92,
   "source": [
    "#パイプライン構築\n",
    "\n",
    "##特徴量\n",
    "numeric_features = [\"age\", \"sibsp\", \"parch\", \"fare\"] \n",
    "categorical_features = [\"sex\", \"pclass\"]  \n",
    "###数値型\n",
    "numeric_transformer = Pipeline(steps=[\n",
    "    ('imputer',SimpleImputer()),#欠損値補完\n",
    "    ('scaler',StandardScaler())#標準化\n",
    "])\n",
    "\n",
    "###カテゴリ型\n",
    "categorical_transformer = OneHotEncoder(handle_unknown='ignore')\n",
    "\n",
    "###特徴量を変換器にかける\n",
    "preprocesser = ColumnTransformer(transformers=[\n",
    "    ('num_transform',numeric_transformer,numeric_features)\n",
    "])\n",
    "\n",
    "pipeline = Pipeline(steps=[#変換器パイプラインから予測器へ\n",
    "    ('preprocesser',preprocesser),\n",
    "    ('classifier',LogisticRegression())\n",
    "])\n",
    "\n",
    "\n"
   ],
   "outputs": [],
   "metadata": {}
  },
  {
   "cell_type": "code",
   "execution_count": 93,
   "source": [
    "X_train,X_test,y_train,y_test = train_test_split(X,y,test_size=0.2)"
   ],
   "outputs": [],
   "metadata": {}
  },
  {
   "cell_type": "code",
   "execution_count": 94,
   "source": [
    "pipeline.fit(X_train,y_train)"
   ],
   "outputs": [
    {
     "output_type": "execute_result",
     "data": {
      "text/html": [
       "<style>#sk-05122046-46f2-4e68-9b78-71e7f1395b09 {color: black;background-color: white;}#sk-05122046-46f2-4e68-9b78-71e7f1395b09 pre{padding: 0;}#sk-05122046-46f2-4e68-9b78-71e7f1395b09 div.sk-toggleable {background-color: white;}#sk-05122046-46f2-4e68-9b78-71e7f1395b09 label.sk-toggleable__label {cursor: pointer;display: block;width: 100%;margin-bottom: 0;padding: 0.2em 0.3em;box-sizing: border-box;text-align: center;}#sk-05122046-46f2-4e68-9b78-71e7f1395b09 div.sk-toggleable__content {max-height: 0;max-width: 0;overflow: hidden;text-align: left;background-color: #f0f8ff;}#sk-05122046-46f2-4e68-9b78-71e7f1395b09 div.sk-toggleable__content pre {margin: 0.2em;color: black;border-radius: 0.25em;background-color: #f0f8ff;}#sk-05122046-46f2-4e68-9b78-71e7f1395b09 input.sk-toggleable__control:checked~div.sk-toggleable__content {max-height: 200px;max-width: 100%;overflow: auto;}#sk-05122046-46f2-4e68-9b78-71e7f1395b09 div.sk-estimator input.sk-toggleable__control:checked~label.sk-toggleable__label {background-color: #d4ebff;}#sk-05122046-46f2-4e68-9b78-71e7f1395b09 div.sk-label input.sk-toggleable__control:checked~label.sk-toggleable__label {background-color: #d4ebff;}#sk-05122046-46f2-4e68-9b78-71e7f1395b09 input.sk-hidden--visually {border: 0;clip: rect(1px 1px 1px 1px);clip: rect(1px, 1px, 1px, 1px);height: 1px;margin: -1px;overflow: hidden;padding: 0;position: absolute;width: 1px;}#sk-05122046-46f2-4e68-9b78-71e7f1395b09 div.sk-estimator {font-family: monospace;background-color: #f0f8ff;margin: 0.25em 0.25em;border: 1px dotted black;border-radius: 0.25em;box-sizing: border-box;}#sk-05122046-46f2-4e68-9b78-71e7f1395b09 div.sk-estimator:hover {background-color: #d4ebff;}#sk-05122046-46f2-4e68-9b78-71e7f1395b09 div.sk-parallel-item::after {content: \"\";width: 100%;border-bottom: 1px solid gray;flex-grow: 1;}#sk-05122046-46f2-4e68-9b78-71e7f1395b09 div.sk-label:hover label.sk-toggleable__label {background-color: #d4ebff;}#sk-05122046-46f2-4e68-9b78-71e7f1395b09 div.sk-serial::before {content: \"\";position: absolute;border-left: 1px solid gray;box-sizing: border-box;top: 2em;bottom: 0;left: 50%;}#sk-05122046-46f2-4e68-9b78-71e7f1395b09 div.sk-serial {display: flex;flex-direction: column;align-items: center;background-color: white;}#sk-05122046-46f2-4e68-9b78-71e7f1395b09 div.sk-item {z-index: 1;}#sk-05122046-46f2-4e68-9b78-71e7f1395b09 div.sk-parallel {display: flex;align-items: stretch;justify-content: center;background-color: white;}#sk-05122046-46f2-4e68-9b78-71e7f1395b09 div.sk-parallel-item {display: flex;flex-direction: column;position: relative;background-color: white;}#sk-05122046-46f2-4e68-9b78-71e7f1395b09 div.sk-parallel-item:first-child::after {align-self: flex-end;width: 50%;}#sk-05122046-46f2-4e68-9b78-71e7f1395b09 div.sk-parallel-item:last-child::after {align-self: flex-start;width: 50%;}#sk-05122046-46f2-4e68-9b78-71e7f1395b09 div.sk-parallel-item:only-child::after {width: 0;}#sk-05122046-46f2-4e68-9b78-71e7f1395b09 div.sk-dashed-wrapped {border: 1px dashed gray;margin: 0.2em;box-sizing: border-box;padding-bottom: 0.1em;background-color: white;position: relative;}#sk-05122046-46f2-4e68-9b78-71e7f1395b09 div.sk-label label {font-family: monospace;font-weight: bold;background-color: white;display: inline-block;line-height: 1.2em;}#sk-05122046-46f2-4e68-9b78-71e7f1395b09 div.sk-label-container {position: relative;z-index: 2;text-align: center;}#sk-05122046-46f2-4e68-9b78-71e7f1395b09 div.sk-container {display: inline-block;position: relative;}</style><div id=\"sk-05122046-46f2-4e68-9b78-71e7f1395b09\" class\"sk-top-container\"><div class=\"sk-container\"><div class=\"sk-item sk-dashed-wrapped\"><div class=\"sk-label-container\"><div class=\"sk-label sk-toggleable\"><input class=\"sk-toggleable__control sk-hidden--visually\" id=\"43f41ec6-bfea-4586-9d2b-6539e2b90421\" type=\"checkbox\" ><label class=\"sk-toggleable__label\" for=\"43f41ec6-bfea-4586-9d2b-6539e2b90421\">Pipeline</label><div class=\"sk-toggleable__content\"><pre>Pipeline(steps=[('preprocesser',\n",
       "                 ColumnTransformer(transformers=[('num_transform',\n",
       "                                                  Pipeline(steps=[('imputer',\n",
       "                                                                   SimpleImputer()),\n",
       "                                                                  ('scaler',\n",
       "                                                                   StandardScaler())]),\n",
       "                                                  ['age', 'sibsp', 'parch',\n",
       "                                                   'fare'])])),\n",
       "                ('classifier', LogisticRegression())])</pre></div></div></div><div class=\"sk-serial\"><div class=\"sk-item sk-dashed-wrapped\"><div class=\"sk-label-container\"><div class=\"sk-label sk-toggleable\"><input class=\"sk-toggleable__control sk-hidden--visually\" id=\"80677d4e-9658-4053-99bd-1a82884f2c58\" type=\"checkbox\" ><label class=\"sk-toggleable__label\" for=\"80677d4e-9658-4053-99bd-1a82884f2c58\">preprocesser: ColumnTransformer</label><div class=\"sk-toggleable__content\"><pre>ColumnTransformer(transformers=[('num_transform',\n",
       "                                 Pipeline(steps=[('imputer', SimpleImputer()),\n",
       "                                                 ('scaler', StandardScaler())]),\n",
       "                                 ['age', 'sibsp', 'parch', 'fare'])])</pre></div></div></div><div class=\"sk-parallel\"><div class=\"sk-parallel-item\"><div class=\"sk-item\"><div class=\"sk-label-container\"><div class=\"sk-label sk-toggleable\"><input class=\"sk-toggleable__control sk-hidden--visually\" id=\"85359952-f8c3-4d93-974e-02d1471fd23d\" type=\"checkbox\" ><label class=\"sk-toggleable__label\" for=\"85359952-f8c3-4d93-974e-02d1471fd23d\">num_transform</label><div class=\"sk-toggleable__content\"><pre>['age', 'sibsp', 'parch', 'fare']</pre></div></div></div><div class=\"sk-serial\"><div class=\"sk-item\"><div class=\"sk-serial\"><div class=\"sk-item\"><div class=\"sk-estimator sk-toggleable\"><input class=\"sk-toggleable__control sk-hidden--visually\" id=\"539f35f8-84ff-4552-a0a9-b9f263db7cb5\" type=\"checkbox\" ><label class=\"sk-toggleable__label\" for=\"539f35f8-84ff-4552-a0a9-b9f263db7cb5\">SimpleImputer</label><div class=\"sk-toggleable__content\"><pre>SimpleImputer()</pre></div></div></div><div class=\"sk-item\"><div class=\"sk-estimator sk-toggleable\"><input class=\"sk-toggleable__control sk-hidden--visually\" id=\"2b81e922-32f2-4d76-890e-33d9c8dfa562\" type=\"checkbox\" ><label class=\"sk-toggleable__label\" for=\"2b81e922-32f2-4d76-890e-33d9c8dfa562\">StandardScaler</label><div class=\"sk-toggleable__content\"><pre>StandardScaler()</pre></div></div></div></div></div></div></div></div></div></div><div class=\"sk-item\"><div class=\"sk-estimator sk-toggleable\"><input class=\"sk-toggleable__control sk-hidden--visually\" id=\"72b928ce-6afa-48cc-80d1-d00e1214532e\" type=\"checkbox\" ><label class=\"sk-toggleable__label\" for=\"72b928ce-6afa-48cc-80d1-d00e1214532e\">LogisticRegression</label><div class=\"sk-toggleable__content\"><pre>LogisticRegression()</pre></div></div></div></div></div></div></div>"
      ],
      "text/plain": [
       "Pipeline(steps=[('preprocesser',\n",
       "                 ColumnTransformer(transformers=[('num_transform',\n",
       "                                                  Pipeline(steps=[('imputer',\n",
       "                                                                   SimpleImputer()),\n",
       "                                                                  ('scaler',\n",
       "                                                                   StandardScaler())]),\n",
       "                                                  ['age', 'sibsp', 'parch',\n",
       "                                                   'fare'])])),\n",
       "                ('classifier', LogisticRegression())])"
      ]
     },
     "metadata": {},
     "execution_count": 94
    }
   ],
   "metadata": {}
  },
  {
   "cell_type": "code",
   "execution_count": 95,
   "source": [
    "y_test_pred1 = pipeline.predict(X_test)\n",
    "print('accuracy',accuracy_score(y_test,y_test_pred1))\n",
    "print('f1',f1_score(y_test,y_test_pred1))"
   ],
   "outputs": [
    {
     "output_type": "stream",
     "name": "stdout",
     "text": [
      "accuracy 0.648854961832061\n",
      "f1 0.28125000000000006\n"
     ]
    }
   ],
   "metadata": {}
  },
  {
   "cell_type": "code",
   "execution_count": null,
   "source": [
    "#optuna\n",
    "import optuna\n",
    "\n",
    "def objective(trial):\n",
    "    x = trial.suggest_uniform('x', -10, 10)\n",
    "    score = (x - 2) ** 2\n",
    "    print('x: %1.3f, score: %1.3f' % (x, score))\n",
    "    return score\n",
    "\n",
    "study = optuna.create_study()\n",
    "study.optimize(objective, n_trials=100)"
   ],
   "outputs": [],
   "metadata": {}
  },
  {
   "cell_type": "code",
   "execution_count": 85,
   "source": [
    "study.best_params"
   ],
   "outputs": [
    {
     "output_type": "execute_result",
     "data": {
      "text/plain": [
       "{'x': 2.0200526150770277}"
      ]
     },
     "metadata": {},
     "execution_count": 85
    }
   ],
   "metadata": {}
  },
  {
   "cell_type": "code",
   "execution_count": 96,
   "source": [
    "# グリッドサーチの設定\n",
    "param_grid = [\n",
    "    {\n",
    "        \"preprocesser__num_transform__imputer__strategy\": [\"mean\", \"median\"],\n",
    "        \"preprocesser__num_transform__scaler\": [StandardScaler(), MinMaxScaler(), RobustScaler()],       \n",
    "        \"classifier__C\": [0.1, 1.0, 10.0, 100.0],\n",
    "        \"classifier\": [LogisticRegression()]\n",
    "    }\n",
    "]\n",
    "grid_search = GridSearchCV(pipeline, param_grid, cv=10, verbose=3,n_jobs=-1)\n"
   ],
   "outputs": [],
   "metadata": {}
  },
  {
   "cell_type": "code",
   "execution_count": 97,
   "source": [
    "grid_search.fit(X_train, y_train)"
   ],
   "outputs": [
    {
     "output_type": "stream",
     "name": "stdout",
     "text": [
      "Fitting 10 folds for each of 24 candidates, totalling 240 fits\n"
     ]
    },
    {
     "output_type": "execute_result",
     "data": {
      "text/html": [
       "<style>#sk-36974d99-e717-4cd6-8784-0bbaa0ff1454 {color: black;background-color: white;}#sk-36974d99-e717-4cd6-8784-0bbaa0ff1454 pre{padding: 0;}#sk-36974d99-e717-4cd6-8784-0bbaa0ff1454 div.sk-toggleable {background-color: white;}#sk-36974d99-e717-4cd6-8784-0bbaa0ff1454 label.sk-toggleable__label {cursor: pointer;display: block;width: 100%;margin-bottom: 0;padding: 0.2em 0.3em;box-sizing: border-box;text-align: center;}#sk-36974d99-e717-4cd6-8784-0bbaa0ff1454 div.sk-toggleable__content {max-height: 0;max-width: 0;overflow: hidden;text-align: left;background-color: #f0f8ff;}#sk-36974d99-e717-4cd6-8784-0bbaa0ff1454 div.sk-toggleable__content pre {margin: 0.2em;color: black;border-radius: 0.25em;background-color: #f0f8ff;}#sk-36974d99-e717-4cd6-8784-0bbaa0ff1454 input.sk-toggleable__control:checked~div.sk-toggleable__content {max-height: 200px;max-width: 100%;overflow: auto;}#sk-36974d99-e717-4cd6-8784-0bbaa0ff1454 div.sk-estimator input.sk-toggleable__control:checked~label.sk-toggleable__label {background-color: #d4ebff;}#sk-36974d99-e717-4cd6-8784-0bbaa0ff1454 div.sk-label input.sk-toggleable__control:checked~label.sk-toggleable__label {background-color: #d4ebff;}#sk-36974d99-e717-4cd6-8784-0bbaa0ff1454 input.sk-hidden--visually {border: 0;clip: rect(1px 1px 1px 1px);clip: rect(1px, 1px, 1px, 1px);height: 1px;margin: -1px;overflow: hidden;padding: 0;position: absolute;width: 1px;}#sk-36974d99-e717-4cd6-8784-0bbaa0ff1454 div.sk-estimator {font-family: monospace;background-color: #f0f8ff;margin: 0.25em 0.25em;border: 1px dotted black;border-radius: 0.25em;box-sizing: border-box;}#sk-36974d99-e717-4cd6-8784-0bbaa0ff1454 div.sk-estimator:hover {background-color: #d4ebff;}#sk-36974d99-e717-4cd6-8784-0bbaa0ff1454 div.sk-parallel-item::after {content: \"\";width: 100%;border-bottom: 1px solid gray;flex-grow: 1;}#sk-36974d99-e717-4cd6-8784-0bbaa0ff1454 div.sk-label:hover label.sk-toggleable__label {background-color: #d4ebff;}#sk-36974d99-e717-4cd6-8784-0bbaa0ff1454 div.sk-serial::before {content: \"\";position: absolute;border-left: 1px solid gray;box-sizing: border-box;top: 2em;bottom: 0;left: 50%;}#sk-36974d99-e717-4cd6-8784-0bbaa0ff1454 div.sk-serial {display: flex;flex-direction: column;align-items: center;background-color: white;}#sk-36974d99-e717-4cd6-8784-0bbaa0ff1454 div.sk-item {z-index: 1;}#sk-36974d99-e717-4cd6-8784-0bbaa0ff1454 div.sk-parallel {display: flex;align-items: stretch;justify-content: center;background-color: white;}#sk-36974d99-e717-4cd6-8784-0bbaa0ff1454 div.sk-parallel-item {display: flex;flex-direction: column;position: relative;background-color: white;}#sk-36974d99-e717-4cd6-8784-0bbaa0ff1454 div.sk-parallel-item:first-child::after {align-self: flex-end;width: 50%;}#sk-36974d99-e717-4cd6-8784-0bbaa0ff1454 div.sk-parallel-item:last-child::after {align-self: flex-start;width: 50%;}#sk-36974d99-e717-4cd6-8784-0bbaa0ff1454 div.sk-parallel-item:only-child::after {width: 0;}#sk-36974d99-e717-4cd6-8784-0bbaa0ff1454 div.sk-dashed-wrapped {border: 1px dashed gray;margin: 0.2em;box-sizing: border-box;padding-bottom: 0.1em;background-color: white;position: relative;}#sk-36974d99-e717-4cd6-8784-0bbaa0ff1454 div.sk-label label {font-family: monospace;font-weight: bold;background-color: white;display: inline-block;line-height: 1.2em;}#sk-36974d99-e717-4cd6-8784-0bbaa0ff1454 div.sk-label-container {position: relative;z-index: 2;text-align: center;}#sk-36974d99-e717-4cd6-8784-0bbaa0ff1454 div.sk-container {display: inline-block;position: relative;}</style><div id=\"sk-36974d99-e717-4cd6-8784-0bbaa0ff1454\" class\"sk-top-container\"><div class=\"sk-container\"><div class=\"sk-item sk-dashed-wrapped\"><div class=\"sk-label-container\"><div class=\"sk-label sk-toggleable\"><input class=\"sk-toggleable__control sk-hidden--visually\" id=\"57b994cf-5317-4860-a3b9-32dfd68792df\" type=\"checkbox\" ><label class=\"sk-toggleable__label\" for=\"57b994cf-5317-4860-a3b9-32dfd68792df\">GridSearchCV</label><div class=\"sk-toggleable__content\"><pre>GridSearchCV(cv=10,\n",
       "             estimator=Pipeline(steps=[('preprocesser',\n",
       "                                        ColumnTransformer(transformers=[('num_transform',\n",
       "                                                                         Pipeline(steps=[('imputer',\n",
       "                                                                                          SimpleImputer()),\n",
       "                                                                                         ('scaler',\n",
       "                                                                                          StandardScaler())]),\n",
       "                                                                         ['age',\n",
       "                                                                          'sibsp',\n",
       "                                                                          'parch',\n",
       "                                                                          'fare'])])),\n",
       "                                       ('classifier', LogisticRegression())]),\n",
       "             n_jobs=-1,\n",
       "             param_grid=[{'classifier': [LogisticRegression()],\n",
       "                          'classifier__C': [0.1, 1.0, 10.0, 100.0],\n",
       "                          'preprocesser__num_transform__imputer__strategy': ['mean',\n",
       "                                                                             'median'],\n",
       "                          'preprocesser__num_transform__scaler': [StandardScaler(),\n",
       "                                                                  MinMaxScaler(),\n",
       "                                                                  RobustScaler()]}],\n",
       "             verbose=3)</pre></div></div></div><div class=\"sk-parallel\"><div class=\"sk-parallel-item\"><div class=\"sk-item\"><div class=\"sk-serial\"><div class=\"sk-item\"><div class=\"sk-serial\"><div class=\"sk-item sk-dashed-wrapped\"><div class=\"sk-label-container\"><div class=\"sk-label sk-toggleable\"><input class=\"sk-toggleable__control sk-hidden--visually\" id=\"e2db7d2b-0e29-4971-a9a1-602ade58543a\" type=\"checkbox\" ><label class=\"sk-toggleable__label\" for=\"e2db7d2b-0e29-4971-a9a1-602ade58543a\">preprocesser: ColumnTransformer</label><div class=\"sk-toggleable__content\"><pre>ColumnTransformer(transformers=[('num_transform',\n",
       "                                 Pipeline(steps=[('imputer', SimpleImputer()),\n",
       "                                                 ('scaler', StandardScaler())]),\n",
       "                                 ['age', 'sibsp', 'parch', 'fare'])])</pre></div></div></div><div class=\"sk-parallel\"><div class=\"sk-parallel-item\"><div class=\"sk-item\"><div class=\"sk-label-container\"><div class=\"sk-label sk-toggleable\"><input class=\"sk-toggleable__control sk-hidden--visually\" id=\"3e389763-f235-460d-affe-1a9ecc8f5334\" type=\"checkbox\" ><label class=\"sk-toggleable__label\" for=\"3e389763-f235-460d-affe-1a9ecc8f5334\">num_transform</label><div class=\"sk-toggleable__content\"><pre>['age', 'sibsp', 'parch', 'fare']</pre></div></div></div><div class=\"sk-serial\"><div class=\"sk-item\"><div class=\"sk-serial\"><div class=\"sk-item\"><div class=\"sk-estimator sk-toggleable\"><input class=\"sk-toggleable__control sk-hidden--visually\" id=\"691ac82c-af36-4c97-b1d8-af3c5a2d9505\" type=\"checkbox\" ><label class=\"sk-toggleable__label\" for=\"691ac82c-af36-4c97-b1d8-af3c5a2d9505\">SimpleImputer</label><div class=\"sk-toggleable__content\"><pre>SimpleImputer()</pre></div></div></div><div class=\"sk-item\"><div class=\"sk-estimator sk-toggleable\"><input class=\"sk-toggleable__control sk-hidden--visually\" id=\"265c44db-8094-4aab-aba6-c093f4188217\" type=\"checkbox\" ><label class=\"sk-toggleable__label\" for=\"265c44db-8094-4aab-aba6-c093f4188217\">StandardScaler</label><div class=\"sk-toggleable__content\"><pre>StandardScaler()</pre></div></div></div></div></div></div></div></div></div></div><div class=\"sk-item\"><div class=\"sk-estimator sk-toggleable\"><input class=\"sk-toggleable__control sk-hidden--visually\" id=\"1c7df5d1-a8ba-43a7-a959-1b8b208be69f\" type=\"checkbox\" ><label class=\"sk-toggleable__label\" for=\"1c7df5d1-a8ba-43a7-a959-1b8b208be69f\">LogisticRegression</label><div class=\"sk-toggleable__content\"><pre>LogisticRegression()</pre></div></div></div></div></div></div></div></div></div></div></div></div>"
      ],
      "text/plain": [
       "GridSearchCV(cv=10,\n",
       "             estimator=Pipeline(steps=[('preprocesser',\n",
       "                                        ColumnTransformer(transformers=[('num_transform',\n",
       "                                                                         Pipeline(steps=[('imputer',\n",
       "                                                                                          SimpleImputer()),\n",
       "                                                                                         ('scaler',\n",
       "                                                                                          StandardScaler())]),\n",
       "                                                                         ['age',\n",
       "                                                                          'sibsp',\n",
       "                                                                          'parch',\n",
       "                                                                          'fare'])])),\n",
       "                                       ('classifier', LogisticRegression())]),\n",
       "             n_jobs=-1,\n",
       "             param_grid=[{'classifier': [LogisticRegression()],\n",
       "                          'classifier__C': [0.1, 1.0, 10.0, 100.0],\n",
       "                          'preprocesser__num_transform__imputer__strategy': ['mean',\n",
       "                                                                             'median'],\n",
       "                          'preprocesser__num_transform__scaler': [StandardScaler(),\n",
       "                                                                  MinMaxScaler(),\n",
       "                                                                  RobustScaler()]}],\n",
       "             verbose=3)"
      ]
     },
     "metadata": {},
     "execution_count": 97
    }
   ],
   "metadata": {}
  },
  {
   "cell_type": "code",
   "execution_count": 99,
   "source": [
    "print(grid_search.best_params_) #最適なパイプライン\n",
    "print(grid_search.best_score_)  #正答率\n"
   ],
   "outputs": [
    {
     "output_type": "stream",
     "name": "stdout",
     "text": [
      "{'classifier': LogisticRegression(), 'classifier__C': 1.0, 'preprocesser__num_transform__imputer__strategy': 'mean', 'preprocesser__num_transform__scaler': StandardScaler()}\n",
      "0.6810256410256411\n"
     ]
    }
   ],
   "metadata": {}
  },
  {
   "cell_type": "code",
   "execution_count": 101,
   "source": [
    "# テストデータで精度検証\n",
    "y_test_pred = grid_search.predict(X_test)\n",
    "print('accuracy:',accuracy_score(y_test, y_test_pred))\n",
    "print('f1:', f1_score(y_test, y_test_pred))"
   ],
   "outputs": [
    {
     "output_type": "stream",
     "name": "stdout",
     "text": [
      "accuracy: 0.648854961832061\n",
      "f1: 0.28125000000000006\n"
     ]
    }
   ],
   "metadata": {}
  },
  {
   "cell_type": "code",
   "execution_count": 104,
   "source": [
    "# グリッドサーチの設定その２\n",
    "param_grid = [\n",
    "    {\n",
    "        \"preprocesser__num_transform__imputer__strategy\": [\"mean\", \"median\"],\n",
    "        \"preprocesser__num_transform__scaler\": [StandardScaler(), MinMaxScaler(), RobustScaler()],   \n",
    "        \"classifier__C\": [0.1, 1.0, 10.0, 100.0],\n",
    "        \"classifier\": [LogisticRegression()]\n",
    "    },\n",
    "    {\n",
    "        \"preprocesser__num_transform__imputer__strategy\": [\"mean\", \"median\"],\n",
    "        \"preprocesser__num_transform__scaler\": [StandardScaler(), MinMaxScaler(), RobustScaler()],   \n",
    "        \"classifier__n_estimators\": [10, 100, 1000],\n",
    "        \"classifier\": [RandomForestClassifier(), GradientBoostingClassifier(), AdaBoostClassifier()]\n",
    "    },\n",
    "    {\n",
    "        \"preprocesser__num_transform__imputer__strategy\": [\"mean\", \"median\"],\n",
    "        \"preprocesser__num_transform__scaler\": [StandardScaler(), MinMaxScaler(), RobustScaler()],   \n",
    "        \"classifier__C\": [1, 10, 100, 1000],\n",
    "        \"classifier\": [SVC(),LinearSVC()]\n",
    "    }\n",
    "]\n",
    "grid_search = GridSearchCV(pipeline, param_grid, cv=10, verbose=3,n_jobs=-1)\n"
   ],
   "outputs": [],
   "metadata": {}
  },
  {
   "cell_type": "code",
   "execution_count": 105,
   "source": [
    "grid_search.fit(X_train, y_train)"
   ],
   "outputs": [
    {
     "output_type": "stream",
     "name": "stdout",
     "text": [
      "Fitting 10 folds for each of 126 candidates, totalling 1260 fits\n"
     ]
    },
    {
     "output_type": "execute_result",
     "data": {
      "text/html": [
       "<style>#sk-9c4c5df4-fd2f-4097-8a32-df1934c06538 {color: black;background-color: white;}#sk-9c4c5df4-fd2f-4097-8a32-df1934c06538 pre{padding: 0;}#sk-9c4c5df4-fd2f-4097-8a32-df1934c06538 div.sk-toggleable {background-color: white;}#sk-9c4c5df4-fd2f-4097-8a32-df1934c06538 label.sk-toggleable__label {cursor: pointer;display: block;width: 100%;margin-bottom: 0;padding: 0.2em 0.3em;box-sizing: border-box;text-align: center;}#sk-9c4c5df4-fd2f-4097-8a32-df1934c06538 div.sk-toggleable__content {max-height: 0;max-width: 0;overflow: hidden;text-align: left;background-color: #f0f8ff;}#sk-9c4c5df4-fd2f-4097-8a32-df1934c06538 div.sk-toggleable__content pre {margin: 0.2em;color: black;border-radius: 0.25em;background-color: #f0f8ff;}#sk-9c4c5df4-fd2f-4097-8a32-df1934c06538 input.sk-toggleable__control:checked~div.sk-toggleable__content {max-height: 200px;max-width: 100%;overflow: auto;}#sk-9c4c5df4-fd2f-4097-8a32-df1934c06538 div.sk-estimator input.sk-toggleable__control:checked~label.sk-toggleable__label {background-color: #d4ebff;}#sk-9c4c5df4-fd2f-4097-8a32-df1934c06538 div.sk-label input.sk-toggleable__control:checked~label.sk-toggleable__label {background-color: #d4ebff;}#sk-9c4c5df4-fd2f-4097-8a32-df1934c06538 input.sk-hidden--visually {border: 0;clip: rect(1px 1px 1px 1px);clip: rect(1px, 1px, 1px, 1px);height: 1px;margin: -1px;overflow: hidden;padding: 0;position: absolute;width: 1px;}#sk-9c4c5df4-fd2f-4097-8a32-df1934c06538 div.sk-estimator {font-family: monospace;background-color: #f0f8ff;margin: 0.25em 0.25em;border: 1px dotted black;border-radius: 0.25em;box-sizing: border-box;}#sk-9c4c5df4-fd2f-4097-8a32-df1934c06538 div.sk-estimator:hover {background-color: #d4ebff;}#sk-9c4c5df4-fd2f-4097-8a32-df1934c06538 div.sk-parallel-item::after {content: \"\";width: 100%;border-bottom: 1px solid gray;flex-grow: 1;}#sk-9c4c5df4-fd2f-4097-8a32-df1934c06538 div.sk-label:hover label.sk-toggleable__label {background-color: #d4ebff;}#sk-9c4c5df4-fd2f-4097-8a32-df1934c06538 div.sk-serial::before {content: \"\";position: absolute;border-left: 1px solid gray;box-sizing: border-box;top: 2em;bottom: 0;left: 50%;}#sk-9c4c5df4-fd2f-4097-8a32-df1934c06538 div.sk-serial {display: flex;flex-direction: column;align-items: center;background-color: white;}#sk-9c4c5df4-fd2f-4097-8a32-df1934c06538 div.sk-item {z-index: 1;}#sk-9c4c5df4-fd2f-4097-8a32-df1934c06538 div.sk-parallel {display: flex;align-items: stretch;justify-content: center;background-color: white;}#sk-9c4c5df4-fd2f-4097-8a32-df1934c06538 div.sk-parallel-item {display: flex;flex-direction: column;position: relative;background-color: white;}#sk-9c4c5df4-fd2f-4097-8a32-df1934c06538 div.sk-parallel-item:first-child::after {align-self: flex-end;width: 50%;}#sk-9c4c5df4-fd2f-4097-8a32-df1934c06538 div.sk-parallel-item:last-child::after {align-self: flex-start;width: 50%;}#sk-9c4c5df4-fd2f-4097-8a32-df1934c06538 div.sk-parallel-item:only-child::after {width: 0;}#sk-9c4c5df4-fd2f-4097-8a32-df1934c06538 div.sk-dashed-wrapped {border: 1px dashed gray;margin: 0.2em;box-sizing: border-box;padding-bottom: 0.1em;background-color: white;position: relative;}#sk-9c4c5df4-fd2f-4097-8a32-df1934c06538 div.sk-label label {font-family: monospace;font-weight: bold;background-color: white;display: inline-block;line-height: 1.2em;}#sk-9c4c5df4-fd2f-4097-8a32-df1934c06538 div.sk-label-container {position: relative;z-index: 2;text-align: center;}#sk-9c4c5df4-fd2f-4097-8a32-df1934c06538 div.sk-container {display: inline-block;position: relative;}</style><div id=\"sk-9c4c5df4-fd2f-4097-8a32-df1934c06538\" class\"sk-top-container\"><div class=\"sk-container\"><div class=\"sk-item sk-dashed-wrapped\"><div class=\"sk-label-container\"><div class=\"sk-label sk-toggleable\"><input class=\"sk-toggleable__control sk-hidden--visually\" id=\"09d6e752-bd23-4217-a6cc-d6b0a95fb2a1\" type=\"checkbox\" ><label class=\"sk-toggleable__label\" for=\"09d6e752-bd23-4217-a6cc-d6b0a95fb2a1\">GridSearchCV</label><div class=\"sk-toggleable__content\"><pre>GridSearchCV(cv=10,\n",
       "             estimator=Pipeline(steps=[('preprocesser',\n",
       "                                        ColumnTransformer(transformers=[('num_transform',\n",
       "                                                                         Pipeline(steps=[('imputer',\n",
       "                                                                                          SimpleImputer()),\n",
       "                                                                                         ('scaler',\n",
       "                                                                                          StandardScaler())]),\n",
       "                                                                         ['age',\n",
       "                                                                          'sibsp',\n",
       "                                                                          'parch',\n",
       "                                                                          'fare'])])),\n",
       "                                       ('classifier', LogisticRegression())]),\n",
       "             n_jobs=-1,\n",
       "             param_grid=[{'classifier': [LogisticRegression()],\n",
       "                          'classifier__C': [0.1, 1.0, 10.0, 100....\n",
       "                          'preprocesser__num_transform__imputer__strategy': ['mean',\n",
       "                                                                             'median'],\n",
       "                          'preprocesser__num_transform__scaler': [StandardScaler(),\n",
       "                                                                  MinMaxScaler(),\n",
       "                                                                  RobustScaler()]},\n",
       "                         {'classifier': [SVC(C=100), LinearSVC()],\n",
       "                          'classifier__C': [1, 10, 100, 1000],\n",
       "                          'preprocesser__num_transform__imputer__strategy': ['mean',\n",
       "                                                                             'median'],\n",
       "                          'preprocesser__num_transform__scaler': [StandardScaler(),\n",
       "                                                                  MinMaxScaler(),\n",
       "                                                                  RobustScaler()]}],\n",
       "             verbose=3)</pre></div></div></div><div class=\"sk-parallel\"><div class=\"sk-parallel-item\"><div class=\"sk-item\"><div class=\"sk-serial\"><div class=\"sk-item\"><div class=\"sk-serial\"><div class=\"sk-item sk-dashed-wrapped\"><div class=\"sk-label-container\"><div class=\"sk-label sk-toggleable\"><input class=\"sk-toggleable__control sk-hidden--visually\" id=\"cf3c821c-b6a6-4a5d-b7bf-9f7ea4cfb0c4\" type=\"checkbox\" ><label class=\"sk-toggleable__label\" for=\"cf3c821c-b6a6-4a5d-b7bf-9f7ea4cfb0c4\">preprocesser: ColumnTransformer</label><div class=\"sk-toggleable__content\"><pre>ColumnTransformer(transformers=[('num_transform',\n",
       "                                 Pipeline(steps=[('imputer', SimpleImputer()),\n",
       "                                                 ('scaler', StandardScaler())]),\n",
       "                                 ['age', 'sibsp', 'parch', 'fare'])])</pre></div></div></div><div class=\"sk-parallel\"><div class=\"sk-parallel-item\"><div class=\"sk-item\"><div class=\"sk-label-container\"><div class=\"sk-label sk-toggleable\"><input class=\"sk-toggleable__control sk-hidden--visually\" id=\"bc4b6cf6-4dc2-49dd-a36b-5be008befeb6\" type=\"checkbox\" ><label class=\"sk-toggleable__label\" for=\"bc4b6cf6-4dc2-49dd-a36b-5be008befeb6\">num_transform</label><div class=\"sk-toggleable__content\"><pre>['age', 'sibsp', 'parch', 'fare']</pre></div></div></div><div class=\"sk-serial\"><div class=\"sk-item\"><div class=\"sk-serial\"><div class=\"sk-item\"><div class=\"sk-estimator sk-toggleable\"><input class=\"sk-toggleable__control sk-hidden--visually\" id=\"91b94b27-0c35-41a5-a36d-aaf90d8fa32d\" type=\"checkbox\" ><label class=\"sk-toggleable__label\" for=\"91b94b27-0c35-41a5-a36d-aaf90d8fa32d\">SimpleImputer</label><div class=\"sk-toggleable__content\"><pre>SimpleImputer()</pre></div></div></div><div class=\"sk-item\"><div class=\"sk-estimator sk-toggleable\"><input class=\"sk-toggleable__control sk-hidden--visually\" id=\"b58a4635-edf3-4395-90c9-80fbb01466f5\" type=\"checkbox\" ><label class=\"sk-toggleable__label\" for=\"b58a4635-edf3-4395-90c9-80fbb01466f5\">StandardScaler</label><div class=\"sk-toggleable__content\"><pre>StandardScaler()</pre></div></div></div></div></div></div></div></div></div></div><div class=\"sk-item\"><div class=\"sk-estimator sk-toggleable\"><input class=\"sk-toggleable__control sk-hidden--visually\" id=\"1eee7ccf-3c18-48e1-91db-e953d10af991\" type=\"checkbox\" ><label class=\"sk-toggleable__label\" for=\"1eee7ccf-3c18-48e1-91db-e953d10af991\">LogisticRegression</label><div class=\"sk-toggleable__content\"><pre>LogisticRegression()</pre></div></div></div></div></div></div></div></div></div></div></div></div>"
      ],
      "text/plain": [
       "GridSearchCV(cv=10,\n",
       "             estimator=Pipeline(steps=[('preprocesser',\n",
       "                                        ColumnTransformer(transformers=[('num_transform',\n",
       "                                                                         Pipeline(steps=[('imputer',\n",
       "                                                                                          SimpleImputer()),\n",
       "                                                                                         ('scaler',\n",
       "                                                                                          StandardScaler())]),\n",
       "                                                                         ['age',\n",
       "                                                                          'sibsp',\n",
       "                                                                          'parch',\n",
       "                                                                          'fare'])])),\n",
       "                                       ('classifier', LogisticRegression())]),\n",
       "             n_jobs=-1,\n",
       "             param_grid=[{'classifier': [LogisticRegression()],\n",
       "                          'classifier__C': [0.1, 1.0, 10.0, 100....\n",
       "                          'preprocesser__num_transform__imputer__strategy': ['mean',\n",
       "                                                                             'median'],\n",
       "                          'preprocesser__num_transform__scaler': [StandardScaler(),\n",
       "                                                                  MinMaxScaler(),\n",
       "                                                                  RobustScaler()]},\n",
       "                         {'classifier': [SVC(C=100), LinearSVC()],\n",
       "                          'classifier__C': [1, 10, 100, 1000],\n",
       "                          'preprocesser__num_transform__imputer__strategy': ['mean',\n",
       "                                                                             'median'],\n",
       "                          'preprocesser__num_transform__scaler': [StandardScaler(),\n",
       "                                                                  MinMaxScaler(),\n",
       "                                                                  RobustScaler()]}],\n",
       "             verbose=3)"
      ]
     },
     "metadata": {},
     "execution_count": 105
    }
   ],
   "metadata": {}
  },
  {
   "cell_type": "code",
   "execution_count": 107,
   "source": [
    "# グリッドサーチの結果\n",
    "print(grid_search.best_params_) #最適なパイプライン\n",
    "print(grid_search.best_score_)  #正答率"
   ],
   "outputs": [
    {
     "output_type": "stream",
     "name": "stdout",
     "text": [
      "{'classifier': SVC(C=100), 'classifier__C': 100, 'preprocesser__num_transform__imputer__strategy': 'mean', 'preprocesser__num_transform__scaler': StandardScaler()}\n",
      "0.723919413919414\n"
     ]
    }
   ],
   "metadata": {}
  },
  {
   "cell_type": "code",
   "execution_count": 108,
   "source": [
    "# テストデータで精度検証\n",
    "y_test_pred = grid_search.predict(X_test)\n",
    "print('accuracy:',accuracy_score(y_test, y_test_pred))\n",
    "print('f1:', f1_score(y_test, y_test_pred))\n"
   ],
   "outputs": [
    {
     "output_type": "stream",
     "name": "stdout",
     "text": [
      "accuracy: 0.6984732824427481\n",
      "f1: 0.5269461077844312\n"
     ]
    }
   ],
   "metadata": {}
  },
  {
   "cell_type": "code",
   "execution_count": 110,
   "source": [
    "rand_search = RandomizedSearchCV(pipeline, param_grid, cv=10, verbose=3, n_jobs=-1, n_iter=10)"
   ],
   "outputs": [],
   "metadata": {}
  },
  {
   "cell_type": "code",
   "execution_count": 111,
   "source": [
    "# ランダムサーチの実行\n",
    "rand_search.fit(X_train, y_train)"
   ],
   "outputs": [
    {
     "output_type": "stream",
     "name": "stdout",
     "text": [
      "Fitting 10 folds for each of 10 candidates, totalling 100 fits\n"
     ]
    },
    {
     "output_type": "execute_result",
     "data": {
      "text/html": [
       "<style>#sk-188f61f9-05b8-48f1-8617-ae12cc26220f {color: black;background-color: white;}#sk-188f61f9-05b8-48f1-8617-ae12cc26220f pre{padding: 0;}#sk-188f61f9-05b8-48f1-8617-ae12cc26220f div.sk-toggleable {background-color: white;}#sk-188f61f9-05b8-48f1-8617-ae12cc26220f label.sk-toggleable__label {cursor: pointer;display: block;width: 100%;margin-bottom: 0;padding: 0.2em 0.3em;box-sizing: border-box;text-align: center;}#sk-188f61f9-05b8-48f1-8617-ae12cc26220f div.sk-toggleable__content {max-height: 0;max-width: 0;overflow: hidden;text-align: left;background-color: #f0f8ff;}#sk-188f61f9-05b8-48f1-8617-ae12cc26220f div.sk-toggleable__content pre {margin: 0.2em;color: black;border-radius: 0.25em;background-color: #f0f8ff;}#sk-188f61f9-05b8-48f1-8617-ae12cc26220f input.sk-toggleable__control:checked~div.sk-toggleable__content {max-height: 200px;max-width: 100%;overflow: auto;}#sk-188f61f9-05b8-48f1-8617-ae12cc26220f div.sk-estimator input.sk-toggleable__control:checked~label.sk-toggleable__label {background-color: #d4ebff;}#sk-188f61f9-05b8-48f1-8617-ae12cc26220f div.sk-label input.sk-toggleable__control:checked~label.sk-toggleable__label {background-color: #d4ebff;}#sk-188f61f9-05b8-48f1-8617-ae12cc26220f input.sk-hidden--visually {border: 0;clip: rect(1px 1px 1px 1px);clip: rect(1px, 1px, 1px, 1px);height: 1px;margin: -1px;overflow: hidden;padding: 0;position: absolute;width: 1px;}#sk-188f61f9-05b8-48f1-8617-ae12cc26220f div.sk-estimator {font-family: monospace;background-color: #f0f8ff;margin: 0.25em 0.25em;border: 1px dotted black;border-radius: 0.25em;box-sizing: border-box;}#sk-188f61f9-05b8-48f1-8617-ae12cc26220f div.sk-estimator:hover {background-color: #d4ebff;}#sk-188f61f9-05b8-48f1-8617-ae12cc26220f div.sk-parallel-item::after {content: \"\";width: 100%;border-bottom: 1px solid gray;flex-grow: 1;}#sk-188f61f9-05b8-48f1-8617-ae12cc26220f div.sk-label:hover label.sk-toggleable__label {background-color: #d4ebff;}#sk-188f61f9-05b8-48f1-8617-ae12cc26220f div.sk-serial::before {content: \"\";position: absolute;border-left: 1px solid gray;box-sizing: border-box;top: 2em;bottom: 0;left: 50%;}#sk-188f61f9-05b8-48f1-8617-ae12cc26220f div.sk-serial {display: flex;flex-direction: column;align-items: center;background-color: white;}#sk-188f61f9-05b8-48f1-8617-ae12cc26220f div.sk-item {z-index: 1;}#sk-188f61f9-05b8-48f1-8617-ae12cc26220f div.sk-parallel {display: flex;align-items: stretch;justify-content: center;background-color: white;}#sk-188f61f9-05b8-48f1-8617-ae12cc26220f div.sk-parallel-item {display: flex;flex-direction: column;position: relative;background-color: white;}#sk-188f61f9-05b8-48f1-8617-ae12cc26220f div.sk-parallel-item:first-child::after {align-self: flex-end;width: 50%;}#sk-188f61f9-05b8-48f1-8617-ae12cc26220f div.sk-parallel-item:last-child::after {align-self: flex-start;width: 50%;}#sk-188f61f9-05b8-48f1-8617-ae12cc26220f div.sk-parallel-item:only-child::after {width: 0;}#sk-188f61f9-05b8-48f1-8617-ae12cc26220f div.sk-dashed-wrapped {border: 1px dashed gray;margin: 0.2em;box-sizing: border-box;padding-bottom: 0.1em;background-color: white;position: relative;}#sk-188f61f9-05b8-48f1-8617-ae12cc26220f div.sk-label label {font-family: monospace;font-weight: bold;background-color: white;display: inline-block;line-height: 1.2em;}#sk-188f61f9-05b8-48f1-8617-ae12cc26220f div.sk-label-container {position: relative;z-index: 2;text-align: center;}#sk-188f61f9-05b8-48f1-8617-ae12cc26220f div.sk-container {display: inline-block;position: relative;}</style><div id=\"sk-188f61f9-05b8-48f1-8617-ae12cc26220f\" class\"sk-top-container\"><div class=\"sk-container\"><div class=\"sk-item sk-dashed-wrapped\"><div class=\"sk-label-container\"><div class=\"sk-label sk-toggleable\"><input class=\"sk-toggleable__control sk-hidden--visually\" id=\"e06ac18e-6ec9-4bda-a78b-2524d64e01f4\" type=\"checkbox\" ><label class=\"sk-toggleable__label\" for=\"e06ac18e-6ec9-4bda-a78b-2524d64e01f4\">RandomizedSearchCV</label><div class=\"sk-toggleable__content\"><pre>RandomizedSearchCV(cv=10,\n",
       "                   estimator=Pipeline(steps=[('preprocesser',\n",
       "                                              ColumnTransformer(transformers=[('num_transform',\n",
       "                                                                               Pipeline(steps=[('imputer',\n",
       "                                                                                                SimpleImputer()),\n",
       "                                                                                               ('scaler',\n",
       "                                                                                                StandardScaler())]),\n",
       "                                                                               ['age',\n",
       "                                                                                'sibsp',\n",
       "                                                                                'parch',\n",
       "                                                                                'fare'])])),\n",
       "                                             ('classifier',\n",
       "                                              LogisticRegression())]),\n",
       "                   n_jobs=-1,\n",
       "                   param_distributions=[{'classifier': [LogisticRegression()],\n",
       "                                         'classifier__C': [0....\n",
       "                                         'preprocesser__num_transform__imputer__strategy': ['mean',\n",
       "                                                                                            'median'],\n",
       "                                         'preprocesser__num_transform__scaler': [StandardScaler(),\n",
       "                                                                                 MinMaxScaler(),\n",
       "                                                                                 RobustScaler()]},\n",
       "                                        {'classifier': [SVC(C=100),\n",
       "                                                        LinearSVC()],\n",
       "                                         'classifier__C': [1, 10, 100, 1000],\n",
       "                                         'preprocesser__num_transform__imputer__strategy': ['mean',\n",
       "                                                                                            'median'],\n",
       "                                         'preprocesser__num_transform__scaler': [StandardScaler(),\n",
       "                                                                                 MinMaxScaler(),\n",
       "                                                                                 RobustScaler()]}],\n",
       "                   verbose=3)</pre></div></div></div><div class=\"sk-parallel\"><div class=\"sk-parallel-item\"><div class=\"sk-item\"><div class=\"sk-serial\"><div class=\"sk-item\"><div class=\"sk-serial\"><div class=\"sk-item sk-dashed-wrapped\"><div class=\"sk-label-container\"><div class=\"sk-label sk-toggleable\"><input class=\"sk-toggleable__control sk-hidden--visually\" id=\"6f0530e3-2c2c-48ec-96a0-377d64eee554\" type=\"checkbox\" ><label class=\"sk-toggleable__label\" for=\"6f0530e3-2c2c-48ec-96a0-377d64eee554\">preprocesser: ColumnTransformer</label><div class=\"sk-toggleable__content\"><pre>ColumnTransformer(transformers=[('num_transform',\n",
       "                                 Pipeline(steps=[('imputer', SimpleImputer()),\n",
       "                                                 ('scaler', StandardScaler())]),\n",
       "                                 ['age', 'sibsp', 'parch', 'fare'])])</pre></div></div></div><div class=\"sk-parallel\"><div class=\"sk-parallel-item\"><div class=\"sk-item\"><div class=\"sk-label-container\"><div class=\"sk-label sk-toggleable\"><input class=\"sk-toggleable__control sk-hidden--visually\" id=\"f5f85e04-de37-4e65-86c2-fd5e872aa815\" type=\"checkbox\" ><label class=\"sk-toggleable__label\" for=\"f5f85e04-de37-4e65-86c2-fd5e872aa815\">num_transform</label><div class=\"sk-toggleable__content\"><pre>['age', 'sibsp', 'parch', 'fare']</pre></div></div></div><div class=\"sk-serial\"><div class=\"sk-item\"><div class=\"sk-serial\"><div class=\"sk-item\"><div class=\"sk-estimator sk-toggleable\"><input class=\"sk-toggleable__control sk-hidden--visually\" id=\"d8012988-d100-41c8-8e15-0e89ad98595e\" type=\"checkbox\" ><label class=\"sk-toggleable__label\" for=\"d8012988-d100-41c8-8e15-0e89ad98595e\">SimpleImputer</label><div class=\"sk-toggleable__content\"><pre>SimpleImputer()</pre></div></div></div><div class=\"sk-item\"><div class=\"sk-estimator sk-toggleable\"><input class=\"sk-toggleable__control sk-hidden--visually\" id=\"abc89f47-af22-42d5-8c48-c8a0a0415c85\" type=\"checkbox\" ><label class=\"sk-toggleable__label\" for=\"abc89f47-af22-42d5-8c48-c8a0a0415c85\">StandardScaler</label><div class=\"sk-toggleable__content\"><pre>StandardScaler()</pre></div></div></div></div></div></div></div></div></div></div><div class=\"sk-item\"><div class=\"sk-estimator sk-toggleable\"><input class=\"sk-toggleable__control sk-hidden--visually\" id=\"fa9702da-757d-4265-95c0-02fb46460500\" type=\"checkbox\" ><label class=\"sk-toggleable__label\" for=\"fa9702da-757d-4265-95c0-02fb46460500\">LogisticRegression</label><div class=\"sk-toggleable__content\"><pre>LogisticRegression()</pre></div></div></div></div></div></div></div></div></div></div></div></div>"
      ],
      "text/plain": [
       "RandomizedSearchCV(cv=10,\n",
       "                   estimator=Pipeline(steps=[('preprocesser',\n",
       "                                              ColumnTransformer(transformers=[('num_transform',\n",
       "                                                                               Pipeline(steps=[('imputer',\n",
       "                                                                                                SimpleImputer()),\n",
       "                                                                                               ('scaler',\n",
       "                                                                                                StandardScaler())]),\n",
       "                                                                               ['age',\n",
       "                                                                                'sibsp',\n",
       "                                                                                'parch',\n",
       "                                                                                'fare'])])),\n",
       "                                             ('classifier',\n",
       "                                              LogisticRegression())]),\n",
       "                   n_jobs=-1,\n",
       "                   param_distributions=[{'classifier': [LogisticRegression()],\n",
       "                                         'classifier__C': [0....\n",
       "                                         'preprocesser__num_transform__imputer__strategy': ['mean',\n",
       "                                                                                            'median'],\n",
       "                                         'preprocesser__num_transform__scaler': [StandardScaler(),\n",
       "                                                                                 MinMaxScaler(),\n",
       "                                                                                 RobustScaler()]},\n",
       "                                        {'classifier': [SVC(C=100),\n",
       "                                                        LinearSVC()],\n",
       "                                         'classifier__C': [1, 10, 100, 1000],\n",
       "                                         'preprocesser__num_transform__imputer__strategy': ['mean',\n",
       "                                                                                            'median'],\n",
       "                                         'preprocesser__num_transform__scaler': [StandardScaler(),\n",
       "                                                                                 MinMaxScaler(),\n",
       "                                                                                 RobustScaler()]}],\n",
       "                   verbose=3)"
      ]
     },
     "metadata": {},
     "execution_count": 111
    }
   ],
   "metadata": {}
  },
  {
   "cell_type": "code",
   "execution_count": 113,
   "source": [
    "# ランダムサーチの結果\n",
    "print(rand_search.best_params_) #最適なパイプライン\n",
    "print(rand_search.best_score_)  #正答率"
   ],
   "outputs": [
    {
     "output_type": "stream",
     "name": "stdout",
     "text": [
      "{'preprocesser__num_transform__scaler': StandardScaler(), 'preprocesser__num_transform__imputer__strategy': 'median', 'classifier__n_estimators': 100, 'classifier': AdaBoostClassifier(n_estimators=100)}\n",
      "0.7172802197802198\n"
     ]
    }
   ],
   "metadata": {}
  },
  {
   "cell_type": "code",
   "execution_count": 114,
   "source": [
    "# テストデータで精度検証\n",
    "y_test_pred = rand_search.predict(X_test)\n",
    "print('accuracy:',accuracy_score(y_test, y_test_pred))\n",
    "print('f1:', f1_score(y_test, y_test_pred))"
   ],
   "outputs": [
    {
     "output_type": "stream",
     "name": "stdout",
     "text": [
      "accuracy: 0.6755725190839694\n",
      "f1: 0.5251396648044693\n"
     ]
    }
   ],
   "metadata": {}
  },
  {
   "cell_type": "code",
   "execution_count": null,
   "source": [],
   "outputs": [],
   "metadata": {}
  }
 ],
 "metadata": {
  "orig_nbformat": 4,
  "language_info": {
   "name": "python",
   "version": "3.8.8",
   "mimetype": "text/x-python",
   "codemirror_mode": {
    "name": "ipython",
    "version": 3
   },
   "pygments_lexer": "ipython3",
   "nbconvert_exporter": "python",
   "file_extension": ".py"
  },
  "kernelspec": {
   "name": "python3",
   "display_name": "Python 3.8.8 64-bit ('base': conda)"
  },
  "interpreter": {
   "hash": "dca0ade3e726a953b501b15e8e990130d2b7799f14cfd9f4271676035ebe5511"
  }
 },
 "nbformat": 4,
 "nbformat_minor": 2
}